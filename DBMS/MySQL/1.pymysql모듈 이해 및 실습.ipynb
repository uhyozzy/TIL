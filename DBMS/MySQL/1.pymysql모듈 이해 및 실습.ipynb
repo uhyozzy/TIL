{
 "cells": [
  {
   "cell_type": "markdown",
   "id": "e56ca77d-7f3c-4d47-9838-00753612cd89",
   "metadata": {},
   "source": [
    "# **1.pymysql 모듈 이해 및 실습**"
   ]
  },
  {
   "cell_type": "markdown",
   "id": "43e35cb9-87e2-42a5-829c-12770d8bb187",
   "metadata": {},
   "source": [
    "**Base**"
   ]
  },
  {
   "cell_type": "code",
   "execution_count": 1,
   "id": "e2878963-8cf4-4cad-94d7-d8076281cd5c",
   "metadata": {},
   "outputs": [
    {
     "name": "stdout",
     "output_type": "stream",
     "text": [
      "Requirement already satisfied: pymysql in c:\\python38\\lib\\site-packages (1.1.0)\n"
     ]
    }
   ],
   "source": [
    "!pip install pymysql\n",
    "import pymysql"
   ]
  },
  {
   "cell_type": "markdown",
   "id": "93b7a4b6-8ac2-439d-8904-2be358dc082d",
   "metadata": {},
   "source": [
    "###  **1.1 mysql db client에서 ecommerce db만들고 시작**"
   ]
  },
  {
   "cell_type": "code",
   "execution_count": 2,
   "id": "7038d4fb-b440-4fe2-9146-3bdacb374e74",
   "metadata": {},
   "outputs": [
    {
     "data": {
      "text/plain": [
       "<pymysql.connections.Connection at 0x27ecff96670>"
      ]
     },
     "execution_count": 2,
     "metadata": {},
     "output_type": "execute_result"
    }
   ],
   "source": [
    "#dbms 연결 코드\n",
    "db = pymysql.connect(host='localhost', port=3306, user='root', password='toor',charset='utf8')\n",
    "db"
   ]
  },
  {
   "cell_type": "markdown",
   "id": "642e340b-7de9-4261-9b74-4088d6525fa4",
   "metadata": {},
   "source": [
    "- db 생성\n",
    "- cursor object 가져오기 : cursor=db.cursor()\n",
    "- sql 실행하기 : cursor.execute(SQL)\n",
    "- 실행 mysql서버에 확정 반영하기 : db.commit()"
   ]
  },
  {
   "cell_type": "code",
   "execution_count": 3,
   "id": "169367bf-c23f-46d0-bb45-ef4857e1f623",
   "metadata": {},
   "outputs": [
    {
     "data": {
      "text/plain": [
       "1"
      ]
     },
     "execution_count": 3,
     "metadata": {},
     "output_type": "execute_result"
    }
   ],
   "source": [
    "# Mysql접속이 성공하면, connection 객체로부터 cursor()메서드를 호출하여 cursor객체를 가져옴\n",
    "cursor = db.cursor()\n",
    "sql = 'create database IF NOT EXISTS ecommerce'\n",
    "cursor.execute(sql)"
   ]
  },
  {
   "cell_type": "code",
   "execution_count": 4,
   "id": "77289d90-ef53-45dd-a6d5-18476a3ad1eb",
   "metadata": {},
   "outputs": [
    {
     "data": {
      "text/plain": [
       "(('ecommerce',),\n",
       " ('information_schema',),\n",
       " ('market_db',),\n",
       " ('mysql',),\n",
       " ('performance_schema',),\n",
       " ('sakila',),\n",
       " ('shop_db',),\n",
       " ('sys',),\n",
       " ('tabledb',),\n",
       " ('world',))"
      ]
     },
     "execution_count": 4,
     "metadata": {},
     "output_type": "execute_result"
    }
   ],
   "source": [
    "sql = 'show databases'\n",
    "cursor.execute(sql)\n",
    "result = cursor.fetchall()\n",
    "result"
   ]
  },
  {
   "cell_type": "code",
   "execution_count": 5,
   "id": "8b78536e-b915-43c5-94c9-0db4fd275649",
   "metadata": {},
   "outputs": [
    {
     "data": {
      "text/plain": [
       "0"
      ]
     },
     "execution_count": 5,
     "metadata": {},
     "output_type": "execute_result"
    }
   ],
   "source": [
    "# db변경\n",
    "sql = 'use ecommerce'\n",
    "cursor.execute(sql)"
   ]
  },
  {
   "cell_type": "code",
   "execution_count": 6,
   "id": "a6c41dcf-fc2d-45aa-86bf-55dfe9f9ed8b",
   "metadata": {},
   "outputs": [
    {
     "data": {
      "text/plain": [
       "('ecommerce',)"
      ]
     },
     "execution_count": 6,
     "metadata": {},
     "output_type": "execute_result"
    }
   ],
   "source": [
    "# 현재db 확인\n",
    "sql = 'select database()'\n",
    "cursor.execute(sql)\n",
    "result = cursor.fetchone()\n",
    "result"
   ]
  },
  {
   "cell_type": "markdown",
   "id": "40bccf02-c3ef-4620-a8ad-b022d1055477",
   "metadata": {},
   "source": [
    "**테이블 생성 SQL실행하기 : cursor.execute(SQL)**\n",
    "\n",
    "**실행mysql 서버에 확정 반영하기 : db.commit()**"
   ]
  },
  {
   "cell_type": "code",
   "execution_count": 7,
   "id": "6f936336-a45e-48b3-815f-8ac4466d6270",
   "metadata": {},
   "outputs": [
    {
     "data": {
      "text/plain": [
       "<pymysql.cursors.Cursor at 0x27ecff96af0>"
      ]
     },
     "execution_count": 7,
     "metadata": {},
     "output_type": "execute_result"
    }
   ],
   "source": [
    "cursor"
   ]
  },
  {
   "cell_type": "markdown",
   "id": "7999fd38-be53-4809-8252-fdc940ba1e3d",
   "metadata": {},
   "source": [
    "cursor은 control structure of database임(연결된 객체)"
   ]
  },
  {
   "cell_type": "code",
   "execution_count": 8,
   "id": "5ed3204d-0af4-4f85-a830-2dacbe498f36",
   "metadata": {},
   "outputs": [],
   "source": [
    "sql = \"\"\"\n",
    "    CREATE TABLE product (\n",
    "        PRODUCT_CODE VARCHAR(20) NOT NULL,\n",
    "        TITLE VARCHAR(200) NOT NULL,\n",
    "        ORI_PRICE INT,\n",
    "        DISCOUNT_PRICE INT,\n",
    "        DISCOUNT_PERCENT INT,\n",
    "        DELIVERY VARCHAR(2),\n",
    "        PRIMARY KEY(PRODUCT_CODE)\n",
    "    );\n",
    "\"\"\""
   ]
  },
  {
   "cell_type": "markdown",
   "id": "b1223804-2d4f-4b45-833f-62eaea4a1c87",
   "metadata": {},
   "source": [
    "**SQL실행 (cursor객체의 execute()메서드를 사용해 INSERT,UPDATE,DELETE 문장을 DB 서버에 보냄)**"
   ]
  },
  {
   "cell_type": "code",
   "execution_count": 9,
   "id": "406b69ab-36d6-4276-b55f-2b1768cfb5a5",
   "metadata": {
    "scrolled": true
   },
   "outputs": [
    {
     "data": {
      "text/plain": [
       "0"
      ]
     },
     "execution_count": 9,
     "metadata": {},
     "output_type": "execute_result"
    }
   ],
   "source": [
    "cursor.execute(sql)"
   ]
  },
  {
   "cell_type": "code",
   "execution_count": 10,
   "id": "ea981d58-6a99-424b-9022-5646b938f3e7",
   "metadata": {},
   "outputs": [
    {
     "data": {
      "text/plain": [
       "(('product',),)"
      ]
     },
     "execution_count": 10,
     "metadata": {},
     "output_type": "execute_result"
    }
   ],
   "source": [
    "sql = 'show tables'\n",
    "cursor.execute(sql)\n",
    "result = cursor.fetchall()\n",
    "result"
   ]
  },
  {
   "cell_type": "markdown",
   "id": "a8548d7d-aca5-454b-a822-53de61cdbb11",
   "metadata": {},
   "source": [
    "**삽입, 갱신, 삭제 등이 모두 끝났으면 Connection 객체의 commit() 메서드를 사용해 데이터를 Commit**"
   ]
  },
  {
   "cell_type": "code",
   "execution_count": 11,
   "id": "465cfe26-ce90-47c6-8a52-8d89911698e5",
   "metadata": {},
   "outputs": [],
   "source": [
    "#연결 종료\n",
    "db.close()"
   ]
  },
  {
   "cell_type": "markdown",
   "id": "fa11c06a-ab82-4bf3-8ff9-dba49b3ef38d",
   "metadata": {},
   "source": [
    "###  **1.2 패턴으로 익히는 pymysql**"
   ]
  },
  {
   "cell_type": "code",
   "execution_count": 12,
   "id": "3766d309-425d-4f46-afb8-7e8c7f5de159",
   "metadata": {},
   "outputs": [],
   "source": [
    "# 1. 라이브러리 가져오기\n",
    "import pymysql"
   ]
  },
  {
   "cell_type": "code",
   "execution_count": 13,
   "id": "409189b1-8f47-463d-bc7d-c9fe89fa8da1",
   "metadata": {},
   "outputs": [],
   "source": [
    "# 2. 접속하기\n",
    "db = pymysql.connect(host='localhost', port=3306, user='root', passwd='toor', db='ecommerce', charset='utf8')"
   ]
  },
  {
   "cell_type": "code",
   "execution_count": 14,
   "id": "c8bd5241-b2ed-44bb-945a-e65855242a0a",
   "metadata": {},
   "outputs": [],
   "source": [
    "# 3. 커서 가져오기\n",
    "cursor = db.cursor()"
   ]
  },
  {
   "cell_type": "code",
   "execution_count": 15,
   "id": "c66e87b0-4823-4a6d-8512-4351464acd65",
   "metadata": {},
   "outputs": [],
   "source": [
    "create_table_sql = \"\"\"\n",
    "CREATE TABLE product2 (\n",
    "    PRODUCT_CODE VARCHAR(20) NOT NULL,\n",
    "    TITLE VARCHAR(200) NOT NULL,\n",
    "    ORI_PRICE INT,\n",
    "    DISCOUNT_PRICE INT,\n",
    "    DISCOUNT_PERCENT INT,\n",
    "    DELIVERY VARCHAR(2),\n",
    "    PRIMARY KEY(PRODUCT_CODE)\n",
    ");\n",
    "\"\"\""
   ]
  },
  {
   "cell_type": "code",
   "execution_count": 16,
   "id": "526487a1-c0f0-4328-b1e9-a29696b928ce",
   "metadata": {},
   "outputs": [
    {
     "data": {
      "text/plain": [
       "0"
      ]
     },
     "execution_count": 16,
     "metadata": {},
     "output_type": "execute_result"
    }
   ],
   "source": [
    "# 5. SQL 구문 실행하기\n",
    "cursor.execute(create_table_sql )"
   ]
  },
  {
   "cell_type": "code",
   "execution_count": 17,
   "id": "13c0c451-45dc-4478-b7fc-831990a02867",
   "metadata": {},
   "outputs": [],
   "source": [
    "# 6. DB에 complete 하기 (commit 항시 중요 ★★★★)\n",
    "db.commit()"
   ]
  },
  {
   "cell_type": "code",
   "execution_count": 18,
   "id": "6b104494-d594-4925-9361-ac4009a31573",
   "metadata": {},
   "outputs": [],
   "source": [
    "# 7. DB연결 닫기\n",
    "db.close()"
   ]
  },
  {
   "cell_type": "markdown",
   "id": "f1621009-f0be-42ff-89f0-ef356da61ca1",
   "metadata": {},
   "source": [
    "###  **1.3 데이터 삽입(INSERT)**\n",
    "- Cursor Object 가져오기 : cursor = db.cursor()\n",
    "- SQL 실행하기 : cursor.execute(SQL)\n",
    "- 실행 mysql 서버 확정 반영하기 : db.commit()"
   ]
  },
  {
   "cell_type": "code",
   "execution_count": 19,
   "id": "f24c86c2-957c-4003-a07f-8c21d9ba44db",
   "metadata": {},
   "outputs": [],
   "source": [
    "# 1. 라이브러리 가져오기\n",
    "import pymysql\n",
    "\n",
    "# 2. 접속하기\n",
    "db = pymysql.connect(host='localhost', port=3306, user='root', passwd='toor', db='ecommerce', charset='utf8')\n",
    "\n",
    "# 3. 커서 가져오기\n",
    "cursor = db.cursor()"
   ]
  },
  {
   "cell_type": "code",
   "execution_count": 20,
   "id": "8e6e805a-ddaf-4576-88ec-b0b32d8974b5",
   "metadata": {},
   "outputs": [
    {
     "name": "stdout",
     "output_type": "stream",
     "text": [
      "INSERT INTO product2 VALUES(\n",
      "    '216573141', '스위트바니 여름신상5900원~롱원피스티셔츠/긴팔/반팔', 23000, 6900, 70, 'F'); \n",
      "INSERT INTO product2 VALUES(\n",
      "    '216573142', '스위트바니 여름신상5900원~롱원피스티셔츠/긴팔/반팔', 23000, 6900, 70, 'F'); \n",
      "INSERT INTO product2 VALUES(\n",
      "    '216573143', '스위트바니 여름신상5900원~롱원피스티셔츠/긴팔/반팔', 23000, 6900, 70, 'F'); \n",
      "INSERT INTO product2 VALUES(\n",
      "    '216573144', '스위트바니 여름신상5900원~롱원피스티셔츠/긴팔/반팔', 23000, 6900, 70, 'F'); \n",
      "INSERT INTO product2 VALUES(\n",
      "    '216573145', '스위트바니 여름신상5900원~롱원피스티셔츠/긴팔/반팔', 23000, 6900, 70, 'F'); \n",
      "INSERT INTO product2 VALUES(\n",
      "    '216573146', '스위트바니 여름신상5900원~롱원피스티셔츠/긴팔/반팔', 23000, 6900, 70, 'F'); \n",
      "INSERT INTO product2 VALUES(\n",
      "    '216573147', '스위트바니 여름신상5900원~롱원피스티셔츠/긴팔/반팔', 23000, 6900, 70, 'F'); \n",
      "INSERT INTO product2 VALUES(\n",
      "    '216573148', '스위트바니 여름신상5900원~롱원피스티셔츠/긴팔/반팔', 23000, 6900, 70, 'F'); \n",
      "INSERT INTO product2 VALUES(\n",
      "    '216573149', '스위트바니 여름신상5900원~롱원피스티셔츠/긴팔/반팔', 23000, 6900, 70, 'F'); \n",
      "INSERT INTO product2 VALUES(\n",
      "    '216573150', '스위트바니 여름신상5900원~롱원피스티셔츠/긴팔/반팔', 23000, 6900, 70, 'F'); \n"
     ]
    }
   ],
   "source": [
    "for index in range(10):\n",
    "    product_code = 216573140 + index + 1\n",
    "    #print(product_code)\n",
    "    sql = \"\"\"INSERT INTO product2 VALUES(\n",
    "    '\"\"\" + str(product_code)+  \"\"\"', '스위트바니 여름신상5900원~롱원피스티셔츠/긴팔/반팔', 23000, 6900, 70, 'F'); \"\"\"\n",
    "    print(sql)\n",
    "    cursor.execute(sql)"
   ]
  },
  {
   "cell_type": "code",
   "execution_count": 21,
   "id": "d1868341-0d87-48e5-9a40-940416190d10",
   "metadata": {},
   "outputs": [],
   "source": [
    "# 4. 입력된 데이터를 db서버에 확정 시키기\n",
    "db.commit()"
   ]
  },
  {
   "cell_type": "code",
   "execution_count": 22,
   "id": "8ae1fb07-0a5b-413d-9e10-986d6a0df69c",
   "metadata": {},
   "outputs": [],
   "source": [
    "db.close()"
   ]
  },
  {
   "cell_type": "markdown",
   "id": "8ce54bb5-6b04-4e6e-8b90-bad275eade4e",
   "metadata": {},
   "source": [
    "###  **1.4 데이터 조회(SELECT)**\n",
    "- Cursor Object 가져오기 : cursor = db.cursor()\n",
    "- SQL 실행하기 : cursor.execute(SQL)\n",
    "- 실행 mysql 서버 확정 반영하기 : db.commit()\n",
    "- mysql서버로부터 데이터 가져오기 : fetch 메서드 사용 (fetch=가지고[데리고/불러] 오다)\n",
    "    - fetchall() : Fetch all the rows\n",
    "    - fetchmany(size=None):Fetch several rows\n",
    "    - fetchone() : Fetch the next row"
   ]
  },
  {
   "cell_type": "code",
   "execution_count": 23,
   "id": "36c682bf-1345-48b8-a15a-db2763dddc0f",
   "metadata": {},
   "outputs": [],
   "source": [
    "# 1. 라이브러리 가져오기\n",
    "import pymysql\n",
    "\n",
    "# 2. 접속하기\n",
    "db = pymysql.connect(host='localhost', port=3306, user='root', passwd='toor', db='ecommerce', charset='utf8')\n",
    "\n",
    "# 3. 커서 가져오기\n",
    "cursor = db.cursor()"
   ]
  },
  {
   "cell_type": "code",
   "execution_count": 24,
   "id": "967b8fa7-6031-4670-9c50-e34b01ed280c",
   "metadata": {},
   "outputs": [
    {
     "data": {
      "text/plain": [
       "10"
      ]
     },
     "execution_count": 24,
     "metadata": {},
     "output_type": "execute_result"
    }
   ],
   "source": [
    "sql = \"select * from product2\"\n",
    "cursor.execute(sql)"
   ]
  },
  {
   "cell_type": "code",
   "execution_count": 25,
   "id": "7783278d-b21d-4b46-b169-0e78605bb2db",
   "metadata": {},
   "outputs": [
    {
     "data": {
      "text/plain": [
       "('216573141', '스위트바니 여름신상5900원~롱원피스티셔츠/긴팔/반팔', 23000, 6900, 70, 'F')"
      ]
     },
     "execution_count": 25,
     "metadata": {},
     "output_type": "execute_result"
    }
   ],
   "source": [
    "result = cursor.fetchone() # 현재 커서를 다음 레코드로 이동시키고 해당 레코드를 반환\n",
    "result"
   ]
  },
  {
   "cell_type": "code",
   "execution_count": 26,
   "id": "bb94f170-1dae-4b97-a97c-c058784cca7e",
   "metadata": {},
   "outputs": [],
   "source": [
    "result = cursor.fetchall()"
   ]
  },
  {
   "cell_type": "code",
   "execution_count": 27,
   "id": "a12e08fd-687b-4051-8d22-fdddb0c547ba",
   "metadata": {},
   "outputs": [
    {
     "data": {
      "text/plain": [
       "(('216573142', '스위트바니 여름신상5900원~롱원피스티셔츠/긴팔/반팔', 23000, 6900, 70, 'F'),\n",
       " ('216573143', '스위트바니 여름신상5900원~롱원피스티셔츠/긴팔/반팔', 23000, 6900, 70, 'F'),\n",
       " ('216573144', '스위트바니 여름신상5900원~롱원피스티셔츠/긴팔/반팔', 23000, 6900, 70, 'F'),\n",
       " ('216573145', '스위트바니 여름신상5900원~롱원피스티셔츠/긴팔/반팔', 23000, 6900, 70, 'F'),\n",
       " ('216573146', '스위트바니 여름신상5900원~롱원피스티셔츠/긴팔/반팔', 23000, 6900, 70, 'F'),\n",
       " ('216573147', '스위트바니 여름신상5900원~롱원피스티셔츠/긴팔/반팔', 23000, 6900, 70, 'F'),\n",
       " ('216573148', '스위트바니 여름신상5900원~롱원피스티셔츠/긴팔/반팔', 23000, 6900, 70, 'F'),\n",
       " ('216573149', '스위트바니 여름신상5900원~롱원피스티셔츠/긴팔/반팔', 23000, 6900, 70, 'F'),\n",
       " ('216573150', '스위트바니 여름신상5900원~롱원피스티셔츠/긴팔/반팔', 23000, 6900, 70, 'F'))"
      ]
     },
     "execution_count": 27,
     "metadata": {},
     "output_type": "execute_result"
    }
   ],
   "source": [
    "result"
   ]
  },
  {
   "cell_type": "code",
   "execution_count": 28,
   "id": "fee4a998-34f5-42fd-af2d-25149f502182",
   "metadata": {},
   "outputs": [],
   "source": [
    "db.close()"
   ]
  },
  {
   "cell_type": "markdown",
   "id": "f52eac07-8e5f-40f6-a1b8-f989e8a7f2e2",
   "metadata": {},
   "source": [
    "###  **1.5 데이터수정(UPDATE)**\n",
    "- Cursor Object 가져오기 : cursor = db.cursor()\n",
    "- SQL 실행하기 : cursor.execute(SQL)\n",
    "- 실행 mysql 서버 확정 반영하기 : db.commit()"
   ]
  },
  {
   "cell_type": "markdown",
   "id": "7a17c3e3-442b-4a2a-85c4-de324a1ebc69",
   "metadata": {},
   "source": [
    "- 216573141\n",
    "- 하늘하늘 원피스 썸머 스페셜 가디건\n",
    "- 33,000원\n",
    "- 9,900원\n",
    "- 70% 세일\n",
    "\r\n",
    "UPDATE product2 SET \r\n",
    "    TITLE='하늘하늘 원피스 썸머 스페셜 가디건', \r\n",
    "    ORI_PRICE=33000, \r\n",
    "    DISCOUNT_PRICE=9900, \r\n",
    "    DISCOUNT_PERCENT=70 \r\n",
    "    WHERE PRODUCT_CODE='21657';\r\n",
    "\"\"\""
   ]
  },
  {
   "cell_type": "code",
   "execution_count": 29,
   "id": "41520174-bf0a-49ca-9d78-004815258c05",
   "metadata": {},
   "outputs": [],
   "source": [
    "# 1. 라이브러리 가져오기\n",
    "import pymysql\n",
    "\n",
    "# 2. 접속하기\n",
    "db = pymysql.connect(host='localhost', port=3306, user='root', passwd='toor', db='ecommerce', charset='utf8')\n",
    "\n",
    "# 3. 커서 가져오기\n",
    "cursor = db.cursor()"
   ]
  },
  {
   "cell_type": "code",
   "execution_count": 30,
   "id": "ea5ac6d6-85f8-44d4-8afc-1433501b7dbd",
   "metadata": {},
   "outputs": [],
   "source": [
    "#4. SQL 구문 만들기\n",
    "sql = \"\"\"\n",
    "UPDATE product2 SET \n",
    "    TITLE='하늘하늘 원피스 썸머 스페셜 가디건', \n",
    "    ORI_PRICE=33000, \n",
    "    DISCOUNT_PRICE=9900, \n",
    "    DISCOUNT_PERCENT=70 \n",
    "    WHERE PRODUCT_CODE='216573141';\n",
    "\"\"\""
   ]
  },
  {
   "cell_type": "code",
   "execution_count": 31,
   "id": "44b49c01-e5ae-4e71-af57-ae41b74bcc46",
   "metadata": {
    "scrolled": true
   },
   "outputs": [
    {
     "data": {
      "text/plain": [
       "1"
      ]
     },
     "execution_count": 31,
     "metadata": {},
     "output_type": "execute_result"
    }
   ],
   "source": [
    "# 5. Sql구문 실행하기\n",
    "cursor.execute(sql)"
   ]
  },
  {
   "cell_type": "code",
   "execution_count": 32,
   "id": "c6f063a5-e4b3-4d14-9bc7-fd6b037fd03f",
   "metadata": {},
   "outputs": [],
   "source": [
    "# 6. commit()하기\n",
    "db.commit()"
   ]
  },
  {
   "cell_type": "code",
   "execution_count": 33,
   "id": "840ee727-5914-4a01-b59b-06d27c784e2f",
   "metadata": {},
   "outputs": [
    {
     "name": "stdout",
     "output_type": "stream",
     "text": [
      "('216573141', '하늘하늘 원피스 썸머 스페셜 가디건', 33000, 9900, 70, 'F')\n"
     ]
    }
   ],
   "source": [
    "# 7. update 확인\n",
    "sql = \"select * from product2 where product_code='216573141'\"\n",
    "cursor.execute(sql)\n",
    "result = cursor.fetchone()\n",
    "print(result)"
   ]
  },
  {
   "cell_type": "code",
   "execution_count": 34,
   "id": "88e1f324-97f5-4f0e-8ca0-41f72a753f2d",
   "metadata": {},
   "outputs": [],
   "source": [
    "db.close()"
   ]
  },
  {
   "cell_type": "markdown",
   "id": "dad623e4-f1af-4c5a-b195-6cd12c9b69cd",
   "metadata": {},
   "source": [
    "###  **1.6 데이터 삭제(UPDATE)**\n",
    "- Cursor Object 가져오기 : cursor = db.cursor()\n",
    "- SQL 실행하기 : cursor.execute(SQL)\n",
    "- 실행 mysql 서버 확정 반영하기 : db.commit()"
   ]
  },
  {
   "cell_type": "code",
   "execution_count": 35,
   "id": "ca69ffb0-d249-427e-ae12-3fc31c2ae2af",
   "metadata": {},
   "outputs": [],
   "source": [
    "# 1. 라이브러리 가져오기\n",
    "import pymysql\n",
    "\n",
    "# 2. 접속하기\n",
    "db = pymysql.connect(host='localhost', port=3306, user='root', passwd='toor', db='ecommerce', charset='utf8')\n",
    "\n",
    "# 3. 커서 가져오기\n",
    "cursor = db.cursor()"
   ]
  },
  {
   "cell_type": "code",
   "execution_count": 38,
   "id": "e7cc3598-fd86-4543-8504-745452caa7fd",
   "metadata": {},
   "outputs": [],
   "source": [
    "sql = \"DELETE FROM product WHERE PRODUCT_CODE='216573141'\"\n",
    "cursor.execute(sql)\n",
    "db.commit()\n",
    "db.close()"
   ]
  },
  {
   "cell_type": "code",
   "execution_count": 41,
   "id": "03207678-1ec2-4c3c-86cf-05e053ef1919",
   "metadata": {},
   "outputs": [
    {
     "name": "stdout",
     "output_type": "stream",
     "text": [
      "None\n"
     ]
    }
   ],
   "source": [
    "db = pymysql.connect(host='localhost', port=3306, user='root', passwd='toor', db='ecommerce', charset='utf8')\n",
    "\n",
    "\n",
    "cursor = db.cursor()\n",
    "\n",
    "SQL = \"DELETE FROM product2 WHERE PRODUCT_CODE='216573141'\"\n",
    "\n",
    "cursor.execute(SQL)\n",
    "result = cursor.fetchone()\n",
    "print(result)\n",
    "db.commit()\n",
    "db.close()"
   ]
  }
 ],
 "metadata": {
  "kernelspec": {
   "display_name": "Python 3 (ipykernel)",
   "language": "python",
   "name": "python3"
  },
  "language_info": {
   "codemirror_mode": {
    "name": "ipython",
    "version": 3
   },
   "file_extension": ".py",
   "mimetype": "text/x-python",
   "name": "python",
   "nbconvert_exporter": "python",
   "pygments_lexer": "ipython3",
   "version": "3.8.1"
  }
 },
 "nbformat": 4,
 "nbformat_minor": 5
}
