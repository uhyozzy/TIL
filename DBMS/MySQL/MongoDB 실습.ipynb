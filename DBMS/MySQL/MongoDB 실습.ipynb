{
 "cells": [
  {
   "cell_type": "code",
   "execution_count": 2,
   "id": "aef2e65f-6dbf-4347-b4e2-04d80e7a1bc2",
   "metadata": {},
   "outputs": [
    {
     "name": "stdout",
     "output_type": "stream",
     "text": [
      "Collecting pymongo\n",
      "  Obtaining dependency information for pymongo from https://files.pythonhosted.org/packages/e1/05/fd245fa1e2fdab20f136b72df19cc5301f3dba50e5bcf63220cffacad2f8/pymongo-4.5.0-cp38-cp38-win_amd64.whl.metadata\n",
      "  Downloading pymongo-4.5.0-cp38-cp38-win_amd64.whl.metadata (22 kB)\n",
      "Collecting dnspython<3.0.0,>=1.16.0 (from pymongo)\n",
      "  Obtaining dependency information for dnspython<3.0.0,>=1.16.0 from https://files.pythonhosted.org/packages/f6/b4/0a9bee52c50f226a3cbfb54263d02bb421c7f2adc136520729c2c689c1e5/dnspython-2.4.2-py3-none-any.whl.metadata\n",
      "  Downloading dnspython-2.4.2-py3-none-any.whl.metadata (4.9 kB)\n",
      "Downloading pymongo-4.5.0-cp38-cp38-win_amd64.whl (467 kB)\n",
      "   ---------------------------------------- 0.0/468.0 kB ? eta -:--:--\n",
      "   --------------------------------------- 468.0/468.0 kB 30.5 MB/s eta 0:00:00\n",
      "Downloading dnspython-2.4.2-py3-none-any.whl (300 kB)\n",
      "   ---------------------------------------- 0.0/300.4 kB ? eta -:--:--\n",
      "   --------------------------------------- 300.4/300.4 kB 18.1 MB/s eta 0:00:00\n",
      "Installing collected packages: dnspython, pymongo\n",
      "Successfully installed dnspython-2.4.2 pymongo-4.5.0\n"
     ]
    }
   ],
   "source": [
    "!pip install pymongo\n",
    "from pymongo import MongoClient"
   ]
  },
  {
   "cell_type": "code",
   "execution_count": 3,
   "id": "ed084deb-1df8-4ab5-b339-226a1c89f1b6",
   "metadata": {},
   "outputs": [],
   "source": [
    "client = MongoClient(\"mongodb://localhost:27017/\")"
   ]
  },
  {
   "cell_type": "code",
   "execution_count": 4,
   "id": "63c24b4e-fbd6-4e6c-9d9e-10329f8606b7",
   "metadata": {},
   "outputs": [],
   "source": [
    "db = client['test-db']"
   ]
  },
  {
   "cell_type": "code",
   "execution_count": 5,
   "id": "67323dba-40c8-4179-8352-a9281c27cac6",
   "metadata": {},
   "outputs": [
    {
     "name": "stdout",
     "output_type": "stream",
     "text": [
      "['admin', 'config', 'local']\n"
     ]
    }
   ],
   "source": [
    "print(client.list_database_names())"
   ]
  },
  {
   "cell_type": "code",
   "execution_count": 11,
   "id": "b8426343-b55a-4dbe-9c56-8208606dea44",
   "metadata": {},
   "outputs": [],
   "source": [
    "# datetime 현재시간\n",
    "# 컬렉션 입력\n",
    "\n",
    "import datetime\n",
    "post = {\n",
    "    \"author\": \"Mike\",\n",
    "    \"text\": \"My first blog post!\",\n",
    "    \"tags\": [\"mongodb\", \"python\", \"pymongo\"],\n",
    "    \"date\": datetime.datetime.utcnow()\n",
    "}"
   ]
  },
  {
   "cell_type": "code",
   "execution_count": 9,
   "id": "97418b13-30d9-4951-9bbd-c6c0a7b2fe5b",
   "metadata": {},
   "outputs": [],
   "source": [
    "posts = db['posts']"
   ]
  },
  {
   "cell_type": "code",
   "execution_count": 10,
   "id": "9fd55651-0ed9-443a-88b1-09ae2ad1f40f",
   "metadata": {},
   "outputs": [
    {
     "ename": "TypeError",
     "evalue": "document must be an instance of dict, bson.son.SON, bson.raw_bson.RawBSONDocument, or a type that inherits from collections.MutableMapping",
     "output_type": "error",
     "traceback": [
      "\u001b[1;31m---------------------------------------------------------------------------\u001b[0m",
      "\u001b[1;31mTypeError\u001b[0m                                 Traceback (most recent call last)",
      "Cell \u001b[1;32mIn[10], line 1\u001b[0m\n\u001b[1;32m----> 1\u001b[0m post_id \u001b[38;5;241m=\u001b[39m \u001b[43mposts\u001b[49m\u001b[38;5;241;43m.\u001b[39;49m\u001b[43minsert_one\u001b[49m\u001b[43m(\u001b[49m\u001b[43mpost\u001b[49m\u001b[43m)\u001b[49m\n\u001b[0;32m      2\u001b[0m \u001b[38;5;28mprint\u001b[39m(post_id)\n",
      "File \u001b[1;32mc:\\python38\\lib\\site-packages\\pymongo\\collection.py:665\u001b[0m, in \u001b[0;36mCollection.insert_one\u001b[1;34m(self, document, bypass_document_validation, session, comment)\u001b[0m\n\u001b[0;32m    617\u001b[0m \u001b[38;5;28;01mdef\u001b[39;00m \u001b[38;5;21minsert_one\u001b[39m(\n\u001b[0;32m    618\u001b[0m     \u001b[38;5;28mself\u001b[39m,\n\u001b[0;32m    619\u001b[0m     document: Union[_DocumentType, RawBSONDocument],\n\u001b[1;32m   (...)\u001b[0m\n\u001b[0;32m    622\u001b[0m     comment: Optional[Any] \u001b[38;5;241m=\u001b[39m \u001b[38;5;28;01mNone\u001b[39;00m,\n\u001b[0;32m    623\u001b[0m ) \u001b[38;5;241m-\u001b[39m\u001b[38;5;241m>\u001b[39m InsertOneResult:\n\u001b[0;32m    624\u001b[0m \u001b[38;5;250m    \u001b[39m\u001b[38;5;124;03m\"\"\"Insert a single document.\u001b[39;00m\n\u001b[0;32m    625\u001b[0m \n\u001b[0;32m    626\u001b[0m \u001b[38;5;124;03m      >>> db.test.count_documents({'x': 1})\u001b[39;00m\n\u001b[1;32m   (...)\u001b[0m\n\u001b[0;32m    663\u001b[0m \u001b[38;5;124;03m    .. versionadded:: 3.0\u001b[39;00m\n\u001b[0;32m    664\u001b[0m \u001b[38;5;124;03m    \"\"\"\u001b[39;00m\n\u001b[1;32m--> 665\u001b[0m     \u001b[43mcommon\u001b[49m\u001b[38;5;241;43m.\u001b[39;49m\u001b[43mvalidate_is_document_type\u001b[49m\u001b[43m(\u001b[49m\u001b[38;5;124;43m\"\u001b[39;49m\u001b[38;5;124;43mdocument\u001b[39;49m\u001b[38;5;124;43m\"\u001b[39;49m\u001b[43m,\u001b[49m\u001b[43m \u001b[49m\u001b[43mdocument\u001b[49m\u001b[43m)\u001b[49m\n\u001b[0;32m    666\u001b[0m     \u001b[38;5;28;01mif\u001b[39;00m \u001b[38;5;129;01mnot\u001b[39;00m (\u001b[38;5;28misinstance\u001b[39m(document, RawBSONDocument) \u001b[38;5;129;01mor\u001b[39;00m \u001b[38;5;124m\"\u001b[39m\u001b[38;5;124m_id\u001b[39m\u001b[38;5;124m\"\u001b[39m \u001b[38;5;129;01min\u001b[39;00m document):\n\u001b[0;32m    667\u001b[0m         document[\u001b[38;5;124m\"\u001b[39m\u001b[38;5;124m_id\u001b[39m\u001b[38;5;124m\"\u001b[39m] \u001b[38;5;241m=\u001b[39m ObjectId()  \u001b[38;5;66;03m# type: ignore[index]\u001b[39;00m\n",
      "File \u001b[1;32mc:\\python38\\lib\\site-packages\\pymongo\\common.py:555\u001b[0m, in \u001b[0;36mvalidate_is_document_type\u001b[1;34m(option, value)\u001b[0m\n\u001b[0;32m    553\u001b[0m \u001b[38;5;250m\u001b[39m\u001b[38;5;124;03m\"\"\"Validate the type of method arguments that expect a MongoDB document.\"\"\"\u001b[39;00m\n\u001b[0;32m    554\u001b[0m \u001b[38;5;28;01mif\u001b[39;00m \u001b[38;5;129;01mnot\u001b[39;00m \u001b[38;5;28misinstance\u001b[39m(value, (abc\u001b[38;5;241m.\u001b[39mMutableMapping, RawBSONDocument)):\n\u001b[1;32m--> 555\u001b[0m     \u001b[38;5;28;01mraise\u001b[39;00m \u001b[38;5;167;01mTypeError\u001b[39;00m(\n\u001b[0;32m    556\u001b[0m         \u001b[38;5;124m\"\u001b[39m\u001b[38;5;132;01m{}\u001b[39;00m\u001b[38;5;124m must be an instance of dict, bson.son.SON, \u001b[39m\u001b[38;5;124m\"\u001b[39m\n\u001b[0;32m    557\u001b[0m         \u001b[38;5;124m\"\u001b[39m\u001b[38;5;124mbson.raw_bson.RawBSONDocument, or \u001b[39m\u001b[38;5;124m\"\u001b[39m\n\u001b[0;32m    558\u001b[0m         \u001b[38;5;124m\"\u001b[39m\u001b[38;5;124ma type that inherits from \u001b[39m\u001b[38;5;124m\"\u001b[39m\n\u001b[0;32m    559\u001b[0m         \u001b[38;5;124m\"\u001b[39m\u001b[38;5;124mcollections.MutableMapping\u001b[39m\u001b[38;5;124m\"\u001b[39m\u001b[38;5;241m.\u001b[39mformat(option)\n\u001b[0;32m    560\u001b[0m     )\n",
      "\u001b[1;31mTypeError\u001b[0m: document must be an instance of dict, bson.son.SON, bson.raw_bson.RawBSONDocument, or a type that inherits from collections.MutableMapping"
     ]
    }
   ],
   "source": [
    "# post를 컬렉션에 삽입\n",
    "post_id = posts.insert_one(post).inserted_id\n",
    "\n",
    "# 삽입된 포스트의 ID 출력\n",
    "print(post_id)"
   ]
  },
  {
   "cell_type": "code",
   "execution_count": null,
   "id": "3b4afc07-08bc-47ac-a097-c426ae0b7751",
   "metadata": {},
   "outputs": [],
   "source": [
    "new_posts = [\n",
    "    {\"author\":\"Mike\", \"text\": \"Another post!\", \"tags\":[\"bulk\",\"insert\"],\n",
    "     \"date\": datetime.datetime(2009, 11, 12, 11 ,14)},\n",
    "    {\"author\":\"Eliot\", \"title\": \"Mongo is fun!\", \"text\":\"and pretty easy too!\",\n",
    "     \"date\": datetime.datetime(2009, 11, 10, 10 ,45)}\n",
    "]"
   ]
  },
  {
   "cell_type": "code",
   "execution_count": null,
   "id": "ed9ac8cf-824f-4bd6-acec-460680d6cad0",
   "metadata": {},
   "outputs": [],
   "source": [
    "result = posts.insert_many(new_posts)"
   ]
  },
  {
   "cell_type": "code",
   "execution_count": null,
   "id": "d1814216-49fa-4f3e-83af-5d32b9e48fb9",
   "metadata": {},
   "outputs": [],
   "source": [
    "for d in db['posts'].find():\n",
    "    print(d['author'],d['text'])"
   ]
  },
  {
   "cell_type": "code",
   "execution_count": null,
   "id": "40f7d349-0eda-493c-9a5b-a80703a76f4c",
   "metadata": {},
   "outputs": [],
   "source": [
    "print(db.posts.find_one({'author':'Mike'})['text'])"
   ]
  },
  {
   "cell_type": "code",
   "execution_count": null,
   "id": "bf9c5ebf-2e81-4a3e-a0d8-f224b69b0f38",
   "metadata": {},
   "outputs": [],
   "source": [
    "for d in db['posts'].find({}, {'text' : 0}):\n",
    "    print(d)"
   ]
  },
  {
   "cell_type": "code",
   "execution_count": null,
   "id": "a2e50cbb-21f5-46dc-9460-3d2782cebedb",
   "metadata": {},
   "outputs": [],
   "source": [
    "import pprint\n",
    "pprint.pprint(posts.find_one())"
   ]
  },
  {
   "cell_type": "code",
   "execution_count": null,
   "id": "6a9262e1-670a-437e-a1d4-9a2124a1c49f",
   "metadata": {},
   "outputs": [],
   "source": [
    "pprint.pprint(posts.find_one({\"autor\":\"Mike\"}))"
   ]
  },
  {
   "cell_type": "code",
   "execution_count": null,
   "id": "43a43c7d-ff93-411b-b9ae-c989c5fa8d7f",
   "metadata": {},
   "outputs": [],
   "source": [
    "import pprint\n",
    "for post in posts.find({\"author\":\"Mike\"}):\n",
    "    pprint.pprint(post)"
   ]
  }
 ],
 "metadata": {
  "kernelspec": {
   "display_name": "Python 3 (ipykernel)",
   "language": "python",
   "name": "python3"
  },
  "language_info": {
   "codemirror_mode": {
    "name": "ipython",
    "version": 3
   },
   "file_extension": ".py",
   "mimetype": "text/x-python",
   "name": "python",
   "nbconvert_exporter": "python",
   "pygments_lexer": "ipython3",
   "version": "3.8.1"
  }
 },
 "nbformat": 4,
 "nbformat_minor": 5
}
