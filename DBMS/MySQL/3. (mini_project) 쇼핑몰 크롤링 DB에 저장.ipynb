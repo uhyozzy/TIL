{
 "cells": [
  {
   "cell_type": "markdown",
   "id": "bfcecbdc-041b-4a2f-8545-5c957c21f811",
   "metadata": {},
   "source": [
    "# **쇼핑몰 크롤링 DB 저장**"
   ]
  },
  {
   "cell_type": "markdown",
   "id": "d43e6693-0cf3-4761-ae30-1b8b91552150",
   "metadata": {},
   "source": [
    "## **Base**\n",
    "- workbench에서'beauty_shop' DB 생성"
   ]
  },
  {
   "cell_type": "code",
   "execution_count": 1,
   "id": "cbc4cc24-8cc8-4a04-bacd-f691ae182a41",
   "metadata": {},
   "outputs": [],
   "source": [
    "from urllib.request import urlopen\n",
    "from bs4 import BeautifulSoup\n",
    "import pandas as pd\n",
    "import numpy as np\n",
    "import pymysql"
   ]
  },
  {
   "cell_type": "markdown",
   "id": "537f4046-803b-4b00-a3dc-0e88b805b7e8",
   "metadata": {},
   "source": [
    "**모든 제품을 크롤링하여 DB에 저장**\n",
    "- 저장할 DB부터 테이블을 생성해 형식에 맞게 data 변환 후 DB로 insert\n",
    "- 순서\n",
    "    - (1) DB 연결 코드\n",
    "    - (2) 필요한 DB 및 table 생성\n",
    "    - (3) 크롤링 : 데이터를 table 형식에 맞게 정제\n",
    "    - (4) insert : 데이터 생성\n",
    "    - (5) commit() 해서 db에 반영\n",
    "    - (6) db 닫기"
   ]
  },
  {
   "cell_type": "markdown",
   "id": "a7f4aecf-a078-4786-9b8b-f64fa0cfef53",
   "metadata": {},
   "source": [
    "## **1. DB연결 및 객체 생성**"
   ]
  },
  {
   "cell_type": "code",
   "execution_count": 2,
   "id": "25660068-933f-46c6-a10a-e0f4fb9f2a8d",
   "metadata": {},
   "outputs": [],
   "source": [
    "def conn(d_name):\n",
    "    import pymysql\n",
    "    host_name = 'localhost'\n",
    "    host_port = 3306\n",
    "    username = 'root'\n",
    "    password = 'toor'\n",
    "    database_name = d_name\n",
    "    db = pymysql.connect(\n",
    "        host=host_name,\n",
    "        port=host_port,\n",
    "        user=username,\n",
    "        passwd=password,\n",
    "        db=database_name,\n",
    "        charset='utf8'\n",
    "    )\n",
    "    return db"
   ]
  },
  {
   "cell_type": "code",
   "execution_count": 3,
   "id": "a0c59e4a-78be-4d44-9b2a-364f5f96bfd5",
   "metadata": {},
   "outputs": [],
   "source": [
    "db = conn('beauty_shop')\n",
    "cursor = db.cursor()"
   ]
  },
  {
   "cell_type": "code",
   "execution_count": 4,
   "id": "74a5a7e0-8e38-44db-800a-746b6146952e",
   "metadata": {},
   "outputs": [
    {
     "data": {
      "text/plain": [
       "(('beauty_shop',),\n",
       " ('ecommerce',),\n",
       " ('information_schema',),\n",
       " ('market_db',),\n",
       " ('mysql',),\n",
       " ('performance_schema',),\n",
       " ('sakila',),\n",
       " ('shop_db',),\n",
       " ('sqldb',),\n",
       " ('student_mgmt',),\n",
       " ('sys',),\n",
       " ('tabledb',),\n",
       " ('world',))"
      ]
     },
     "execution_count": 4,
     "metadata": {},
     "output_type": "execute_result"
    }
   ],
   "source": [
    "sql = \"show databases\"\n",
    "cursor.execute(sql)\n",
    "result = cursor.fetchall()\n",
    "result"
   ]
  },
  {
   "cell_type": "code",
   "execution_count": 5,
   "id": "b31a426b-0435-446e-b84c-fa9d5d365bf1",
   "metadata": {},
   "outputs": [
    {
     "data": {
      "text/plain": [
       "0"
      ]
     },
     "execution_count": 5,
     "metadata": {},
     "output_type": "execute_result"
    }
   ],
   "source": [
    "sql = \"use beauty_shop\"\n",
    "cursor.execute(sql)"
   ]
  },
  {
   "cell_type": "code",
   "execution_count": 6,
   "id": "bb5274a3-865f-4872-8739-6ab768a17302",
   "metadata": {},
   "outputs": [
    {
     "data": {
      "text/plain": [
       "('beauty_shop',)"
      ]
     },
     "execution_count": 6,
     "metadata": {},
     "output_type": "execute_result"
    }
   ],
   "source": [
    "sql = \"select database()\"\n",
    "cursor.execute(sql)\n",
    "result = cursor.fetchone()\n",
    "result"
   ]
  },
  {
   "cell_type": "code",
   "execution_count": null,
   "id": "4ba51da1-58a0-4fd9-b412-d6dac8adcdf4",
   "metadata": {
    "scrolled": true
   },
   "outputs": [],
   "source": [
    "# table 생성\n",
    "sql = '''\n",
    "     CREATE TABLE product (\n",
    "         PRODUCT_CODE int AUTO_INCREMENT NOT NULL,\n",
    "         TITLE VARCHAR(200) NOT NULL,\n",
    "         ORI_PRICE VARCHAR(100),\n",
    "         DISCOUNT_PRICE VARCHAR(100),\n",
    "         link VARCHAR(200),\n",
    "         PRIMARY KEY(PRODUCT_CODE)\n",
    "     );\n",
    " '''\n",
    "\n",
    "cursor.execute(sql)\n",
    "db.commit()"
   ]
  },
  {
   "cell_type": "code",
   "execution_count": 8,
   "id": "d0a736a5-7ebd-47a7-9c18-f3674546871f",
   "metadata": {},
   "outputs": [
    {
     "data": {
      "text/plain": [
       "(('product',),)"
      ]
     },
     "execution_count": 8,
     "metadata": {},
     "output_type": "execute_result"
    }
   ],
   "source": [
    "sql = \"show tables\"\n",
    "cursor.execute(sql)\n",
    "result = cursor.fetchall()\n",
    "result"
   ]
  },
  {
   "cell_type": "code",
   "execution_count": 9,
   "id": "542882a9-d7ef-44b9-a0f2-79c8422c6870",
   "metadata": {},
   "outputs": [
    {
     "data": {
      "text/plain": [
       "(('PRODUCT_CODE', 'int', 'NO', 'PRI', None, 'auto_increment'),\n",
       " ('TITLE', 'varchar(200)', 'NO', '', None, ''),\n",
       " ('ORI_PRICE', 'varchar(100)', 'YES', '', None, ''),\n",
       " ('DISCOUNT_PRICE', 'varchar(100)', 'YES', '', None, ''),\n",
       " ('link', 'varchar(200)', 'YES', '', None, ''))"
      ]
     },
     "execution_count": 9,
     "metadata": {},
     "output_type": "execute_result"
    }
   ],
   "source": [
    "sql = \"desc product\"\n",
    "cursor.execute(sql)\n",
    "result = cursor.fetchall()\n",
    "result"
   ]
  },
  {
   "cell_type": "markdown",
   "id": "945864be-2cc7-4049-978e-829c4d51bfc4",
   "metadata": {},
   "source": [
    "## **2. 크롤링코드 - insert 구문을 추가하여 변경**"
   ]
  },
  {
   "cell_type": "code",
   "execution_count": 10,
   "id": "655ea21d-2792-4178-9fee-6e0637aed0b0",
   "metadata": {},
   "outputs": [],
   "source": [
    "# 크롤링 문서 요청해서 응답객체 반환(첫번재 크롤링 문서 요청 후 응답)\n",
    "\n",
    "url=\"http://jolse.com/category/toners-mists/1019/\"\n",
    "html = urlopen(url)\n",
    "htmls = html.read()\n",
    "# print(htmls)\n",
    "bs_obj = BeautifulSoup(htmls,\"html.parser\")\n"
   ]
  },
  {
   "cell_type": "code",
   "execution_count": 11,
   "id": "afd57563-52e4-4587-9d2b-ea78559684c1",
   "metadata": {},
   "outputs": [],
   "source": [
    "# box안에 들어 있는 1개의 상품에서 정보를 추출해 dict형태로 반환하는 함수\n",
    "# 데이터 전처리 : 제품명에 제거/ 가격usd제거/ 세일 가격 없는 경우 처리\n",
    "\n",
    "def get_product_info(box) :\n",
    "    strong_tag = box.find(\"strong\",{\"class\":\"name\"})\n",
    "    # 품목 추출\n",
    "    span =strong_tag.text.split(':')[1]\n",
    "    \n",
    "    # 세부페이지링크 추출\n",
    "    a = strong_tag.find(\"a\")\n",
    "    sub_link = 'https://jolse.com' + a[\"href\"]\n",
    "    # 가격 추출 코드\n",
    "    price_ul = box.find(\"ul\")\n",
    "    price_span = \"'\"+price_ul.findAll(\"span\")[1].text+\"'\"\n",
    "    sals_price = \"'\"+box.find('ul').findAll('span')[-1].text+\"'\"\n",
    "    \n",
    "    # 데이터 전처리\n",
    "    title = span.replace(\"'\",\"''\") # ' 처리\n",
    "    ord_price = price_span\n",
    "    dis_price = sals_price\n",
    "   # ord_price = price_span[1].text.split(' ')[1] # USD 제거\n",
    "   # dis_price = price_span[-1].text.split(' ')[1]\n",
    "    # 세일 가격이 없는 경우 \n",
    "    if dis_price =='' :\n",
    "        dis_price = '0.0'\n",
    "    \n",
    "    \n",
    "    # 최종 data 추출 후 반환 \n",
    "    return{\"prd_name\":title,\"price\":ord_price,\"sale_price\":dis_price,\"sub_link\":sub_link}\n"
   ]
  },
  {
   "cell_type": "code",
   "execution_count": 12,
   "id": "57d684b3-ff8c-4fed-9e2d-5707303372a3",
   "metadata": {},
   "outputs": [],
   "source": [
    "def save_data(prd_info) :\n",
    "#     print(prd_info)\n",
    "    \n",
    "    # insert 구문\n",
    "    sql = \"INSERT INTO product (title, ori_price, discount_price,link) values('\" \\\n",
    "        + prd_info[\"prd_name\"] \\\n",
    "        +\"',\" \\\n",
    "        + prd_info['price']\\\n",
    "        +\",\" \\\n",
    "        + prd_info['sale_price']\\\n",
    "        +\",'\"\\\n",
    "        + prd_info['sub_link']\\\n",
    "        + \"');\"\n",
    "    print(sql)\n",
    "    cursor.execute(sql)"
   ]
  },
  {
   "cell_type": "code",
   "execution_count": 13,
   "id": "93dcde69-fdae-4afd-a4af-747ff93feab8",
   "metadata": {},
   "outputs": [],
   "source": [
    "# 전달된 url페이지에 접근해서 해당 페이지 전체 상품 데이터를 추출한 후 각 상품마다 get_product_info사용\n",
    "# 각 상품에 대한 추출 정보를 받아온 뒤, 들어온 각 상품 정보를 리스트에 저장 한 수에 반환\n",
    "\n",
    "\n",
    "def get_page_products(url) :\n",
    "    url=url\n",
    "    html = urlopen(url)\n",
    "    htmls = html.read()\n",
    "    # print(htmls)\n",
    "    bs_obj = BeautifulSoup(htmls,\"html.parser\")\n",
    "\n",
    "    ## 한 페이지에 모든 상품이 들어있는 ul 태그 추출\n",
    "    # ul class:prdList grid4\n",
    "    ul=bs_obj.find(\"ul\",{\"class\":\"prdList grid5\"})\n",
    "    ## 품목 1개를 담고 있는 div 태그 추출\n",
    "    ## div class:box\n",
    "    prd_boxes = ul.findAll(\"div\", {\"class\":\"description\"}) #1개 페이지의 전체 상품\n",
    "    # 반환되는 품목 데이터를 db에 insert  : 함수호출해서 진행\n",
    "    for box in prd_boxes :\n",
    "        prd = get_product_info(box)\n",
    "        print(prd)\n",
    "        save_data(prd) #사용자 정의 함수(생성해야 함)"
   ]
  },
  {
   "cell_type": "markdown",
   "id": "0fc41448-75b6-4fbe-846b-9f4e0b026549",
   "metadata": {},
   "source": [
    "## **3. 메인 코드(프로그램 시작점)**"
   ]
  },
  {
   "cell_type": "code",
   "execution_count": 14,
   "id": "7e72fd75-5208-442d-96b8-38489e7ce5b9",
   "metadata": {
    "scrolled": true
   },
   "outputs": [
    {
     "name": "stdout",
     "output_type": "stream",
     "text": [
      "Requirement already satisfied: tqdm in c:\\python38\\lib\\site-packages (4.66.1)\n",
      "Requirement already satisfied: colorama in c:\\python38\\lib\\site-packages (from tqdm) (0.4.6)\n"
     ]
    },
    {
     "name": "stderr",
     "output_type": "stream",
     "text": [
      "C:\\Users\\USER\\AppData\\Local\\Temp\\ipykernel_2504\\3594225466.py:9: TqdmDeprecationWarning: This function will be removed in tqdm==5.0.0\n",
      "Please use `tqdm.notebook.tqdm` instead of `tqdm.tqdm_notebook`\n",
      "  for i in tqdm_notebook(range(2,last+1)) : # 2페이지부터 수집\n"
     ]
    },
    {
     "data": {
      "application/vnd.jupyter.widget-view+json": {
       "model_id": "61f1e0a20224468aa01a4201d9862bee",
       "version_major": 2,
       "version_minor": 0
      },
      "text/plain": [
       "  0%|          | 0/2 [00:00<?, ?it/s]"
      ]
     },
     "metadata": {},
     "output_type": "display_data"
    },
    {
     "name": "stdout",
     "output_type": "stream",
     "text": [
      "{'prd_name': ' Haruharu WONDER Black Rice Hyaluronic Toner 300ml', 'price': \"'USD 37.00'\", 'sale_price': \"'USD 33.30'\", 'sub_link': 'https://jolse.com/product/haruharu-wonder-black-rice-hyaluronic-toner-300ml/37796/category/1019/display/2/'}\n",
      "INSERT INTO product (title, ori_price, discount_price,link) values(' Haruharu WONDER Black Rice Hyaluronic Toner 300ml','USD 37.00','USD 33.30','https://jolse.com/product/haruharu-wonder-black-rice-hyaluronic-toner-300ml/37796/category/1019/display/2/');\n",
      "{'prd_name': ' SOME BY MI Propolis B5 Glow Barrier Calming Toner 150ml', 'price': \"'USD 22.00'\", 'sale_price': \"'USD 15.40'\", 'sub_link': 'https://jolse.com/product/some-by-mi-propolis-b5-glow-barrier-calming-toner-150ml/42205/category/1019/display/2/'}\n",
      "INSERT INTO product (title, ori_price, discount_price,link) values(' SOME BY MI Propolis B5 Glow Barrier Calming Toner 150ml','USD 22.00','USD 15.40','https://jolse.com/product/some-by-mi-propolis-b5-glow-barrier-calming-toner-150ml/42205/category/1019/display/2/');\n",
      "{'prd_name': ' Haruharu WONDER Black Rice Hyaluronic Toner 300ml', 'price': \"'USD 37.00'\", 'sale_price': \"'USD 33.30'\", 'sub_link': 'https://jolse.com/product/haruharu-wonder-black-rice-hyaluronic-toner-300ml/37796/category/1019/display/2/'}\n",
      "INSERT INTO product (title, ori_price, discount_price,link) values(' Haruharu WONDER Black Rice Hyaluronic Toner 300ml','USD 37.00','USD 33.30','https://jolse.com/product/haruharu-wonder-black-rice-hyaluronic-toner-300ml/37796/category/1019/display/2/');\n",
      "{'prd_name': ' SOME BY MI Propolis B5 Glow Barrier Calming Toner 150ml', 'price': \"'USD 22.00'\", 'sale_price': \"'USD 15.40'\", 'sub_link': 'https://jolse.com/product/some-by-mi-propolis-b5-glow-barrier-calming-toner-150ml/42205/category/1019/display/2/'}\n",
      "INSERT INTO product (title, ori_price, discount_price,link) values(' SOME BY MI Propolis B5 Glow Barrier Calming Toner 150ml','USD 22.00','USD 15.40','https://jolse.com/product/some-by-mi-propolis-b5-glow-barrier-calming-toner-150ml/42205/category/1019/display/2/');\n"
     ]
    }
   ],
   "source": [
    "!pip install tqdm\n",
    "from tqdm import tqdm_notebook # 상태바 표시\n",
    "\n",
    "#여러 페이지의 화장품 정보를 추출해서 df 에 저장 후 csv에 저장하는 코드\n",
    "url = \"http://jolse.com/category/toners-mists/1019/?page=\" #페이지 번호를 제외한 공통 url 문자열\n",
    "\n",
    "#last= int(bs_obj.find(\"p\",{\"class\":\"last\"}).find(\"a\")['href'].split(\"=\")[1])\n",
    "last=3\n",
    "for i in tqdm_notebook(range(2,last+1)) : # 2페이지부터 수집\n",
    "# for i in range(1,2) : # 1페이지 insert\n",
    "    # url 완성 :page번호를 추가 i 변수 값을 활용\n",
    "    urlfin =url + str(i)\n",
    "    get_page_products(urlfin)"
   ]
  },
  {
   "cell_type": "code",
   "execution_count": 15,
   "id": "66bdeffd-264c-43bc-a7ea-3b03ad6e3bf4",
   "metadata": {},
   "outputs": [],
   "source": [
    "db.commit()"
   ]
  },
  {
   "cell_type": "code",
   "execution_count": 16,
   "id": "a306e64d-f839-46de-8426-b506a6c0ccc1",
   "metadata": {},
   "outputs": [
    {
     "data": {
      "text/plain": [
       "((1,\n",
       "  ' Haruharu WONDER Black Rice Hyaluronic Toner 300ml',\n",
       "  'USD 37.00',\n",
       "  'USD 33.30',\n",
       "  'https://jolse.com/product/haruharu-wonder-black-rice-hyaluronic-toner-300ml/37796/category/1019/display/2/'),\n",
       " (2,\n",
       "  ' SOME BY MI Propolis B5 Glow Barrier Calming Toner 150ml',\n",
       "  'USD 22.00',\n",
       "  'USD 15.40',\n",
       "  'https://jolse.com/product/some-by-mi-propolis-b5-glow-barrier-calming-toner-150ml/42205/category/1019/display/2/'),\n",
       " (3,\n",
       "  ' Haruharu WONDER Black Rice Hyaluronic Toner 300ml',\n",
       "  'USD 37.00',\n",
       "  'USD 33.30',\n",
       "  'https://jolse.com/product/haruharu-wonder-black-rice-hyaluronic-toner-300ml/37796/category/1019/display/2/'),\n",
       " (4,\n",
       "  ' SOME BY MI Propolis B5 Glow Barrier Calming Toner 150ml',\n",
       "  'USD 22.00',\n",
       "  'USD 15.40',\n",
       "  'https://jolse.com/product/some-by-mi-propolis-b5-glow-barrier-calming-toner-150ml/42205/category/1019/display/2/'))"
      ]
     },
     "execution_count": 16,
     "metadata": {},
     "output_type": "execute_result"
    }
   ],
   "source": [
    "sql = \"SELECT * FROM product\"\n",
    "cursor.execute(sql)\n",
    "result = cursor.fetchall()\n",
    "result"
   ]
  },
  {
   "cell_type": "code",
   "execution_count": 17,
   "id": "d0cbc169-2414-4cbd-9aa4-cf5d8d3f789d",
   "metadata": {},
   "outputs": [],
   "source": [
    "db.close()"
   ]
  },
  {
   "cell_type": "markdown",
   "id": "5155f097-5d43-45d9-bef3-d207ea366131",
   "metadata": {},
   "source": [
    "## **4. DB 테이블에 저장된 데이터 데이터 프레임으로 가져오기**"
   ]
  },
  {
   "cell_type": "code",
   "execution_count": 19,
   "id": "9ebb1b62-ecd7-48b1-bac5-d727f00e3311",
   "metadata": {},
   "outputs": [
    {
     "name": "stderr",
     "output_type": "stream",
     "text": [
      "C:\\Users\\USER\\AppData\\Local\\Temp\\ipykernel_2504\\1706128472.py:3: UserWarning: pandas only supports SQLAlchemy connectable (engine/connection) or database string URI or sqlite3 DBAPI2 connection. Other DBAPI2 objects are not tested. Please consider using SQLAlchemy.\n",
      "  df = pd.read_sql(sql,db)\n"
     ]
    },
    {
     "data": {
      "text/html": [
       "<div>\n",
       "<style scoped>\n",
       "    .dataframe tbody tr th:only-of-type {\n",
       "        vertical-align: middle;\n",
       "    }\n",
       "\n",
       "    .dataframe tbody tr th {\n",
       "        vertical-align: top;\n",
       "    }\n",
       "\n",
       "    .dataframe thead th {\n",
       "        text-align: right;\n",
       "    }\n",
       "</style>\n",
       "<table border=\"1\" class=\"dataframe\">\n",
       "  <thead>\n",
       "    <tr style=\"text-align: right;\">\n",
       "      <th></th>\n",
       "      <th>PRODUCT_CODE</th>\n",
       "      <th>TITLE</th>\n",
       "      <th>ORI_PRICE</th>\n",
       "      <th>DISCOUNT_PRICE</th>\n",
       "      <th>link</th>\n",
       "    </tr>\n",
       "  </thead>\n",
       "  <tbody>\n",
       "    <tr>\n",
       "      <th>0</th>\n",
       "      <td>1</td>\n",
       "      <td>Haruharu WONDER Black Rice Hyaluronic Toner 3...</td>\n",
       "      <td>USD 37.00</td>\n",
       "      <td>USD 33.30</td>\n",
       "      <td>https://jolse.com/product/haruharu-wonder-blac...</td>\n",
       "    </tr>\n",
       "    <tr>\n",
       "      <th>1</th>\n",
       "      <td>2</td>\n",
       "      <td>SOME BY MI Propolis B5 Glow Barrier Calming T...</td>\n",
       "      <td>USD 22.00</td>\n",
       "      <td>USD 15.40</td>\n",
       "      <td>https://jolse.com/product/some-by-mi-propolis-...</td>\n",
       "    </tr>\n",
       "    <tr>\n",
       "      <th>2</th>\n",
       "      <td>3</td>\n",
       "      <td>Haruharu WONDER Black Rice Hyaluronic Toner 3...</td>\n",
       "      <td>USD 37.00</td>\n",
       "      <td>USD 33.30</td>\n",
       "      <td>https://jolse.com/product/haruharu-wonder-blac...</td>\n",
       "    </tr>\n",
       "    <tr>\n",
       "      <th>3</th>\n",
       "      <td>4</td>\n",
       "      <td>SOME BY MI Propolis B5 Glow Barrier Calming T...</td>\n",
       "      <td>USD 22.00</td>\n",
       "      <td>USD 15.40</td>\n",
       "      <td>https://jolse.com/product/some-by-mi-propolis-...</td>\n",
       "    </tr>\n",
       "  </tbody>\n",
       "</table>\n",
       "</div>"
      ],
      "text/plain": [
       "   PRODUCT_CODE                                              TITLE  ORI_PRICE  \\\n",
       "0             1   Haruharu WONDER Black Rice Hyaluronic Toner 3...  USD 37.00   \n",
       "1             2   SOME BY MI Propolis B5 Glow Barrier Calming T...  USD 22.00   \n",
       "2             3   Haruharu WONDER Black Rice Hyaluronic Toner 3...  USD 37.00   \n",
       "3             4   SOME BY MI Propolis B5 Glow Barrier Calming T...  USD 22.00   \n",
       "\n",
       "  DISCOUNT_PRICE                                               link  \n",
       "0      USD 33.30  https://jolse.com/product/haruharu-wonder-blac...  \n",
       "1      USD 15.40  https://jolse.com/product/some-by-mi-propolis-...  \n",
       "2      USD 33.30  https://jolse.com/product/haruharu-wonder-blac...  \n",
       "3      USD 15.40  https://jolse.com/product/some-by-mi-propolis-...  "
      ]
     },
     "execution_count": 19,
     "metadata": {},
     "output_type": "execute_result"
    }
   ],
   "source": [
    "db = conn('beauty_shop')\n",
    "sql = \"select * from product\"\n",
    "df = pd.read_sql(sql,db)\n",
    "df"
   ]
  },
  {
   "cell_type": "code",
   "execution_count": 21,
   "id": "bee809b3-6f37-40f9-b356-1a79744c7fda",
   "metadata": {},
   "outputs": [
    {
     "name": "stderr",
     "output_type": "stream",
     "text": [
      "C:\\Users\\USER\\AppData\\Local\\Temp\\ipykernel_2504\\4190687051.py:2: UserWarning: pandas only supports SQLAlchemy connectable (engine/connection) or database string URI or sqlite3 DBAPI2 connection. Other DBAPI2 objects are not tested. Please consider using SQLAlchemy.\n",
      "  df = pd.read_sql(sql,db)\n"
     ]
    },
    {
     "data": {
      "text/html": [
       "<div>\n",
       "<style scoped>\n",
       "    .dataframe tbody tr th:only-of-type {\n",
       "        vertical-align: middle;\n",
       "    }\n",
       "\n",
       "    .dataframe tbody tr th {\n",
       "        vertical-align: top;\n",
       "    }\n",
       "\n",
       "    .dataframe thead th {\n",
       "        text-align: right;\n",
       "    }\n",
       "</style>\n",
       "<table border=\"1\" class=\"dataframe\">\n",
       "  <thead>\n",
       "    <tr style=\"text-align: right;\">\n",
       "      <th></th>\n",
       "      <th>title</th>\n",
       "      <th>ori_price</th>\n",
       "      <th>discount_price</th>\n",
       "    </tr>\n",
       "  </thead>\n",
       "  <tbody>\n",
       "    <tr>\n",
       "      <th>0</th>\n",
       "      <td>Haruharu WONDER Black Rice Hyaluronic Toner 3...</td>\n",
       "      <td>USD 37.00</td>\n",
       "      <td>USD 33.30</td>\n",
       "    </tr>\n",
       "    <tr>\n",
       "      <th>1</th>\n",
       "      <td>SOME BY MI Propolis B5 Glow Barrier Calming T...</td>\n",
       "      <td>USD 22.00</td>\n",
       "      <td>USD 15.40</td>\n",
       "    </tr>\n",
       "    <tr>\n",
       "      <th>2</th>\n",
       "      <td>Haruharu WONDER Black Rice Hyaluronic Toner 3...</td>\n",
       "      <td>USD 37.00</td>\n",
       "      <td>USD 33.30</td>\n",
       "    </tr>\n",
       "    <tr>\n",
       "      <th>3</th>\n",
       "      <td>SOME BY MI Propolis B5 Glow Barrier Calming T...</td>\n",
       "      <td>USD 22.00</td>\n",
       "      <td>USD 15.40</td>\n",
       "    </tr>\n",
       "  </tbody>\n",
       "</table>\n",
       "</div>"
      ],
      "text/plain": [
       "                                               title  ori_price discount_price\n",
       "0   Haruharu WONDER Black Rice Hyaluronic Toner 3...  USD 37.00      USD 33.30\n",
       "1   SOME BY MI Propolis B5 Glow Barrier Calming T...  USD 22.00      USD 15.40\n",
       "2   Haruharu WONDER Black Rice Hyaluronic Toner 3...  USD 37.00      USD 33.30\n",
       "3   SOME BY MI Propolis B5 Glow Barrier Calming T...  USD 22.00      USD 15.40"
      ]
     },
     "execution_count": 21,
     "metadata": {},
     "output_type": "execute_result"
    }
   ],
   "source": [
    "sql = \"select title, ori_price, discount_price from product\"\n",
    "df = pd.read_sql(sql,db)\n",
    "df"
   ]
  },
  {
   "cell_type": "code",
   "execution_count": null,
   "id": "ff16bfa4-169d-403d-beb6-bead34a5b354",
   "metadata": {},
   "outputs": [],
   "source": []
  }
 ],
 "metadata": {
  "kernelspec": {
   "display_name": "Python 3 (ipykernel)",
   "language": "python",
   "name": "python3"
  },
  "language_info": {
   "codemirror_mode": {
    "name": "ipython",
    "version": 3
   },
   "file_extension": ".py",
   "mimetype": "text/x-python",
   "name": "python",
   "nbconvert_exporter": "python",
   "pygments_lexer": "ipython3",
   "version": "3.8.1"
  }
 },
 "nbformat": 4,
 "nbformat_minor": 5
}
