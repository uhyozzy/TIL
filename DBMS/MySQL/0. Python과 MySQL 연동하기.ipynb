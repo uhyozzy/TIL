{
 "cells": [
  {
   "cell_type": "markdown",
   "id": "0fb4ba02-73f4-4430-903e-5d55d4ea1bd3",
   "metadata": {},
   "source": [
    "## **연동 프로그래밍 기본**\n",
    "- 파이썬으로 쇼핑몰 테이블 생성하기"
   ]
  },
  {
   "cell_type": "markdown",
   "id": "8a319c75-67f4-4911-8122-229b2710e851",
   "metadata": {},
   "source": [
    "**사용자가 반복해서 데이터를 입력하는 코드 작성**\n",
    "- 데이터를 직접 키보드로 입력받아 한 행씩 계속해서 데이터를 입력\n",
    "- 더이상 입력할 데이터가 없으면 엔터키를 입력하여 종료하는 것으로 처리\n",
    "- 이미 테이블이 있다면 아래와 같이 테이블을 만드는 코드는 별도로 작성하지 않아도 됨\n",
    "  "
   ]
  },
  {
   "cell_type": "code",
   "execution_count": 2,
   "id": "e60aadc2-fd0f-4788-aeee-820a44595d3c",
   "metadata": {},
   "outputs": [
    {
     "name": "stdin",
     "output_type": "stream",
     "text": [
      "사용자 ID ==>  su\n",
      "사용자 이름 ==>  수지\n",
      "사용자 이메일 ==>  suji@hanbit.com\n",
      "사용자 출생연도 ==>  1994\n",
      "사용자 ID ==>  \n"
     ]
    }
   ],
   "source": [
    "import pymysql\n",
    "\n",
    "# 전역변수 선언부\n",
    "conn, cur = None, None # 커서이름과 연결자 생성\n",
    "data1, data2, data3, data4 = \"\", \"\", \"\", \"\"\n",
    "sql=\"\"\n",
    "\n",
    "# 메인 코드\n",
    "conn = pymysql.connect(host='127.0.0.1', user='root', password='toor', db='soloDB', charset='utf8') # 커넥트 작성\n",
    "cur = conn.cursor() # 커서 생성\n",
    "\n",
    "while (True) :\n",
    "    data1 = input(\"사용자 ID ==> \") # ID없이 엔터를 누르면 그만 입력하게 함\n",
    "    if data1 == \"\" :\n",
    "        break;\n",
    "    data2 = input(\"사용자 이름 ==> \")\n",
    "    data3 = input(\"사용자 이메일 ==> \")\n",
    "    data4 = input(\"사용자 출생연도 ==> \")\n",
    "    sql = \"INSERT INTO userTable VALUES('\" + data1 + \"','\" + data2 + \"','\" + data3 + \"',\" + data4 + \")\"\n",
    "    # 예시) cur.execute(\"INSERT INTO userTable VALUES('hong','홍지윤','hong@naver.com',1996)\")처럼 만드는 구문\n",
    "    cur.execute(sql)\n",
    "\n",
    "conn.commit()\n",
    "conn.close()"
   ]
  },
  {
   "cell_type": "markdown",
   "id": "bb350aad-b80d-4a81-aa83-5e97af0e57d6",
   "metadata": {},
   "source": [
    "**데이터 조회를 위한 코드 작성**"
   ]
  },
  {
   "cell_type": "code",
   "execution_count": 4,
   "id": "98188057-c461-425c-abc2-2dc09d226ff3",
   "metadata": {},
   "outputs": [
    {
     "name": "stdout",
     "output_type": "stream",
     "text": [
      "사용자ID    사용자이름    이메일        출생연도\n",
      "----------------------------------------------------\n",
      "   su                수지        suji@hanbit.com   1994\n",
      " hong               홍지윤         hong@naver.com   1996\n",
      "  kim               김태연           kim@daum.net   2011\n",
      " star               별사랑         star@paran.com   1990\n",
      " yang               양지은         yang@gmail.com   1993\n"
     ]
    }
   ],
   "source": [
    "import pymysql\n",
    "\n",
    "# 전역변수 선언부\n",
    "con, cur = None, None\n",
    "data1, data2, data3, data4 = \"\", \"\", \"\", \"\"\n",
    "row=None #sql에서 읽어올 행을 row로 지정\n",
    "\n",
    "# 메인 코드\n",
    "conn = pymysql.connect(host='127.0.0.1', user='root', password='toor', db='soloDB', charset='utf8')\n",
    "cur = conn.cursor()\n",
    "\n",
    "cur.execute(\"SELECT * FROM userTable\") # 고정\n",
    "\n",
    "print(\"사용자ID    사용자이름    이메일        출생연도\") # 헤더 출력\n",
    "print(\"----------------------------------------------------\") \n",
    "\n",
    "while (True) :\n",
    "    row = cur.fetchone()\n",
    "    if row== None : # 행이 끝날 때까지 반복\n",
    "        break\n",
    "    data1 = row[0]\n",
    "    data2 = row[1]\n",
    "    data3 = row[2]\n",
    "    data4 = row[3]\n",
    "    print(\"%5s   %15s   %20s   %d\" % (data1, data2, data3, data4)) #글자수에 맞춰서 출력하는 형식 지정\n",
    "\n",
    "conn.close() \n",
    "\n",
    "# commit은 insert, delete같은 변경이 있을 때만 작성해주면 됨\n"
   ]
  }
 ],
 "metadata": {
  "kernelspec": {
   "display_name": "Python 3 (ipykernel)",
   "language": "python",
   "name": "python3"
  },
  "language_info": {
   "codemirror_mode": {
    "name": "ipython",
    "version": 3
   },
   "file_extension": ".py",
   "mimetype": "text/x-python",
   "name": "python",
   "nbconvert_exporter": "python",
   "pygments_lexer": "ipython3",
   "version": "3.8.1"
  }
 },
 "nbformat": 4,
 "nbformat_minor": 5
}
