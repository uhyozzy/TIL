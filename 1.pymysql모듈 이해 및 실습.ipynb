{
 "cells": [
  {
   "cell_type": "markdown",
   "id": "e56ca77d-7f3c-4d47-9838-00753612cd89",
   "metadata": {},
   "source": [
    "# **1.pymysql 모듈 이해 및 실습**"
   ]
  },
  {
   "cell_type": "markdown",
   "id": "43e35cb9-87e2-42a5-829c-12770d8bb187",
   "metadata": {},
   "source": [
    "**Base**"
   ]
  },
  {
   "cell_type": "code",
   "execution_count": 6,
   "id": "e2878963-8cf4-4cad-94d7-d8076281cd5c",
   "metadata": {},
   "outputs": [
    {
     "name": "stdout",
     "output_type": "stream",
     "text": [
      "Requirement already satisfied: pymysql in c:\\python38\\lib\\site-packages (1.1.0)\n"
     ]
    }
   ],
   "source": [
    "!pip install pymysql\n",
    "import pymysql"
   ]
  },
  {
   "cell_type": "markdown",
   "id": "93b7a4b6-8ac2-439d-8904-2be358dc082d",
   "metadata": {},
   "source": [
    "###  **1.1 mysql db client에서 ecommerce db만들고 시작**"
   ]
  },
  {
   "cell_type": "code",
   "execution_count": 8,
   "id": "7038d4fb-b440-4fe2-9146-3bdacb374e74",
   "metadata": {},
   "outputs": [
    {
     "data": {
      "text/plain": [
       "<pymysql.connections.Connection at 0x1fe74dd4880>"
      ]
     },
     "execution_count": 8,
     "metadata": {},
     "output_type": "execute_result"
    }
   ],
   "source": [
    "#dbms 연결 코드\n",
    "db = pymysql.connect(host='localhost', port=3306, user='root', password='toor',charset='utf8')\n",
    "db"
   ]
  },
  {
   "cell_type": "markdown",
   "id": "642e340b-7de9-4261-9b74-4088d6525fa4",
   "metadata": {},
   "source": [
    "- db 생성\n",
    "- cursor object 가져오기 : cursor=db.cursor()\n",
    "- sql 실행하기 : cursor.execute(SQL)\n",
    "- 실행 mysql서버에 확정 반영하기 : db.commit()"
   ]
  },
  {
   "cell_type": "code",
   "execution_count": 9,
   "id": "169367bf-c23f-46d0-bb45-ef4857e1f623",
   "metadata": {},
   "outputs": [
    {
     "data": {
      "text/plain": [
       "1"
      ]
     },
     "execution_count": 9,
     "metadata": {},
     "output_type": "execute_result"
    }
   ],
   "source": [
    "# Mysql접속이 성공하면, connection 객체로부터 cursor()메서드를 호출하여 cursor객체를 가져옴\n",
    "cursor = db.cursor()\n",
    "sql = 'create database IF NOT EXISTS ecommerce'\n",
    "cursor.execute(sql)"
   ]
  },
  {
   "cell_type": "code",
   "execution_count": 11,
   "id": "77289d90-ef53-45dd-a6d5-18476a3ad1eb",
   "metadata": {},
   "outputs": [
    {
     "data": {
      "text/plain": [
       "(('ecommerce',),\n",
       " ('information_schema',),\n",
       " ('mysql',),\n",
       " ('performance_schema',),\n",
       " ('sakila',),\n",
       " ('shop_db',),\n",
       " ('sys',),\n",
       " ('tabledb',),\n",
       " ('world',))"
      ]
     },
     "execution_count": 11,
     "metadata": {},
     "output_type": "execute_result"
    }
   ],
   "source": [
    "sql = 'show databases'\n",
    "cursor.execute(sql)\n",
    "result = cursor.fetchall()\n",
    "result"
   ]
  },
  {
   "cell_type": "code",
   "execution_count": 12,
   "id": "8b78536e-b915-43c5-94c9-0db4fd275649",
   "metadata": {},
   "outputs": [
    {
     "data": {
      "text/plain": [
       "0"
      ]
     },
     "execution_count": 12,
     "metadata": {},
     "output_type": "execute_result"
    }
   ],
   "source": [
    "# db변경\n",
    "sql = 'use ecommerce'\n",
    "cursor.execute(sql)"
   ]
  },
  {
   "cell_type": "code",
   "execution_count": 14,
   "id": "a6c41dcf-fc2d-45aa-86bf-55dfe9f9ed8b",
   "metadata": {},
   "outputs": [
    {
     "data": {
      "text/plain": [
       "('ecommerce',)"
      ]
     },
     "execution_count": 14,
     "metadata": {},
     "output_type": "execute_result"
    }
   ],
   "source": [
    "# 현재db 확인\n",
    "sql = 'select database()'\n",
    "cursor.execute(sql)\n",
    "result = cursor.fetchone()\n",
    "result"
   ]
  },
  {
   "cell_type": "markdown",
   "id": "40bccf02-c3ef-4620-a8ad-b022d1055477",
   "metadata": {},
   "source": [
    "**테이블 생성 SQL실행하기 : cursor.execute(SQL)**\n",
    "\n",
    "**실행mysql 서버에 확정 반영하기 : db.commit()**"
   ]
  },
  {
   "cell_type": "code",
   "execution_count": 15,
   "id": "6f936336-a45e-48b3-815f-8ac4466d6270",
   "metadata": {},
   "outputs": [
    {
     "data": {
      "text/plain": [
       "<pymysql.cursors.Cursor at 0x1fe74dcf9d0>"
      ]
     },
     "execution_count": 15,
     "metadata": {},
     "output_type": "execute_result"
    }
   ],
   "source": [
    "cursor"
   ]
  },
  {
   "cell_type": "markdown",
   "id": "7999fd38-be53-4809-8252-fdc940ba1e3d",
   "metadata": {},
   "source": [
    "cursor은 control structure of database임(연결된 객체)"
   ]
  },
  {
   "cell_type": "code",
   "execution_count": 16,
   "id": "5ed3204d-0af4-4f85-a830-2dacbe498f36",
   "metadata": {},
   "outputs": [],
   "source": [
    "sql = \"\"\"\n",
    "    CREATE TABLE product (\n",
    "        PRODUCT_CODE VARCHAR(20) NOT NULL,\n",
    "        TITLE VARCHAR(200) NOT NULL,\n",
    "        ORI_PRICE INT,\n",
    "        DISCOUNT_PRICE INT,\n",
    "        DISCOUNT_PERCENT INT,\n",
    "        DELIVERY VARCHAR(2),\n",
    "        PRIMARY KEY(PRODUCT_CODE)\n",
    "    );\n",
    "\"\"\""
   ]
  },
  {
   "cell_type": "markdown",
   "id": "b1223804-2d4f-4b45-833f-62eaea4a1c87",
   "metadata": {},
   "source": [
    "**SQL실행 (cursor객체의 execute()메서드를 사용해 INSERT,UPDATE,DELETE 문장을 DB 서버에 보냄)**"
   ]
  },
  {
   "cell_type": "code",
   "execution_count": 17,
   "id": "406b69ab-36d6-4276-b55f-2b1768cfb5a5",
   "metadata": {},
   "outputs": [
    {
     "data": {
      "text/plain": [
       "0"
      ]
     },
     "execution_count": 17,
     "metadata": {},
     "output_type": "execute_result"
    }
   ],
   "source": [
    "cursor.execute(sql)"
   ]
  },
  {
   "cell_type": "code",
   "execution_count": 18,
   "id": "ea981d58-6a99-424b-9022-5646b938f3e7",
   "metadata": {},
   "outputs": [
    {
     "data": {
      "text/plain": [
       "(('product',),)"
      ]
     },
     "execution_count": 18,
     "metadata": {},
     "output_type": "execute_result"
    }
   ],
   "source": [
    "sql = 'show tables'\n",
    "cursor.execute(sql)\n",
    "result = cursor.fetchall()\n",
    "result"
   ]
  },
  {
   "cell_type": "markdown",
   "id": "a8548d7d-aca5-454b-a822-53de61cdbb11",
   "metadata": {},
   "source": [
    "**삽입, 갱신, 삭제 등이 모두 끝났으면 Connection 객체의 commit() 메서드를 사용해 데이터를 Commit**"
   ]
  },
  {
   "cell_type": "code",
   "execution_count": 20,
   "id": "465cfe26-ce90-47c6-8a52-8d89911698e5",
   "metadata": {},
   "outputs": [],
   "source": [
    "#연결 종료\n",
    "db.close()"
   ]
  },
  {
   "cell_type": "code",
   "execution_count": null,
   "id": "9fc421f5-9a7d-4cb9-ac4e-15ca7c2c95ff",
   "metadata": {},
   "outputs": [],
   "source": []
  }
 ],
 "metadata": {
  "kernelspec": {
   "display_name": "Python 3 (ipykernel)",
   "language": "python",
   "name": "python3"
  },
  "language_info": {
   "codemirror_mode": {
    "name": "ipython",
    "version": 3
   },
   "file_extension": ".py",
   "mimetype": "text/x-python",
   "name": "python",
   "nbconvert_exporter": "python",
   "pygments_lexer": "ipython3",
   "version": "3.8.1"
  }
 },
 "nbformat": 4,
 "nbformat_minor": 5
}
