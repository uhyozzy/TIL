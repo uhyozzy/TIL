{
  "nbformat": 4,
  "nbformat_minor": 0,
  "metadata": {
    "colab": {
      "provenance": [],
      "authorship_tag": "ABX9TyOWiaZcXesXxoSjIE/42po0",
      "include_colab_link": true
    },
    "kernelspec": {
      "name": "python3",
      "display_name": "Python 3"
    },
    "language_info": {
      "name": "python"
    }
  },
  "cells": [
    {
      "cell_type": "markdown",
      "metadata": {
        "id": "view-in-github",
        "colab_type": "text"
      },
      "source": [
        "<a href=\"https://colab.research.google.com/github/uhyozzy/TIL/blob/main/%EC%9E%90%EB%A3%8C%EA%B5%AC%EC%A1%B0%EC%99%80%20%EC%95%8C%EA%B3%A0%EB%A6%AC%EC%A6%98/%EC%9D%B4%EC%A7%84%ED%83%90%EC%83%89%ED%8A%B8%EB%A6%AC.ipynb\" target=\"_parent\"><img src=\"https://colab.research.google.com/assets/colab-badge.svg\" alt=\"Open In Colab\"/></a>"
      ]
    },
    {
      "cell_type": "markdown",
      "source": [
        "**이진탐색트리**\n",
        "- 작은 값 왼쪽, 큰 값 오른쪽\n",
        "- root 가장 노드 값을 가리킴"
      ],
      "metadata": {
        "id": "OnFKtNX6XxN0"
      }
    },
    {
      "cell_type": "markdown",
      "source": [
        "**함수 선언부**"
      ],
      "metadata": {
        "id": "IMKPSAUqVlQk"
      }
    },
    {
      "cell_type": "code",
      "execution_count": 8,
      "metadata": {
        "id": "C9v6gpmgVioj"
      },
      "outputs": [],
      "source": [
        "class TreeNode():\n",
        "  def __init__(self):\n",
        "    self.left = None\n",
        "    self.data = None\n",
        "    self.right = None"
      ]
    },
    {
      "cell_type": "markdown",
      "source": [
        "**전역 변수부**"
      ],
      "metadata": {
        "id": "vD6Ftni2Vlil"
      }
    },
    {
      "cell_type": "code",
      "source": [
        "memory = []\n",
        "root = None\n",
        "nameAry = ['블랙핑크', '레드벨벳', '마마무', '에이핑크', '걸스데이', '트와이스']"
      ],
      "metadata": {
        "id": "qJkyxv12Vl5A"
      },
      "execution_count": 9,
      "outputs": []
    },
    {
      "cell_type": "markdown",
      "source": [
        "**메인 코딩부**"
      ],
      "metadata": {
        "id": "ms0CfBn3VmOP"
      }
    },
    {
      "cell_type": "code",
      "source": [
        "node = TreeNode()\n",
        "node.data = nameAry[0]\n",
        "root = node\n",
        "\n",
        "for name in nameAry[1:]:\n",
        "    node = TreeNode()\n",
        "    node.data = name\n",
        "\n",
        "    current = root\n",
        "\n",
        "    while True:\n",
        "        if name < current.data:\n",
        "            if current.left is None:\n",
        "                current.left = node\n",
        "                break\n",
        "            else:\n",
        "                current = current.left\n",
        "        else:\n",
        "            if current.right is None:\n",
        "                current.right = node\n",
        "                break\n",
        "            else:\n",
        "                current = current.right\n",
        "                continue\n",
        "\n",
        "print('이진 탐색 트리 완료!')"
      ],
      "metadata": {
        "colab": {
          "base_uri": "https://localhost:8080/"
        },
        "id": "7lNtEBd5VnDB",
        "outputId": "dff2fb75-c471-4d88-c426-5eb98389dbe3"
      },
      "execution_count": 37,
      "outputs": [
        {
          "output_type": "stream",
          "name": "stdout",
          "text": [
            "이진 탐색 트리 완료!\n"
          ]
        }
      ]
    }
  ]
}