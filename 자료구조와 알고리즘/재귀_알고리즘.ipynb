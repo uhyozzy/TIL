{
  "nbformat": 4,
  "nbformat_minor": 0,
  "metadata": {
    "colab": {
      "provenance": [],
      "authorship_tag": "ABX9TyNDc1OsfxIaSDc1H9dbxQGk",
      "include_colab_link": true
    },
    "kernelspec": {
      "name": "python3",
      "display_name": "Python 3"
    },
    "language_info": {
      "name": "python"
    }
  },
  "cells": [
    {
      "cell_type": "markdown",
      "metadata": {
        "id": "view-in-github",
        "colab_type": "text"
      },
      "source": [
        "<a href=\"https://colab.research.google.com/github/uhyozzy/TIL/blob/main/%EC%9E%90%EB%A3%8C%EA%B5%AC%EC%A1%B0%EC%99%80%20%EC%95%8C%EA%B3%A0%EB%A6%AC%EC%A6%98/%EC%9E%AC%EA%B7%80_%EC%95%8C%EA%B3%A0%EB%A6%AC%EC%A6%98.ipynb\" target=\"_parent\"><img src=\"https://colab.research.google.com/assets/colab-badge.svg\" alt=\"Open In Colab\"/></a>"
      ]
    },
    {
      "cell_type": "markdown",
      "source": [
        "- 재귀란 러시아인형 마트료시카처럼 계속 열면 자기자신이 나오는 것\n",
        "- 즉, 어떠한 문제를 자기 자신을 호출하여 해결하는 과정"
      ],
      "metadata": {
        "id": "8aFn8Cw0D-_W"
      }
    },
    {
      "cell_type": "markdown",
      "source": [
        "**함수 선언부**"
      ],
      "metadata": {
        "id": "QQB13eHmDboN"
      }
    },
    {
      "cell_type": "code",
      "execution_count": 8,
      "metadata": {
        "id": "ZiGT9xHKChaV"
      },
      "outputs": [],
      "source": [
        "def openBox() :\n",
        "  global count\n",
        "  print('상자 열기!~')\n",
        "  count -= 1\n",
        "  if (count == 0 ):\n",
        "    print('**선물 넣기**')\n",
        "    return\n",
        "  openBox()  # 0이 아니면 openBox()실행\n",
        "  print('상자 닫기~!')\n",
        "  return"
      ]
    },
    {
      "cell_type": "markdown",
      "source": [
        "**메인 코드부**"
      ],
      "metadata": {
        "id": "7m7PxtR3Dd3b"
      }
    },
    {
      "cell_type": "code",
      "source": [
        "count = 10\n",
        "openBox()"
      ],
      "metadata": {
        "colab": {
          "base_uri": "https://localhost:8080/"
        },
        "id": "wc_IueSVDjb-",
        "outputId": "87a06d87-0371-40f6-933c-c0f11ab69733"
      },
      "execution_count": 9,
      "outputs": [
        {
          "output_type": "stream",
          "name": "stdout",
          "text": [
            "상자 열기!~\n",
            "상자 열기!~\n",
            "상자 열기!~\n",
            "상자 열기!~\n",
            "상자 열기!~\n",
            "상자 열기!~\n",
            "상자 열기!~\n",
            "상자 열기!~\n",
            "상자 열기!~\n",
            "상자 열기!~\n",
            "**선물 넣기**\n",
            "상자 닫기~!\n",
            "상자 닫기~!\n",
            "상자 닫기~!\n",
            "상자 닫기~!\n",
            "상자 닫기~!\n",
            "상자 닫기~!\n",
            "상자 닫기~!\n",
            "상자 닫기~!\n",
            "상자 닫기~!\n"
          ]
        }
      ]
    }
  ]
}