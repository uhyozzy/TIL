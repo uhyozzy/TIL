{
  "nbformat": 4,
  "nbformat_minor": 0,
  "metadata": {
    "colab": {
      "provenance": [],
      "authorship_tag": "ABX9TyMQ7vSIccxjzOXCdDea2JK6",
      "include_colab_link": true
    },
    "kernelspec": {
      "name": "python3",
      "display_name": "Python 3"
    },
    "language_info": {
      "name": "python"
    }
  },
  "cells": [
    {
      "cell_type": "markdown",
      "metadata": {
        "id": "view-in-github",
        "colab_type": "text"
      },
      "source": [
        "<a href=\"https://colab.research.google.com/github/uhyozzy/TIL/blob/main/%EC%9E%90%EB%A3%8C%EA%B5%AC%EC%A1%B0%EC%99%80%20%EC%95%8C%EA%B3%A0%EB%A6%AC%EC%A6%98/%EC%8A%A4%ED%83%9D%EC%9D%98_%EA%B0%84%EB%8B%A8%EA%B5%AC%ED%98%84.ipynb\" target=\"_parent\"><img src=\"https://colab.research.google.com/assets/colab-badge.svg\" alt=\"Open In Colab\"/></a>"
      ]
    },
    {
      "cell_type": "markdown",
      "source": [
        "**함수 선언부**"
      ],
      "metadata": {
        "id": "y244gudq17H0"
      }
    },
    {
      "cell_type": "markdown",
      "source": [
        "**<1> Push**"
      ],
      "metadata": {
        "id": "-680b2dc5t3a"
      }
    },
    {
      "cell_type": "code",
      "execution_count": 26,
      "metadata": {
        "id": "Shf9umL016E-"
      },
      "outputs": [],
      "source": [
        "def isStackFull() :\n",
        "  global SIZE, stack, top\n",
        "  if (top >= SIZE-1):\n",
        "    return True\n",
        "  else :\n",
        "    return False\n",
        "\n",
        "\n",
        "def push(data) :\n",
        "  global SIZE, stack, top\n",
        "  if (isStackFull() == True) :\n",
        "    print('스택이 꽉 찼습니다.')\n",
        "    return\n",
        "  top += 1\n",
        "  stack[top] = data"
      ]
    },
    {
      "cell_type": "markdown",
      "source": [
        "**<2>Pop**"
      ],
      "metadata": {
        "id": "xetqBorL5w34"
      }
    },
    {
      "cell_type": "code",
      "source": [
        "def isStackEmpty() :\n",
        "  global SIZE, stack, top\n",
        "  if (top == -1) :\n",
        "    return True\n",
        "  else :\n",
        "    return False\n",
        "\n",
        "def pop() :\n",
        "  global SIZE, stack, top\n",
        "  if (isStackEmpty() == True) :\n",
        "    print('스택이 비었습니다.')\n",
        "    return None\n",
        "  data = stack[top]\n",
        "  stack[top] = None\n",
        "  top -= 1\n",
        "  return data\n",
        "\n",
        "\n"
      ],
      "metadata": {
        "id": "g2nVH9JK5zS_"
      },
      "execution_count": 31,
      "outputs": []
    },
    {
      "cell_type": "markdown",
      "source": [
        "**<3>peek**"
      ],
      "metadata": {
        "id": "h0i0J6XL7i3U"
      }
    },
    {
      "cell_type": "code",
      "source": [
        "def peek() :\n",
        "  global SIZE, stack, top\n",
        "  if (isStackEmpty()):\n",
        "    print('스택이 비었습니다.')\n",
        "    return None\n",
        "  return stack[top]"
      ],
      "metadata": {
        "id": "hKKBSRQM7mTB"
      },
      "execution_count": 38,
      "outputs": []
    },
    {
      "cell_type": "markdown",
      "source": [
        "**전역 변수부**"
      ],
      "metadata": {
        "id": "cs0gYADv174t"
      }
    },
    {
      "cell_type": "code",
      "source": [
        "SIZE = 5\n",
        "stack = [ None for _ in range(SIZE)]\n",
        "top =-1"
      ],
      "metadata": {
        "id": "WXgbHp2C18QZ"
      },
      "execution_count": 33,
      "outputs": []
    },
    {
      "cell_type": "markdown",
      "source": [
        "**메인 코드부**"
      ],
      "metadata": {
        "id": "Wl51V_Ue18z_"
      }
    },
    {
      "cell_type": "markdown",
      "source": [
        "**<1>push**"
      ],
      "metadata": {
        "id": "z1KwaCjY6Td0"
      }
    },
    {
      "cell_type": "code",
      "source": [
        "push('커피')\n",
        "push('녹차')\n",
        "push('꿀물')\n",
        "push('콜라')\n",
        "push('환타')\n",
        "print(stack)\n",
        "\n",
        "push('제로콜라')\n",
        "print(stack)"
      ],
      "metadata": {
        "colab": {
          "base_uri": "https://localhost:8080/"
        },
        "id": "oXVOc88R3ixi",
        "outputId": "0d4a3209-990a-40d8-f987-d26e5a1c5b5d"
      },
      "execution_count": 34,
      "outputs": [
        {
          "output_type": "stream",
          "name": "stdout",
          "text": [
            "['커피', '녹차', '꿀물', '콜라', '환타']\n",
            "스택이 꽉 찼습니다.\n",
            "['커피', '녹차', '꿀물', '콜라', '환타']\n"
          ]
        }
      ]
    },
    {
      "cell_type": "markdown",
      "source": [
        "**<2>pop**"
      ],
      "metadata": {
        "id": "DYvjTurD6Y3T"
      }
    },
    {
      "cell_type": "code",
      "source": [
        "retData = pop()\n",
        "print('팝-->', retData)\n",
        "retData = pop()\n",
        "print('팝-->', retData)\n",
        "retData = pop()\n",
        "print('팝-->', retData)\n",
        "\n",
        "print('바닥:', stack)"
      ],
      "metadata": {
        "colab": {
          "base_uri": "https://localhost:8080/"
        },
        "id": "qCHJCQRQ5sBh",
        "outputId": "7d8df34c-1ee8-4347-e55a-d2438a78192e"
      },
      "execution_count": 35,
      "outputs": [
        {
          "output_type": "stream",
          "name": "stdout",
          "text": [
            "팝--> 환타\n",
            "팝--> 콜라\n",
            "팝--> 꿀물\n",
            "바닥: ['커피', '녹차', None, None, None]\n"
          ]
        }
      ]
    },
    {
      "cell_type": "code",
      "source": [
        "# Push()\n",
        "top += 1\n",
        "stack[top] = '커피'\n",
        "top += 1\n",
        "stack[top]='녹차'\n",
        "top += 1\n",
        "stack[top]='꿀물'\n",
        "print('바닥: ',  stack)"
      ],
      "metadata": {
        "colab": {
          "base_uri": "https://localhost:8080/"
        },
        "id": "mXA4fV4o19L7",
        "outputId": "e107c0ef-eb29-42be-a90a-4f641bc7f6d6"
      },
      "execution_count": 12,
      "outputs": [
        {
          "output_type": "stream",
          "name": "stdout",
          "text": [
            "바닥:  ['커피', '녹차', '꿀물', None, None]\n"
          ]
        }
      ]
    },
    {
      "cell_type": "code",
      "source": [
        "# Pop()\n",
        "data = stack[top]\n",
        "stack[top] = None\n",
        "top -= 1\n",
        "print('팝-->', data)\n",
        "\n",
        "data = stack[top]\n",
        "stack[top] = None\n",
        "top -= 1\n",
        "print('팝-->', data)\n",
        "\n",
        "\n",
        "data = stack[top]\n",
        "stack[top] = None\n",
        "top -= 1\n",
        "print('팝-->', data)\n",
        "\n",
        "print('바닥 : ', stack)"
      ],
      "metadata": {
        "colab": {
          "base_uri": "https://localhost:8080/"
        },
        "id": "QjmHR0HQ2XmZ",
        "outputId": "03809a14-d90d-44c2-ccec-52e2f5c8550b"
      },
      "execution_count": 13,
      "outputs": [
        {
          "output_type": "stream",
          "name": "stdout",
          "text": [
            "팝--> 꿀물\n",
            "팝--> 녹차\n",
            "팝--> 커피\n",
            "바닥 :  [None, None, None, None, None]\n"
          ]
        }
      ]
    }
  ]
}