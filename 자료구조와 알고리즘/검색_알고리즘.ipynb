{
  "nbformat": 4,
  "nbformat_minor": 0,
  "metadata": {
    "colab": {
      "provenance": [],
      "authorship_tag": "ABX9TyNmCYovsQsWW5/Ozc827aKe",
      "include_colab_link": true
    },
    "kernelspec": {
      "name": "python3",
      "display_name": "Python 3"
    },
    "language_info": {
      "name": "python"
    }
  },
  "cells": [
    {
      "cell_type": "markdown",
      "metadata": {
        "id": "view-in-github",
        "colab_type": "text"
      },
      "source": [
        "<a href=\"https://colab.research.google.com/github/uhyozzy/TIL/blob/main/%EC%9E%90%EB%A3%8C%EA%B5%AC%EC%A1%B0%EC%99%80%20%EC%95%8C%EA%B3%A0%EB%A6%AC%EC%A6%98/%EA%B2%80%EC%83%89_%EC%95%8C%EA%B3%A0%EB%A6%AC%EC%A6%98.ipynb\" target=\"_parent\"><img src=\"https://colab.research.google.com/assets/colab-badge.svg\" alt=\"Open In Colab\"/></a>"
      ]
    },
    {
      "cell_type": "markdown",
      "source": [
        "**함수 선언부**"
      ],
      "metadata": {
        "id": "d-M0MeQg6X1T"
      }
    },
    {
      "cell_type": "code",
      "execution_count": 1,
      "metadata": {
        "id": "86y8wmWv5yZR"
      },
      "outputs": [],
      "source": [
        "import random"
      ]
    },
    {
      "cell_type": "code",
      "source": [
        "def seqSearch(ary, fData):\n",
        "  pos = -1  # 못찾았다고 가정하고 끝까지 못찾으면 -1 return\n",
        "  for i in range(len(ary)) :\n",
        "    if (findData == ary[i]) :\n",
        "      pos = i\n",
        "      break\n",
        "  return pos"
      ],
      "metadata": {
        "id": "yf6PvNfe7Tw0"
      },
      "execution_count": 7,
      "outputs": []
    },
    {
      "cell_type": "markdown",
      "source": [
        "**전역 변수부**"
      ],
      "metadata": {
        "id": "hw8UkoTJ6YOv"
      }
    },
    {
      "cell_type": "code",
      "source": [
        "dataAry = [random.randint(30,190) for _ in range(8)]\n",
        "findData = random.choice(dataAry)\n",
        "# findData = 999 # 검색에 실패하는 경우"
      ],
      "metadata": {
        "id": "neTlwB4Z6vc3"
      },
      "execution_count": 11,
      "outputs": []
    },
    {
      "cell_type": "markdown",
      "source": [
        "**메인 코드부**"
      ],
      "metadata": {
        "id": "OAPKlw9_6ZX6"
      }
    },
    {
      "cell_type": "code",
      "source": [
        "print('배열 --->', dataAry)\n",
        "position = seqSearch(dataAry, findData)\n",
        "if (position == -1) : # 못찾았을 때\n",
        "  print(findData, '없어요ㅠ')\n",
        "else :\n",
        "  print(findData, '는', position, '위치에 있어요.')"
      ],
      "metadata": {
        "colab": {
          "base_uri": "https://localhost:8080/"
        },
        "id": "6tBV6JBC6ZwV",
        "outputId": "93701fae-587d-481e-a19e-c0d7b62921b9"
      },
      "execution_count": 12,
      "outputs": [
        {
          "output_type": "stream",
          "name": "stdout",
          "text": [
            "배열 ---> [50, 127, 131, 62, 91, 160, 67, 101]\n",
            "999 없어요ㅠ\n"
          ]
        }
      ]
    },
    {
      "cell_type": "markdown",
      "source": [
        "# **이진검색 : 정렬이 되어있는 경우 검색 구현**\n",
        "\n",
        "**함수 선언부**"
      ],
      "metadata": {
        "id": "H0xE1szj9l7U"
      }
    },
    {
      "cell_type": "code",
      "source": [
        "import random"
      ],
      "metadata": {
        "id": "q9ntqRFm9sDz"
      },
      "execution_count": 13,
      "outputs": []
    },
    {
      "cell_type": "code",
      "source": [
        "def binSearch(ary, fData) :\n",
        "  pos = -1\n",
        "  start = 0\n",
        "  end = len(ary) - 1\n",
        "  while (start <= end) :      # 시작이 끝보다 작을때까지\n",
        "    mid = (start + end) // 2  # 슬래시 두개면 소숫점 버림\n",
        "    if (ary[mid] == fData) :\n",
        "      pos = mid\n",
        "      break\n",
        "    elif (ary[mid] < fData) :\n",
        "      start = mid + 1\n",
        "    else :\n",
        "      end = mid - 1\n",
        "  return pos # 못찾으면 pos값 반환"
      ],
      "metadata": {
        "id": "EenjPmtF_TsF"
      },
      "execution_count": 17,
      "outputs": []
    },
    {
      "cell_type": "markdown",
      "source": [
        "**전역 변수부**"
      ],
      "metadata": {
        "id": "iwz2wkJi9vt3"
      }
    },
    {
      "cell_type": "code",
      "source": [
        "dataAry = [random.randint(30,190) for _ in range(10)]\n",
        "findData = random.choice(dataAry)\n",
        "dataAry.sort() # 정렬시킴"
      ],
      "metadata": {
        "id": "bAnuwLT59wC9"
      },
      "execution_count": 14,
      "outputs": []
    },
    {
      "cell_type": "markdown",
      "source": [
        "**메인 코드부**"
      ],
      "metadata": {
        "id": "zcugqFDc9tRa"
      }
    },
    {
      "cell_type": "code",
      "source": [
        "print('배열 --->', dataAry)\n",
        "position = binSearch(dataAry, findData)\n",
        "if (position == -1) : # 못찾았을 때\n",
        "  print(findData, '없어요ㅠ')\n",
        "else :\n",
        "  print(findData, '는', position, '위치에 있어요.')"
      ],
      "metadata": {
        "colab": {
          "base_uri": "https://localhost:8080/"
        },
        "id": "vb5a4-eK9vRy",
        "outputId": "4d622cee-7fa5-4d8e-d913-a5ccb302fbb1"
      },
      "execution_count": 18,
      "outputs": [
        {
          "output_type": "stream",
          "name": "stdout",
          "text": [
            "배열 ---> [63, 73, 80, 100, 108, 123, 129, 170]\n",
            "80 는 2 위치에 있어요.\n"
          ]
        }
      ]
    }
  ]
}