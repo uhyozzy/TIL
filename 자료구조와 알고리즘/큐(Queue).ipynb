{
  "nbformat": 4,
  "nbformat_minor": 0,
  "metadata": {
    "colab": {
      "provenance": [],
      "authorship_tag": "ABX9TyPr1tYooyk8VjPGTCsFt1XU",
      "include_colab_link": true
    },
    "kernelspec": {
      "name": "python3",
      "display_name": "Python 3"
    },
    "language_info": {
      "name": "python"
    }
  },
  "cells": [
    {
      "cell_type": "markdown",
      "metadata": {
        "id": "view-in-github",
        "colab_type": "text"
      },
      "source": [
        "<a href=\"https://colab.research.google.com/github/uhyozzy/TIL/blob/main/%EC%9E%90%EB%A3%8C%EA%B5%AC%EC%A1%B0%EC%99%80%20%EC%95%8C%EA%B3%A0%EB%A6%AC%EC%A6%98/%ED%81%90(Queue).ipynb\" target=\"_parent\"><img src=\"https://colab.research.google.com/assets/colab-badge.svg\" alt=\"Open In Colab\"/></a>"
      ]
    },
    {
      "cell_type": "markdown",
      "source": [
        "# **enQueue, deQueue 기본**"
      ],
      "metadata": {
        "id": "rvhEcb0Fsna8"
      }
    },
    {
      "cell_type": "markdown",
      "source": [
        "**함수 선언부**"
      ],
      "metadata": {
        "id": "7J-G5Aj1jcrX"
      }
    },
    {
      "cell_type": "markdown",
      "source": [
        "**전역 변수부**"
      ],
      "metadata": {
        "id": "Lydzct8EjdGg"
      }
    },
    {
      "cell_type": "code",
      "source": [
        "# 큐(queue) 초기화\n",
        "SIZE = 5\n",
        "queue = [None for _ in range(SIZE)]\n",
        "front = rear = -1 # queue가 비어있는 상태"
      ],
      "metadata": {
        "id": "r0MeJiiYjeGS"
      },
      "execution_count": 11,
      "outputs": []
    },
    {
      "cell_type": "markdown",
      "source": [
        "**메인 코딩부**"
      ],
      "metadata": {
        "id": "rnr2RschjemF"
      }
    },
    {
      "cell_type": "code",
      "source": [
        "# enQueue()\n",
        "rear += 1     # 꼬리부터 들어감\n",
        "queue[rear] ='화사'\n",
        "\n",
        "rear += 1\n",
        "queue[rear] ='솔라'\n",
        "\n",
        "rear += 1\n",
        "queue[rear] ='문별'\n",
        "\n",
        "print('출구<--',queue,'<--입구')"
      ],
      "metadata": {
        "colab": {
          "base_uri": "https://localhost:8080/"
        },
        "id": "6ediWH6Ojexf",
        "outputId": "ff1f0d77-04b5-49ff-8a8d-e09b57ea271f"
      },
      "execution_count": 12,
      "outputs": [
        {
          "output_type": "stream",
          "name": "stdout",
          "text": [
            "출구<-- ['화사', '솔라', '문별', None, None] <--입구\n"
          ]
        }
      ]
    },
    {
      "cell_type": "code",
      "source": [
        "# deQueue()\n",
        "front += 1\n",
        "data = queue[front]\n",
        "queue[front] = None   # 나간자리 비우기\n",
        "print('손님 이리로 : ', data)\n",
        "\n",
        "front += 1\n",
        "data = queue[front]\n",
        "queue[front] = None   # 나간자리 비우기\n",
        "print('손님 이리로 : ', data)"
      ],
      "metadata": {
        "colab": {
          "base_uri": "https://localhost:8080/"
        },
        "id": "Z-dl8eQsjyWX",
        "outputId": "a03b3044-6e89-4895-f9b8-c26e8a1b5ad5"
      },
      "execution_count": 13,
      "outputs": [
        {
          "output_type": "stream",
          "name": "stdout",
          "text": [
            "손님 이리로 :  화사\n",
            "손님 이리로 :  솔라\n"
          ]
        }
      ]
    },
    {
      "cell_type": "markdown",
      "source": [
        "\n",
        "\n",
        "---\n",
        "\n"
      ],
      "metadata": {
        "id": "pY8__5gkmYIU"
      }
    },
    {
      "cell_type": "markdown",
      "source": [
        "# **enQueue, deQueue 실전**"
      ],
      "metadata": {
        "id": "XkMxl1Fvsvoh"
      }
    },
    {
      "cell_type": "markdown",
      "source": [
        "**함수 선언부**"
      ],
      "metadata": {
        "id": "eocIIkMhmQaU"
      }
    },
    {
      "cell_type": "code",
      "source": [
        "def isQueueFull():\n",
        "  global SIZE, queue, front, rear\n",
        "  if (rear == SIZE - 1):      # 꼬리가 마지막 칸을 가리키면 꽉찬거임\n",
        "    return True\n",
        "  else :\n",
        "    return False\n",
        "\n",
        "\n",
        "def enQueue(data):\n",
        "  global SIZE, queue, front, rear\n",
        "  if (isQueueFull()):\n",
        "    print('큐가 꽉 찼습니다.')\n",
        "    return\n",
        "  rear += 1\n",
        "  queue[rear] = data"
      ],
      "metadata": {
        "id": "Rbm-Dv04mQ1w"
      },
      "execution_count": 20,
      "outputs": []
    },
    {
      "cell_type": "code",
      "source": [
        "def isQueueEmpty():\n",
        "  global SIZE, queue, front, rear\n",
        "  if (rear == front) :    # 머리와 꼬리가 같으면 빈 것(들어갔다가 나올 수 있으므로)\n",
        "    return True\n",
        "  else :\n",
        "    return False\n",
        "\n",
        "def deQueue() :\n",
        "  global SIZE, queue, front, rear\n",
        "  if (isQueueEmpty()):\n",
        "    print('큐가 텅 비었습니다.')\n",
        "    return\n",
        "  front += 1\n",
        "  data = queue[front]\n",
        "  queue[front] = None   # 나간자리 비우기\n",
        "  return data"
      ],
      "metadata": {
        "id": "e4D2l4xXrd6B"
      },
      "execution_count": 22,
      "outputs": []
    },
    {
      "cell_type": "code",
      "source": [
        "def peek():\n",
        "  global SIZE, queue, front, rear\n",
        "  if (isQueueEmpty()):\n",
        "    print('큐가 텅비었습니다.')\n",
        "    return\n",
        "  return queue[front+1]"
      ],
      "metadata": {
        "id": "wA10z6q2sh8q"
      },
      "execution_count": 33,
      "outputs": []
    },
    {
      "cell_type": "markdown",
      "source": [
        "**전역 변수부**"
      ],
      "metadata": {
        "id": "iOylFpFemRUq"
      }
    },
    {
      "cell_type": "code",
      "source": [
        "# 큐(queue) 초기화\n",
        "SIZE = 5\n",
        "queue = [None for _ in range(SIZE)]\n",
        "front = rear = -1 # queue가 비어있는 상태"
      ],
      "metadata": {
        "id": "ckqU6Ok-mSJ1"
      },
      "execution_count": 30,
      "outputs": []
    },
    {
      "cell_type": "markdown",
      "source": [
        "**메인 코딩부**"
      ],
      "metadata": {
        "id": "_rQgqeszmSu7"
      }
    },
    {
      "cell_type": "code",
      "source": [
        "enQueue('화사')\n",
        "enQueue('솔라')\n",
        "enQueue('문별')\n",
        "enQueue('휘인')\n",
        "enQueue('선미')\n",
        "\n",
        "print('출구<--',queue,'<--입구')\n",
        "\n",
        "enQueue('재남')\n",
        "print('출구<--',queue,'<--입구')"
      ],
      "metadata": {
        "colab": {
          "base_uri": "https://localhost:8080/"
        },
        "id": "bArK9VzEmTKt",
        "outputId": "0d5432b3-cd22-4337-d08d-12f9844b9021"
      },
      "execution_count": 31,
      "outputs": [
        {
          "output_type": "stream",
          "name": "stdout",
          "text": [
            "출구<-- ['화사', '솔라', '문별', '휘인', '선미'] <--입구\n",
            "큐가 꽉 찼습니다.\n",
            "출구<-- ['화사', '솔라', '문별', '휘인', '선미'] <--입구\n"
          ]
        }
      ]
    },
    {
      "cell_type": "code",
      "source": [
        "enQueue('화사')\n",
        "enQueue('솔라')\n",
        "\n",
        "print('출구<--',queue,'<--입구')\n",
        "\n",
        "retData = deQueue()\n",
        "print('식사 손님 : ', retData)\n",
        "retData = deQueue()\n",
        "print('식사 손님 : ', retData)\n",
        "retData = deQueue()\n",
        "print('식사 손님 : ', retData)\n",
        "retData = deQueue()\n",
        "print('식사 손님 : ', retData)\n",
        "retData = deQueue()\n",
        "print('식사 손님 : ', retData)\n",
        "retData = deQueue()\n",
        "print('식사 손님 : ', retData) # 손님이 한명도 없는 상태\n",
        "\n",
        "print('출구<--',queue,'<--입구')"
      ],
      "metadata": {
        "colab": {
          "base_uri": "https://localhost:8080/"
        },
        "id": "n1l_fBviq-tC",
        "outputId": "6226f009-c5db-4d8e-e659-e54ccc85ae11"
      },
      "execution_count": 32,
      "outputs": [
        {
          "output_type": "stream",
          "name": "stdout",
          "text": [
            "큐가 꽉 찼습니다.\n",
            "큐가 꽉 찼습니다.\n",
            "출구<-- ['화사', '솔라', '문별', '휘인', '선미'] <--입구\n",
            "식사 손님 :  화사\n",
            "식사 손님 :  솔라\n",
            "식사 손님 :  문별\n",
            "식사 손님 :  휘인\n",
            "식사 손님 :  선미\n",
            "큐가 텅 비었습니다.\n",
            "식사 손님 :  None\n",
            "출구<-- [None, None, None, None, None] <--입구\n"
          ]
        }
      ]
    },
    {
      "cell_type": "markdown",
      "source": [
        "\n",
        "\n",
        "---\n",
        "\n"
      ],
      "metadata": {
        "id": "9gus3FHLtZk2"
      }
    },
    {
      "cell_type": "markdown",
      "source": [
        "# **enQueue, deQueue 실무**"
      ],
      "metadata": {
        "id": "SoQFrJQ3tJCq"
      }
    },
    {
      "cell_type": "markdown",
      "source": [
        "**함수 선언부**"
      ],
      "metadata": {
        "id": "bBbGIlkgtI1a"
      }
    },
    {
      "cell_type": "code",
      "source": [
        "def isQueueFull():\n",
        "  global SIZE, queue, front, rear\n",
        "  if (rear != SIZE - 1) :\n",
        "    return False\n",
        "  elif (rear == SIZE - 1 and front == -1) :\n",
        "    return True\n",
        "  elif (rear == SIZE -1 and front != -1) : # 앞에 여유있는 경우\n",
        "    for i in range(front + 1, SIZE, 1) : # 한칸 앞으로 각각 보냄\n",
        "      queue[i-1] = queue[i]\n",
        "      queue[i] = None\n",
        "    front -= 1\n",
        "    rear -= 1\n",
        "    return False\n",
        "\n",
        "\n",
        "def enQueue(data):\n",
        "  global SIZE, queue, front, rear\n",
        "  if (isQueueFull()):\n",
        "    print('큐가 꽉 찼습니다.')\n",
        "    return\n",
        "  rear += 1\n",
        "  queue[rear] = data"
      ],
      "metadata": {
        "id": "XPeAqb-9tKGG"
      },
      "execution_count": 34,
      "outputs": []
    },
    {
      "cell_type": "markdown",
      "source": [
        "**전역 변수부**"
      ],
      "metadata": {
        "id": "-Jc0fuFetKeh"
      }
    },
    {
      "cell_type": "code",
      "source": [],
      "metadata": {
        "id": "QKKTRQwktKpX"
      },
      "execution_count": null,
      "outputs": []
    },
    {
      "cell_type": "markdown",
      "source": [
        "**메인 코딩부**"
      ],
      "metadata": {
        "id": "u98JLZC4tK4y"
      }
    },
    {
      "cell_type": "code",
      "source": [
        "# 5명 줄섬\n",
        "enQueue('화사')\n",
        "enQueue('솔라')\n",
        "enQueue('문별')\n",
        "enQueue('휘인')\n",
        "enQueue('선미')\n",
        "print('출구<--',queue,'<--입구')\n",
        "\n",
        "# 2명 나감\n",
        "retData = deQueue()\n",
        "print('식사 손님 : ', retData)\n",
        "retData = deQueue()\n",
        "print('식사 손님 : ', retData)\n",
        "print('출구<--',queue,'<--입구')\n",
        "\n",
        "# 1명 더 줄섬\n",
        "enQueue('재남')\n",
        "enQueue('정국')\n",
        "print('출구<--',queue,'<--입구')"
      ],
      "metadata": {
        "colab": {
          "base_uri": "https://localhost:8080/"
        },
        "id": "_8ZyzZT3tLLZ",
        "outputId": "4a18e711-85aa-4fc9-b3d5-7b92dd497ac3"
      },
      "execution_count": 35,
      "outputs": [
        {
          "output_type": "stream",
          "name": "stdout",
          "text": [
            "출구<-- ['화사', '솔라', '문별', '휘인', '선미'] <--입구\n",
            "식사 손님 :  화사\n",
            "식사 손님 :  솔라\n",
            "출구<-- [None, None, '문별', '휘인', '선미'] <--입구\n",
            "출구<-- ['문별', '휘인', '선미', '재남', '정국'] <--입구\n"
          ]
        }
      ]
    }
  ]
}