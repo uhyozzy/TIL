{
  "nbformat": 4,
  "nbformat_minor": 0,
  "metadata": {
    "colab": {
      "provenance": [],
      "authorship_tag": "ABX9TyMYvJ4ehqJ5HO5b5iTK6oqD",
      "include_colab_link": true
    },
    "kernelspec": {
      "name": "python3",
      "display_name": "Python 3"
    },
    "language_info": {
      "name": "python"
    }
  },
  "cells": [
    {
      "cell_type": "markdown",
      "metadata": {
        "id": "view-in-github",
        "colab_type": "text"
      },
      "source": [
        "<a href=\"https://colab.research.google.com/github/uhyozzy/TIL/blob/main/%EC%9E%90%EB%A3%8C%EA%B5%AC%EC%A1%B0%EC%99%80%20%EC%95%8C%EA%B3%A0%EB%A6%AC%EC%A6%98/%EB%8B%A8%EC%88%9C%EC%97%B0%EA%B2%B0%EB%A6%AC%EC%8A%A4%ED%8A%B8_%EA%B5%AC%ED%98%84.ipynb\" target=\"_parent\"><img src=\"https://colab.research.google.com/assets/colab-badge.svg\" alt=\"Open In Colab\"/></a>"
      ]
    },
    {
      "cell_type": "markdown",
      "source": [
        "**함수선언부**"
      ],
      "metadata": {
        "id": "Q14_6xC4Ne9q"
      }
    },
    {
      "cell_type": "markdown",
      "source": [
        "**<1> 노드 만들기**"
      ],
      "metadata": {
        "id": "e462agU_g5Ov"
      }
    },
    {
      "cell_type": "code",
      "execution_count": 37,
      "metadata": {
        "id": "wrPDJS4oMFos"
      },
      "outputs": [],
      "source": [
        "# 노드 만들기\n",
        "class Node() :\n",
        "  def __init__(self):\n",
        "    self.data = None\n",
        "    self.link = None\n",
        "\n",
        "def printNodes(start) :\n",
        "  current = start\n",
        "  print(current.data, end=' ')\n",
        "  while (current.link != None) :\n",
        "    current = current.link\n",
        "    print(current.data, end=' ')\n",
        "  print()\n",
        "\n",
        "def insertNode(findData, insertData) :\n",
        "  global memory, head, current, pre\n",
        "  # Case1 : 하필이면 머리(head) 앞에 삽입(다현앞에 화사 삽입)\n",
        "  if (head.data == findData) :\n",
        "    node = Node()\n",
        "    node.data = insertData\n",
        "    node.link = head\n",
        "    head = node\n",
        "    memory.append(node)\n",
        "    return\n",
        "  # Case2 : 중간노드 앞에 삽입(사나 앞에 솔라 삽입)\n",
        "  current = head\n",
        "  while (current.link != None):\n",
        "    pre = current\n",
        "    current = current.link\n",
        "    if (current.data == findData) :\n",
        "      node = Node()\n",
        "      node.data = insertData\n",
        "      node.link = current\n",
        "      pre.link = node\n",
        "      memory.append(node)\n",
        "      return\n",
        "  # Case3 : 없는 노드 앞에 삽입(==추가) (재남 앞에 문별 삽입)\n",
        "  node = Node()\n",
        "  node.data = insertData\n",
        "  current.link = node\n",
        "  memory.append(node)\n",
        "  return\n",
        "\n"
      ]
    },
    {
      "cell_type": "markdown",
      "source": [
        "**<2> 노드 삭제**"
      ],
      "metadata": {
        "id": "9iuQ32Kig-a7"
      }
    },
    {
      "cell_type": "code",
      "source": [
        "# 노드 삭제\n",
        "def deleteNode(deleteData) :\n",
        "  global memory, head, current, pre\n",
        "  # Case1 : 하필 머리를 삭제할 때(화사)\n",
        "  if (head.data == deleteData):\n",
        "    current = head\n",
        "    head = head.link\n",
        "    del(current)\n",
        "    return\n",
        "  # Case2 : 중간에 있는 데이터를 삭제할때(쯔위)\n",
        "  current = head\n",
        "  while (current.link != None) :\n",
        "    pre = current\n",
        "    current = current.link\n",
        "    if (current.data == deleteData) :\n",
        "      pre.link = current.link\n",
        "      del (current)\n",
        "      return\n",
        "  # Case3 : 삭제할 노드가 없을 때(재남)\n",
        "  return"
      ],
      "metadata": {
        "id": "F65p5r5EfViG"
      },
      "execution_count": 46,
      "outputs": []
    },
    {
      "cell_type": "markdown",
      "source": [
        "**전역변수부**"
      ],
      "metadata": {
        "id": "AxKTOeXiNfmE"
      }
    },
    {
      "cell_type": "code",
      "source": [
        "memory = []\n",
        "head, current, pre = None, None, None\n",
        "dataArray = ['다현','정연','쯔위','사나','지효'] # 실제데이터"
      ],
      "metadata": {
        "id": "eNVnwUh2NfPa"
      },
      "execution_count": 17,
      "outputs": []
    },
    {
      "cell_type": "markdown",
      "source": [
        "**메인코드부**"
      ],
      "metadata": {
        "id": "5Sx1lqk2NgI8"
      }
    },
    {
      "cell_type": "code",
      "source": [
        "node = Node()\n",
        "node.data = dataArray[0]\n",
        "head = node\n",
        "memory.append(node)\n",
        "\n",
        "for data in dataArray[1:] :\n",
        "  pre = node\n",
        "  node = Node()\n",
        "  node.data = data\n",
        "  pre.link = node\n",
        "  memory.append(node)\n",
        "\n",
        "printNodes(head)"
      ],
      "metadata": {
        "colab": {
          "base_uri": "https://localhost:8080/"
        },
        "id": "Q8I6rsEbNghX",
        "outputId": "dcc31be8-65fd-4dc4-febe-9b9f32f9981b"
      },
      "execution_count": 34,
      "outputs": [
        {
          "output_type": "stream",
          "name": "stdout",
          "text": [
            "다현 정연 쯔위 사나 지효 \n"
          ]
        }
      ]
    },
    {
      "cell_type": "code",
      "source": [
        "# Case1 : 하필이면 머리(head) 앞에 삽입(다현앞에 화사 삽입)\n",
        "insertNode('다현','화사')\n",
        "printNodes(head)"
      ],
      "metadata": {
        "colab": {
          "base_uri": "https://localhost:8080/"
        },
        "id": "qlyW1ZNLc0kU",
        "outputId": "f6a5f62f-9344-4250-b567-90b2ac30b7f7"
      },
      "execution_count": 35,
      "outputs": [
        {
          "output_type": "stream",
          "name": "stdout",
          "text": [
            "화사 다현 정연 쯔위 사나 지효 \n"
          ]
        }
      ]
    },
    {
      "cell_type": "code",
      "source": [
        "# Case2 : 중간노드 앞에 삽입(사나 앞에 솔라 삽입)\n",
        "insertNode('사나','솔라')\n",
        "printNodes(head)"
      ],
      "metadata": {
        "colab": {
          "base_uri": "https://localhost:8080/"
        },
        "id": "lt8sjM5qc3Wb",
        "outputId": "80512629-6ee3-40d7-e085-1344d36aced3"
      },
      "execution_count": 36,
      "outputs": [
        {
          "output_type": "stream",
          "name": "stdout",
          "text": [
            "화사 다현 정연 쯔위 솔라 사나 지효 \n"
          ]
        }
      ]
    },
    {
      "cell_type": "code",
      "source": [
        "# Case3 : 없는 노드 앞에 삽입(==추가) (재남 앞에 문별 삽입)\n",
        "insertNode('재남','문별')\n",
        "printNodes(head)"
      ],
      "metadata": {
        "colab": {
          "base_uri": "https://localhost:8080/"
        },
        "id": "sYAwOHSsdmGN",
        "outputId": "84326a8e-a214-458b-a48a-75f24d142082"
      },
      "execution_count": 39,
      "outputs": [
        {
          "output_type": "stream",
          "name": "stdout",
          "text": [
            "화사 다현 정연 쯔위 솔라 사나 지효 문별 \n"
          ]
        }
      ]
    },
    {
      "cell_type": "code",
      "source": [
        "# Case1 : 하필 머리를 삭제할 때(화사)\n",
        "deleteNode('화사')\n",
        "printNodes(head)"
      ],
      "metadata": {
        "colab": {
          "base_uri": "https://localhost:8080/"
        },
        "id": "3yLuMKVWfhjp",
        "outputId": "827ebfb7-be74-456a-f19a-4b96ab96bdad"
      },
      "execution_count": 43,
      "outputs": [
        {
          "output_type": "stream",
          "name": "stdout",
          "text": [
            "다현 정연 쯔위 솔라 사나 지효 문별 \n"
          ]
        }
      ]
    },
    {
      "cell_type": "code",
      "source": [
        "# Case2 : 중간에 있는 데이터를 삭제할때(쯔위)\n",
        "deleteNode('쯔위')\n",
        "printNodes(head)"
      ],
      "metadata": {
        "colab": {
          "base_uri": "https://localhost:8080/"
        },
        "id": "aLjMHHnCg1ew",
        "outputId": "d71e3e33-c90d-4a97-d0fc-84bffe4738c8"
      },
      "execution_count": 45,
      "outputs": [
        {
          "output_type": "stream",
          "name": "stdout",
          "text": [
            "다현 정연 솔라 사나 지효 문별 \n"
          ]
        }
      ]
    },
    {
      "cell_type": "code",
      "source": [
        "# Case3 : 삭제할 노드가 없을 때(재남)\n",
        "deleteNode('재남')\n",
        "printNodes(head)"
      ],
      "metadata": {
        "colab": {
          "base_uri": "https://localhost:8080/"
        },
        "id": "d_IGBA6mhPMo",
        "outputId": "8b9b3c0c-72a7-4000-e0d5-cb87b64a713e"
      },
      "execution_count": 47,
      "outputs": [
        {
          "output_type": "stream",
          "name": "stdout",
          "text": [
            "다현 정연 솔라 사나 지효 문별 \n"
          ]
        }
      ]
    }
  ]
}