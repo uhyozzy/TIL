{
  "nbformat": 4,
  "nbformat_minor": 0,
  "metadata": {
    "colab": {
      "provenance": [],
      "authorship_tag": "ABX9TyMHzJwLRgBTRUa3XXEnvnXh",
      "include_colab_link": true
    },
    "kernelspec": {
      "name": "python3",
      "display_name": "Python 3"
    },
    "language_info": {
      "name": "python"
    }
  },
  "cells": [
    {
      "cell_type": "markdown",
      "metadata": {
        "id": "view-in-github",
        "colab_type": "text"
      },
      "source": [
        "<a href=\"https://colab.research.google.com/github/uhyozzy/TIL/blob/main/%EC%9E%90%EB%A3%8C%EA%B5%AC%EC%A1%B0%EC%99%80%20%EC%95%8C%EA%B3%A0%EB%A6%AC%EC%A6%98/%EB%8B%A8%EC%88%9C%EC%97%B0%EA%B2%B0%EB%A6%AC%EC%8A%A4%ED%8A%B8_%EA%B5%AC%ED%98%84.ipynb\" target=\"_parent\"><img src=\"https://colab.research.google.com/assets/colab-badge.svg\" alt=\"Open In Colab\"/></a>"
      ]
    },
    {
      "cell_type": "markdown",
      "source": [
        "**함수선언부**"
      ],
      "metadata": {
        "id": "Q14_6xC4Ne9q"
      }
    },
    {
      "cell_type": "code",
      "execution_count": 2,
      "metadata": {
        "id": "wrPDJS4oMFos"
      },
      "outputs": [],
      "source": [
        "# 노드 만들기\n",
        "class Node() :\n",
        "  def __init__(self):\n",
        "    self.data = None\n",
        "    self.link = None"
      ]
    },
    {
      "cell_type": "markdown",
      "source": [
        "**전역변수부**"
      ],
      "metadata": {
        "id": "AxKTOeXiNfmE"
      }
    },
    {
      "cell_type": "code",
      "source": [],
      "metadata": {
        "id": "eNVnwUh2NfPa"
      },
      "execution_count": null,
      "outputs": []
    },
    {
      "cell_type": "markdown",
      "source": [
        "**메인코드부**"
      ],
      "metadata": {
        "id": "5Sx1lqk2NgI8"
      }
    },
    {
      "cell_type": "code",
      "source": [
        "node1 = Node()\n",
        "node1.data = '다현'\n",
        "\n",
        "node2 = Node()\n",
        "node2.data = '정연'\n",
        "node1.link = node2 # 다현과 정연을 연결시킴\n",
        "\n",
        "node3 = Node()\n",
        "node3.data = '쯔위'\n",
        "node2.link = node3\n",
        "\n",
        "node4 = Node()\n",
        "node4.data = '사나'\n",
        "node3.link = node4\n",
        "\n",
        "node5 = Node()\n",
        "node5.data = '지효'\n",
        "node4.link = node5\n",
        "\n",
        "# newNode = Node()\n",
        "# newNode.data = '재남' # 재남 추가\n",
        "# newNode.link = node2.link\n",
        "# node2.link = newNode\n",
        "\n",
        "node2.link = node3.link\n",
        "del(node3)\n",
        "\n",
        "current = node1\n",
        "print(current.data, end=' ')\n",
        "while (current.link != None) :\n",
        "  current = current.link\n",
        "  print(current.data, end=' ')\n",
        "print()\n",
        "\n",
        "print(node1.data, end=' ')\n",
        "print(node1.link.data, end=' ')\n",
        "print(node1.link.link.data, end=' ')\n",
        "print(node1.link.link.link.data, end=' ')\n",
        "# print(node1.link.link.link.link.data, end=' ')\n",
        "# print(node1.link.link.link.link.link.data, end=' ')"
      ],
      "metadata": {
        "colab": {
          "base_uri": "https://localhost:8080/"
        },
        "id": "Q8I6rsEbNghX",
        "outputId": "579b5c57-0c7e-426c-beac-47a61abe57bb"
      },
      "execution_count": 15,
      "outputs": [
        {
          "output_type": "stream",
          "name": "stdout",
          "text": [
            "다현 정연 사나 지효 \n",
            "다현 정연 사나 지효 "
          ]
        }
      ]
    }
  ]
}