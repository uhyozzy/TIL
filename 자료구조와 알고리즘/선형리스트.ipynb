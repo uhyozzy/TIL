{
  "nbformat": 4,
  "nbformat_minor": 0,
  "metadata": {
    "colab": {
      "provenance": [],
      "authorship_tag": "ABX9TyOTcVzxgt4rEtQ/aYn84C9u",
      "include_colab_link": true
    },
    "kernelspec": {
      "name": "python3",
      "display_name": "Python 3"
    },
    "language_info": {
      "name": "python"
    }
  },
  "cells": [
    {
      "cell_type": "markdown",
      "metadata": {
        "id": "view-in-github",
        "colab_type": "text"
      },
      "source": [
        "<a href=\"https://colab.research.google.com/github/uhyozzy/TIL/blob/main/%EC%9E%90%EB%A3%8C%EA%B5%AC%EC%A1%B0%EC%99%80%20%EC%95%8C%EA%B3%A0%EB%A6%AC%EC%A6%98/%EC%84%A0%ED%98%95%EB%A6%AC%EC%8A%A4%ED%8A%B8.ipynb\" target=\"_parent\"><img src=\"https://colab.research.google.com/assets/colab-badge.svg\" alt=\"Open In Colab\"/></a>"
      ]
    },
    {
      "cell_type": "markdown",
      "source": [
        "# **선형리스트의 원리**\n",
        "\n",
        "## **원리파악**"
      ],
      "metadata": {
        "id": "J3BEHaHzw40v"
      }
    },
    {
      "cell_type": "markdown",
      "source": [
        "**함수선언부**"
      ],
      "metadata": {
        "id": "sLkCr1tjt_yz"
      }
    },
    {
      "cell_type": "code",
      "execution_count": null,
      "metadata": {
        "id": "n1suyqUDturl"
      },
      "outputs": [],
      "source": []
    },
    {
      "cell_type": "markdown",
      "source": [
        "**전역 변수부**"
      ],
      "metadata": {
        "id": "kbkJanh5uDQx"
      }
    },
    {
      "cell_type": "code",
      "source": [
        "katalk = ['다현','정연','쯔위','사나','지효']"
      ],
      "metadata": {
        "id": "zCQxiexut95Y"
      },
      "execution_count": null,
      "outputs": []
    },
    {
      "cell_type": "markdown",
      "source": [
        "**메인코드부**"
      ],
      "metadata": {
        "id": "-uVNULLquGC_"
      }
    },
    {
      "cell_type": "code",
      "source": [
        "print(katalk)"
      ],
      "metadata": {
        "colab": {
          "base_uri": "https://localhost:8080/"
        },
        "id": "EHtk8ZOXt-aH",
        "outputId": "8a21bb08-78c9-40c6-c700-337009ae429d"
      },
      "execution_count": null,
      "outputs": [
        {
          "output_type": "stream",
          "name": "stdout",
          "text": [
            "['다현', '정연', '쯔위', '사나', '지효']\n"
          ]
        }
      ]
    },
    {
      "cell_type": "code",
      "source": [
        "# 데이터추가: 모모가 카톡1회\n",
        "# 1단계 : 빈칸 추가\n",
        "\n",
        "katalk.append(None)\n",
        "katalk[5] = '모모'\n",
        "print(katalk)"
      ],
      "metadata": {
        "colab": {
          "base_uri": "https://localhost:8080/"
        },
        "id": "Uj7ST6AVuXiY",
        "outputId": "7e1ca8d0-fa43-46c4-e850-692d94315fed"
      },
      "execution_count": null,
      "outputs": [
        {
          "output_type": "stream",
          "name": "stdout",
          "text": [
            "['다현', '정연', '쯔위', '사나', '지효', '모모']\n"
          ]
        }
      ]
    },
    {
      "cell_type": "code",
      "source": [
        "## 데이터 사입 : 미나가 카톡 연속 40회 (추가는 맨뒤에, 삽입은 중간에 끼어듦)\n",
        "\n",
        "# 1단계 :빈칸 추가\n",
        "katalk.append(None)\n",
        "# 2단계 : 3등까지 한칸씩 뒤로\n",
        "katalk[6] = katalk[5] # 모모\n",
        "katalk[5] = None\n",
        "katalk[5] = katalk[4] # 지효\n",
        "katalk[4] = None\n",
        "katalk[4] = katalk[3] # 사나\n",
        "katalk[3] = None\n",
        "# 3단계 : 3등칸에 미나 입력\n",
        "katalk[3] = '미나'\n",
        "\n",
        "print(katalk)"
      ],
      "metadata": {
        "colab": {
          "base_uri": "https://localhost:8080/"
        },
        "id": "hf3mkIuXunrW",
        "outputId": "acdd0d13-736f-4936-f91b-bc274c741ec8"
      },
      "execution_count": null,
      "outputs": [
        {
          "output_type": "stream",
          "name": "stdout",
          "text": [
            "['다현', '정연', '쯔위', '미나', '사나', '지효', '모모']\n"
          ]
        }
      ]
    },
    {
      "cell_type": "code",
      "source": [
        "## 데이터 삭제 : 사나가 카톡 차단(4등 집에 감)\n",
        "\n",
        "# 1단계 : 지우기\n",
        "katalk[4] = None\n",
        "\n",
        "# 2단계 : 친구들 한칸씩 앞으로(마지막 친구까지)\n",
        "katalk[4] = katalk[5] # 지효가 앞으로 당겨짐\n",
        "katalk[5] = None\n",
        "katalk[5] = katalk[6] # 모모가 앞으로 당겨짐\n",
        "katalk[6] = None\n",
        "\n",
        "# 3단계 : 마지막 칸 제거\n",
        "del(katalk[6])\n",
        "\n",
        "print(katalk)"
      ],
      "metadata": {
        "colab": {
          "base_uri": "https://localhost:8080/"
        },
        "id": "GAzrF3tNvdn0",
        "outputId": "5e740e3a-be1f-4fbc-c957-108787896234"
      },
      "execution_count": null,
      "outputs": [
        {
          "output_type": "stream",
          "name": "stdout",
          "text": [
            "['다현', '정연', '쯔위', '미나', '지효', '모모']\n"
          ]
        }
      ]
    },
    {
      "cell_type": "markdown",
      "source": [
        "# **함수 이용**"
      ],
      "metadata": {
        "id": "mRubjSzlyxn7"
      }
    },
    {
      "cell_type": "markdown",
      "source": [
        "**함수선언부**"
      ],
      "metadata": {
        "id": "0NhvT1w9xSd0"
      }
    },
    {
      "cell_type": "code",
      "source": [
        "# \"마지막에 추가되는 함수\"\n",
        "def add_data(friend):\n",
        "  katalk.append(None) # 1단계 빈칸추가\n",
        "  kLen = len(katalk)\n",
        "  katalk[kLen-1] = friend # 2단계 데이터 입력\n",
        "\n",
        "# \"중간에 삽입하는 함수\"\n",
        "def insert_data(position, friend) :\n",
        "\n",
        "  # 1단계: 빈칸추가\n",
        "  katalk.append(None)\n",
        "  kLen=len(katalk)\n",
        "\n",
        "  # 2단계: 마지막 칸부터 삽입할 칸까지 한칸씩 뒤로 이동\n",
        "  for i in range(kLen-1, position, -1) :\n",
        "    katalk[i] = katalk[i-1]\n",
        "    katalk[i-1] = None\n",
        "\n",
        "  # 3단계: position자리에 친구 입력\n",
        "  katalk[position] = friend\n",
        "\n",
        "# \"삭제하는 함수\"\n",
        "def delete_data(postion) :\n",
        "\n",
        "    # 1단계 : 데이터 지우기\n",
        "    katalk[postion] = None\n",
        "    kLen = len(katalk)\n",
        "\n",
        "    # 2단계 : 한칸씩 앞으로 당기기\n",
        "    for i in range(postion+1, kLen, 1) : # 어려움.\n",
        "        katalk[i-1] = katalk[i]\n",
        "        katalk[i] = None\n",
        "\n",
        "    # 3단계 : 마지막 칸 제거\n",
        "    del(katalk[kLen-1])"
      ],
      "metadata": {
        "id": "IFrS8dU6xRhz"
      },
      "execution_count": null,
      "outputs": []
    },
    {
      "cell_type": "markdown",
      "source": [
        "**전역변수부**"
      ],
      "metadata": {
        "id": "YmcqvoUkxRQ5"
      }
    },
    {
      "cell_type": "code",
      "source": [
        "katalk = []"
      ],
      "metadata": {
        "id": "RBMqikz8xYsY"
      },
      "execution_count": null,
      "outputs": []
    },
    {
      "cell_type": "markdown",
      "source": [
        "**메인코드부**"
      ],
      "metadata": {
        "id": "6KUDxIaOxZTc"
      }
    },
    {
      "cell_type": "code",
      "source": [
        "add_data('다현')\n",
        "add_data('정연')\n",
        "add_data('쯔위')\n",
        "add_data('사나')\n",
        "add_data('지효')\n",
        "print(katalk)"
      ],
      "metadata": {
        "colab": {
          "base_uri": "https://localhost:8080/"
        },
        "id": "Vq4uuX-mx1uP",
        "outputId": "30b27c80-bb0a-4f95-aed4-be336a6c6d3c"
      },
      "execution_count": null,
      "outputs": [
        {
          "output_type": "stream",
          "name": "stdout",
          "text": [
            "['다현', '정연', '쯔위', '사나', '지효']\n"
          ]
        }
      ]
    },
    {
      "cell_type": "code",
      "source": [
        "add_data('모모')\n",
        "print(katalk)"
      ],
      "metadata": {
        "colab": {
          "base_uri": "https://localhost:8080/"
        },
        "id": "mKCXc2-lz4OQ",
        "outputId": "4f25cfe3-f35b-4696-f380-c1cb6fbf9943"
      },
      "execution_count": null,
      "outputs": [
        {
          "output_type": "stream",
          "name": "stdout",
          "text": [
            "['다현', '정연', '쯔위', '사나', '지효', '모모']\n"
          ]
        }
      ]
    },
    {
      "cell_type": "code",
      "source": [
        "insert_data(3, '미나')\n",
        "print(katalk)"
      ],
      "metadata": {
        "colab": {
          "base_uri": "https://localhost:8080/"
        },
        "id": "M1H82bZIzyp2",
        "outputId": "4700d0d9-f94d-4264-8fe2-5eddf2200942"
      },
      "execution_count": null,
      "outputs": [
        {
          "output_type": "stream",
          "name": "stdout",
          "text": [
            "['다현', '정연', '쯔위', '미나', '사나', '지효', '모모']\n"
          ]
        }
      ]
    },
    {
      "cell_type": "code",
      "source": [
        "delete_data(4)\n",
        "print(katalk)"
      ],
      "metadata": {
        "colab": {
          "base_uri": "https://localhost:8080/"
        },
        "id": "bMtOA45j0Tvv",
        "outputId": "e19d630f-96a0-4ad7-ffc5-1d7ba275508c"
      },
      "execution_count": null,
      "outputs": [
        {
          "output_type": "stream",
          "name": "stdout",
          "text": [
            "['다현', '정연', '쯔위', '미나', '지효', '모모']\n"
          ]
        }
      ]
    }
  ]
}