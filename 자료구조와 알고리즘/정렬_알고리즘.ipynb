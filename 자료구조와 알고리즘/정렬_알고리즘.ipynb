{
  "nbformat": 4,
  "nbformat_minor": 0,
  "metadata": {
    "colab": {
      "provenance": [],
      "authorship_tag": "ABX9TyNpHqK4Gfe9PkbaPw4zeVLh",
      "include_colab_link": true
    },
    "kernelspec": {
      "name": "python3",
      "display_name": "Python 3"
    },
    "language_info": {
      "name": "python"
    }
  },
  "cells": [
    {
      "cell_type": "markdown",
      "metadata": {
        "id": "view-in-github",
        "colab_type": "text"
      },
      "source": [
        "<a href=\"https://colab.research.google.com/github/uhyozzy/TIL/blob/main/%EC%9E%90%EB%A3%8C%EA%B5%AC%EC%A1%B0%EC%99%80%20%EC%95%8C%EA%B3%A0%EB%A6%AC%EC%A6%98/%EC%A0%95%EB%A0%AC_%EC%95%8C%EA%B3%A0%EB%A6%AC%EC%A6%98.ipynb\" target=\"_parent\"><img src=\"https://colab.research.google.com/assets/colab-badge.svg\" alt=\"Open In Colab\"/></a>"
      ]
    },
    {
      "cell_type": "markdown",
      "source": [
        "# **선택 정렬(Selection Sort)**"
      ],
      "metadata": {
        "id": "LuZ2YadKueb6"
      }
    },
    {
      "cell_type": "markdown",
      "source": [
        "**함수 선언부**"
      ],
      "metadata": {
        "id": "RFPZ5kP1vF3_"
      }
    },
    {
      "cell_type": "code",
      "execution_count": 34,
      "metadata": {
        "id": "bmy-TcHdjYO8"
      },
      "outputs": [],
      "source": [
        "# 제일 작은 값의 위치 찾는 함수\n",
        "\n",
        "def findMinIndex(ary):\n",
        "    minIndex = 0\n",
        "    for i in range(1, len(ary)):\n",
        "        if ary[i] < ary[minIndex]:\n",
        "            minIndex = i\n",
        "    return minIndex\n",
        "\n",
        "import random\n"
      ]
    },
    {
      "cell_type": "markdown",
      "source": [
        "**전역 변수부**"
      ],
      "metadata": {
        "id": "fbTCCyowvI0n"
      }
    },
    {
      "cell_type": "code",
      "source": [
        "before = [random.randint(30,190) for _ in range(8)] #정렬 전의 방\n",
        "after = []     #정렬 후의 방"
      ],
      "metadata": {
        "id": "I7C5JD07vMEv"
      },
      "execution_count": 48,
      "outputs": []
    },
    {
      "cell_type": "markdown",
      "source": [
        "**메인 코드부**"
      ],
      "metadata": {
        "id": "Yhv9pc5uvMeL"
      }
    },
    {
      "cell_type": "code",
      "source": [
        "# 최솟값 찾기\n",
        "\n",
        "minPos = findMinIndex(testAray)\n",
        "print('최솟값:', testAray[minPos])"
      ],
      "metadata": {
        "colab": {
          "base_uri": "https://localhost:8080/"
        },
        "id": "0bVOYxXCvM1J",
        "outputId": "26e3c7f1-fb34-4bd5-c40d-7f56684a71d5"
      },
      "execution_count": 36,
      "outputs": [
        {
          "output_type": "stream",
          "name": "stdout",
          "text": [
            "최솟값: 33\n"
          ]
        }
      ]
    },
    {
      "cell_type": "code",
      "source": [
        "print('정렬 전 --->', before)\n",
        "\n",
        "for i in range(len(before)) :\n",
        "  minPos = findMinIndex(before)\n",
        "  after.append(before[minPos])\n",
        "  del (before[minPos])\n",
        "print('정렬 후 --->', after)"
      ],
      "metadata": {
        "colab": {
          "base_uri": "https://localhost:8080/"
        },
        "id": "hQzHWYsxw2aA",
        "outputId": "e75dde95-9f42-4ef5-d969-9d0726890ca0"
      },
      "execution_count": 37,
      "outputs": [
        {
          "output_type": "stream",
          "name": "stdout",
          "text": [
            "정렬 전 ---> [190, 184, 138, 166, 47, 99, 117, 104]\n",
            "정렬 후 ---> [47, 99, 104, 117, 138, 166, 184, 190]\n"
          ]
        }
      ]
    },
    {
      "cell_type": "markdown",
      "source": [
        "# **개선된 선택정렬 구현**\n",
        "- 사이클1 중 맨 앞을 가장 작은 값으로 가정하고 다른 값들과 비교하여 제일 작은 값을 찾음\n",
        "\n",
        "**함수 선언부**"
      ],
      "metadata": {
        "id": "3t6dXbP1zBT5"
      }
    },
    {
      "cell_type": "code",
      "source": [
        "import random"
      ],
      "metadata": {
        "id": "UmfIep7CzHcI"
      },
      "execution_count": 52,
      "outputs": []
    },
    {
      "cell_type": "code",
      "source": [
        "def selectionSort(ary) :\n",
        "  n = len(ary)\n",
        "  for i in range(0, n-1) : # 사이클\n",
        "    minIdx = i\n",
        "    for k in range(i+1, n) : # 작은 반복문\n",
        "      if(ary[minIdx] > ary[k]):\n",
        "        minIdx = k\n",
        "    ary[minIdx], ary[i] = ary[i], ary[minIdx]\n",
        "  return ary"
      ],
      "metadata": {
        "id": "cCZcp9lO0R6f"
      },
      "execution_count": 57,
      "outputs": []
    },
    {
      "cell_type": "markdown",
      "source": [
        "**전역 변수부**"
      ],
      "metadata": {
        "id": "5zys9Qo3zH23"
      }
    },
    {
      "cell_type": "code",
      "source": [
        "dataAry = [random.randint(30,190) for _ in range(8)]"
      ],
      "metadata": {
        "id": "AUDxLVxpzJoq"
      },
      "execution_count": 58,
      "outputs": []
    },
    {
      "cell_type": "markdown",
      "source": [
        "**메인 코드부**"
      ],
      "metadata": {
        "id": "ofW-w7vPzL7I"
      }
    },
    {
      "cell_type": "code",
      "source": [
        "print('정렬 전 --->', dataAry)\n",
        "\n",
        "dataAry = selectionSort(dataAry)\n",
        "\n",
        "print('정렬 후 --->', dataAry)"
      ],
      "metadata": {
        "colab": {
          "base_uri": "https://localhost:8080/"
        },
        "id": "sF2MDP1AzNoT",
        "outputId": "43d708a9-35f1-4d6e-af69-4428f29f975e"
      },
      "execution_count": 59,
      "outputs": [
        {
          "output_type": "stream",
          "name": "stdout",
          "text": [
            "정렬 전 ---> [80, 42, 124, 174, 126, 84, 159, 113]\n",
            "정렬 후 ---> [42, 80, 84, 113, 124, 126, 159, 174]\n"
          ]
        }
      ]
    }
  ]
}