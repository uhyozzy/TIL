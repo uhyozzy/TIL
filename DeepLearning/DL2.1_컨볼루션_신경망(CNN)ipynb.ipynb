{
  "nbformat": 4,
  "nbformat_minor": 0,
  "metadata": {
    "colab": {
      "provenance": [],
      "authorship_tag": "ABX9TyOh9aK54n+o8ohcvb7VBvsn",
      "include_colab_link": true
    },
    "kernelspec": {
      "name": "python3",
      "display_name": "Python 3"
    },
    "language_info": {
      "name": "python"
    }
  },
  "cells": [
    {
      "cell_type": "markdown",
      "metadata": {
        "id": "view-in-github",
        "colab_type": "text"
      },
      "source": [
        "<a href=\"https://colab.research.google.com/github/uhyozzy/TIL/blob/main/DeepLearning/DL2.1_%EC%BB%A8%EB%B3%BC%EB%A3%A8%EC%85%98_%EC%8B%A0%EA%B2%BD%EB%A7%9D(CNN)ipynb.ipynb\" target=\"_parent\"><img src=\"https://colab.research.google.com/assets/colab-badge.svg\" alt=\"Open In Colab\"/></a>"
      ]
    },
    {
      "cell_type": "markdown",
      "source": [
        "# **1. 이미지를 인식하는 원리**"
      ],
      "metadata": {
        "id": "JGO_LlJ_KHJg"
      }
    },
    {
      "cell_type": "code",
      "execution_count": 1,
      "metadata": {
        "id": "muHfCKUuJ4MT"
      },
      "outputs": [],
      "source": [
        "from tensorflow.keras.datasets import mnist\n",
        "from tensorflow.keras.utils import to_categorical\n",
        "\n",
        "import matplotlib.pyplot as plt\n",
        "import sys"
      ]
    },
    {
      "cell_type": "markdown",
      "source": [
        "**MNIST 데이터셋을 불러와 학습셋과 테스트셋으로 저장**"
      ],
      "metadata": {
        "id": "4GbFSp_eKHwb"
      }
    },
    {
      "cell_type": "code",
      "source": [
        "(X_train, y_train), (X_test, y_test) = mnist.load_data()"
      ],
      "metadata": {
        "colab": {
          "base_uri": "https://localhost:8080/"
        },
        "id": "KJlCc7UbKH5s",
        "outputId": "09fe1323-bc70-4a53-a44c-f6ae603b485e"
      },
      "execution_count": 2,
      "outputs": [
        {
          "output_type": "stream",
          "name": "stdout",
          "text": [
            "Downloading data from https://storage.googleapis.com/tensorflow/tf-keras-datasets/mnist.npz\n",
            "11490434/11490434 [==============================] - 0s 0us/step\n"
          ]
        }
      ]
    },
    {
      "cell_type": "markdown",
      "source": [
        "**학습셋과 테스트셋이 각각 몇개의 이미지로 되어있는지 확인**"
      ],
      "metadata": {
        "id": "DF-AHC8bKID6"
      }
    },
    {
      "cell_type": "code",
      "source": [
        "print(\"학습셋 이미지 수:  %d 개\" % (X_train.shape[0]))\n",
        "print(\"테스트셋 이미지 수:  %d 개\" % (X_test.shape[0]))"
      ],
      "metadata": {
        "colab": {
          "base_uri": "https://localhost:8080/"
        },
        "id": "WyufmQUKKIOZ",
        "outputId": "d997279b-861d-4d50-a0c8-80c7a5bfb6e6"
      },
      "execution_count": 3,
      "outputs": [
        {
          "output_type": "stream",
          "name": "stdout",
          "text": [
            "학습셋 이미지 수:  60000 개\n",
            "테스트셋 이미지 수:  10000 개\n"
          ]
        }
      ]
    },
    {
      "cell_type": "markdown",
      "source": [
        "**첫번째 이미지 확인**"
      ],
      "metadata": {
        "id": "5E507Y3CKIZH"
      }
    },
    {
      "cell_type": "code",
      "source": [
        "plt.imshow(X_train[0], cmap='Greys')\n",
        "plt.show()"
      ],
      "metadata": {
        "colab": {
          "base_uri": "https://localhost:8080/",
          "height": 430
        },
        "id": "rfMqMETxKIkn",
        "outputId": "5cd46960-31bf-4737-fa11-4273ceb87409"
      },
      "execution_count": 4,
      "outputs": [
        {
          "output_type": "display_data",
          "data": {
            "text/plain": [
              "<Figure size 640x480 with 1 Axes>"
            ],
            "image/png": "[encoded data removed]"
          },
          "metadata": {}
        }
      ]
    },
    {
      "cell_type": "markdown",
      "source": [
        "**이미지 인식원리 파악**"
      ],
      "metadata": {
        "id": "UMPRgGdvKIsZ"
      }
    },
    {
      "cell_type": "code",
      "source": [
        "for x in X_train[0]:\n",
        "  for i in x:\n",
        "    sys.stdout.write(\"%-3s\"%i)\n",
        "  sys.stdout.write('\\n')"
      ],
      "metadata": {
        "colab": {
          "base_uri": "https://localhost:8080/"
        },
        "id": "-qaeDW5MKI3Y",
        "outputId": "339a57f3-e205-4f59-ad53-c8c50f5da5e6"
      },
      "execution_count": 5,
      "outputs": [
        {
          "output_type": "stream",
          "name": "stdout",
          "text": [
            "0  0  0  0  0  0  0  0  0  0  0  0  0  0  0  0  0  0  0  0  0  0  0  0  0  0  0  0  \n",
            "0  0  0  0  0  0  0  0  0  0  0  0  0  0  0  0  0  0  0  0  0  0  0  0  0  0  0  0  \n",
            "0  0  0  0  0  0  0  0  0  0  0  0  0  0  0  0  0  0  0  0  0  0  0  0  0  0  0  0  \n",
            "0  0  0  0  0  0  0  0  0  0  0  0  0  0  0  0  0  0  0  0  0  0  0  0  0  0  0  0  \n",
            "0  0  0  0  0  0  0  0  0  0  0  0  0  0  0  0  0  0  0  0  0  0  0  0  0  0  0  0  \n",
            "0  0  0  0  0  0  0  0  0  0  0  0  3  18 18 18 12613617526 1662552471270  0  0  0  \n",
            "0  0  0  0  0  0  0  0  30 36 94 15417025325325325325322517225324219564 0  0  0  0  \n",
            "0  0  0  0  0  0  0  49 23825325325325325325325325325193 82 82 56 39 0  0  0  0  0  \n",
            "0  0  0  0  0  0  0  18 2192532532532532531981822472410  0  0  0  0  0  0  0  0  0  \n",
            "0  0  0  0  0  0  0  0  80 15610725325320511 0  43 1540  0  0  0  0  0  0  0  0  0  \n",
            "0  0  0  0  0  0  0  0  0  14 1  15425390 0  0  0  0  0  0  0  0  0  0  0  0  0  0  \n",
            "0  0  0  0  0  0  0  0  0  0  0  1392531902  0  0  0  0  0  0  0  0  0  0  0  0  0  \n",
            "0  0  0  0  0  0  0  0  0  0  0  11 19025370 0  0  0  0  0  0  0  0  0  0  0  0  0  \n",
            "0  0  0  0  0  0  0  0  0  0  0  0  35 2412251601081  0  0  0  0  0  0  0  0  0  0  \n",
            "0  0  0  0  0  0  0  0  0  0  0  0  0  81 24025325311925 0  0  0  0  0  0  0  0  0  \n",
            "0  0  0  0  0  0  0  0  0  0  0  0  0  0  45 18625325315027 0  0  0  0  0  0  0  0  \n",
            "0  0  0  0  0  0  0  0  0  0  0  0  0  0  0  16 93 2522531870  0  0  0  0  0  0  0  \n",
            "0  0  0  0  0  0  0  0  0  0  0  0  0  0  0  0  0  24925324964 0  0  0  0  0  0  0  \n",
            "0  0  0  0  0  0  0  0  0  0  0  0  0  0  46 1301832532532072  0  0  0  0  0  0  0  \n",
            "0  0  0  0  0  0  0  0  0  0  0  0  39 1482292532532532501820  0  0  0  0  0  0  0  \n",
            "0  0  0  0  0  0  0  0  0  0  24 11422125325325325320178 0  0  0  0  0  0  0  0  0  \n",
            "0  0  0  0  0  0  0  0  23 66 21325325325325319881 2  0  0  0  0  0  0  0  0  0  0  \n",
            "0  0  0  0  0  0  18 17121925325325325319580 9  0  0  0  0  0  0  0  0  0  0  0  0  \n",
            "0  0  0  0  55 17222625325325325324413311 0  0  0  0  0  0  0  0  0  0  0  0  0  0  \n",
            "0  0  0  0  13625325325321213513216 0  0  0  0  0  0  0  0  0  0  0  0  0  0  0  0  \n",
            "0  0  0  0  0  0  0  0  0  0  0  0  0  0  0  0  0  0  0  0  0  0  0  0  0  0  0  0  \n",
            "0  0  0  0  0  0  0  0  0  0  0  0  0  0  0  0  0  0  0  0  0  0  0  0  0  0  0  0  \n",
            "0  0  0  0  0  0  0  0  0  0  0  0  0  0  0  0  0  0  0  0  0  0  0  0  0  0  0  0  \n"
          ]
        }
      ]
    },
    {
      "cell_type": "markdown",
      "source": [
        "**차원 변환 과정 실습**"
      ],
      "metadata": {
        "id": "Og7JOxFBKI_g"
      }
    },
    {
      "cell_type": "code",
      "source": [
        "X_train = X_train.reshape(X_train.shape[0], 784)\n",
        "X_train = X_train.astype('float64')\n",
        "X_train = X_train / 255\n",
        "\n",
        "X_test = X_test.reshape(X_test.shape[0],784).astype('float64')/255"
      ],
      "metadata": {
        "id": "F7IiyhLpKJK2"
      },
      "execution_count": 6,
      "outputs": []
    },
    {
      "cell_type": "markdown",
      "source": [
        "**클래스 값 확인**"
      ],
      "metadata": {
        "id": "zC7Oo6w2KJSh"
      }
    },
    {
      "cell_type": "code",
      "source": [
        "print(\"class : %d\" % (y_train[0]))"
      ],
      "metadata": {
        "colab": {
          "base_uri": "https://localhost:8080/"
        },
        "id": "eslDE5_pKJcE",
        "outputId": "e13486dc-e30b-4b4a-ca72-8fa5164dfc6a"
      },
      "execution_count": 7,
      "outputs": [
        {
          "output_type": "stream",
          "name": "stdout",
          "text": [
            "class : 5\n"
          ]
        }
      ]
    },
    {
      "cell_type": "markdown",
      "source": [
        "**바이너리 값 확인**"
      ],
      "metadata": {
        "id": "2wIGqPTwKJl6"
      }
    },
    {
      "cell_type": "code",
      "source": [
        "y_train = to_categorical(y_train, 10)\n",
        "y_test = to_categorical(y_test, 10)\n",
        "\n",
        "print(y_train[0])"
      ],
      "metadata": {
        "colab": {
          "base_uri": "https://localhost:8080/"
        },
        "id": "8sDX4l0IKJxP",
        "outputId": "188d11cc-e76f-48c1-9def-9c2742eb73b6"
      },
      "execution_count": 8,
      "outputs": [
        {
          "output_type": "stream",
          "name": "stdout",
          "text": [
            "[0. 0. 0. 0. 0. 1. 0. 0. 0. 0.]\n"
          ]
        }
      ]
    },
    {
      "cell_type": "markdown",
      "source": [
        "# **2. 딥러닝 기본 프레임 만들기**"
      ],
      "metadata": {
        "id": "SO6TLc9MKJ9F"
      }
    },
    {
      "cell_type": "code",
      "source": [
        "from tensorflow.keras.models import Sequential\n",
        "from tensorflow.keras.layers import Dense\n",
        "from tensorflow.keras.callbacks import EarlyStopping, ModelCheckpoint\n",
        "\n",
        "import matplotlib.pyplot as plt\n",
        "import pandas as pd\n",
        "import numpy as np\n",
        "import seaborn as sns"
      ],
      "metadata": {
        "id": "YdqH_LX9KKFw"
      },
      "execution_count": 9,
      "outputs": []
    },
    {
      "cell_type": "markdown",
      "source": [
        "**MNIST 데이터 불러오기**"
      ],
      "metadata": {
        "id": "OXQhKbxQKKOP"
      }
    },
    {
      "cell_type": "code",
      "source": [
        "(X_train, y_train), (X_test, y_test) = mnist.load_data()"
      ],
      "metadata": {
        "id": "MjP90HMlKKXK"
      },
      "execution_count": 10,
      "outputs": []
    },
    {
      "cell_type": "markdown",
      "source": [
        "**차원 변환 후, 테스트셋과 학습셋으로 나눔**"
      ],
      "metadata": {
        "id": "tR40oUvGKKfO"
      }
    },
    {
      "cell_type": "code",
      "source": [
        "X_train = X_train.reshape(X_train.shape[0], 784).astype('float32')/255\n",
        "X_test = X_test.reshape(X_test.shape[0], 784).astype('float32')/255\n",
        "\n",
        "y_train = to_categorical(y_train,10)\n",
        "y_test = to_categorical(y_test,10)"
      ],
      "metadata": {
        "id": "fyKj8A83KKpm"
      },
      "execution_count": 11,
      "outputs": []
    },
    {
      "cell_type": "markdown",
      "source": [
        "**모델 구조 설정**"
      ],
      "metadata": {
        "id": "npY1hvlYKKyu"
      }
    },
    {
      "cell_type": "code",
      "source": [
        "model=Sequential()\n",
        "model.add(Dense(512, input_dim=784, activation='relu'))\n",
        "model.add(Dense(10, activation='softmax'))\n",
        "model.summary()"
      ],
      "metadata": {
        "colab": {
          "base_uri": "https://localhost:8080/"
        },
        "id": "-v-g8DoLKK8e",
        "outputId": "bd50d7da-9f36-482e-d587-823c7b842201"
      },
      "execution_count": 12,
      "outputs": [
        {
          "output_type": "stream",
          "name": "stdout",
          "text": [
            "Model: \"sequential\"\n",
            "_________________________________________________________________\n",
            " Layer (type)                Output Shape              Param #   \n",
            "=================================================================\n",
            " dense (Dense)               (None, 512)               401920    \n",
            "                                                                 \n",
            " dense_1 (Dense)             (None, 10)                5130      \n",
            "                                                                 \n",
            "=================================================================\n",
            "Total params: 407,050\n",
            "Trainable params: 407,050\n",
            "Non-trainable params: 0\n",
            "_________________________________________________________________\n"
          ]
        }
      ]
    },
    {
      "cell_type": "markdown",
      "source": [
        "**모델 실행 환결설정**"
      ],
      "metadata": {
        "id": "MmVbrWckKLKo"
      }
    },
    {
      "cell_type": "code",
      "source": [
        "model.compile(loss='categorical_crossentropy',optimizer='adam',metrics=['accuracy'])"
      ],
      "metadata": {
        "id": "4gnq4MVaKLn9"
      },
      "execution_count": 13,
      "outputs": []
    },
    {
      "cell_type": "markdown",
      "source": [
        "**모델 최적화를 위한 구간설정**"
      ],
      "metadata": {
        "id": "pwjraNe3QfwP"
      }
    },
    {
      "cell_type": "code",
      "source": [
        "modelpath=\"./MNIST_MLP.hdf5\"\n",
        "checkpointer = ModelCheckpoint(filepath=modelpath, monitor='val_loss',\n",
        "                               verbose=1, save_best_only=True)\n",
        "\n",
        "early_stopping_callback = EarlyStopping(monitor='val_loss',patience=10)"
      ],
      "metadata": {
        "id": "bH032IQXQf5r"
      },
      "execution_count": 14,
      "outputs": []
    },
    {
      "cell_type": "markdown",
      "source": [
        "**모델 실행**"
      ],
      "metadata": {
        "id": "0x_4q8LnQgA0"
      }
    },
    {
      "cell_type": "code",
      "source": [
        "history=model.fit(X_train, y_train, epochs=30, batch_size=200,\n",
        "                  validation_split=0.25,verbose=0,\n",
        "                  callbacks=[early_stopping_callback, checkpointer])"
      ],
      "metadata": {
        "id": "EqjvIUz6QgIn",
        "colab": {
          "base_uri": "https://localhost:8080/"
        },
        "outputId": "577752e2-5e00-431a-aaef-73017b4a2172"
      },
      "execution_count": 15,
      "outputs": [
        {
          "output_type": "stream",
          "name": "stdout",
          "text": [
            "\n",
            "Epoch 1: val_loss improved from inf to 0.18493, saving model to ./MNIST_MLP.hdf5\n",
            "\n",
            "Epoch 2: val_loss improved from 0.18493 to 0.13268, saving model to ./MNIST_MLP.hdf5\n",
            "\n",
            "Epoch 3: val_loss improved from 0.13268 to 0.10824, saving model to ./MNIST_MLP.hdf5\n",
            "\n",
            "Epoch 4: val_loss improved from 0.10824 to 0.09545, saving model to ./MNIST_MLP.hdf5\n",
            "\n",
            "Epoch 5: val_loss improved from 0.09545 to 0.09516, saving model to ./MNIST_MLP.hdf5\n",
            "\n",
            "Epoch 6: val_loss improved from 0.09516 to 0.08957, saving model to ./MNIST_MLP.hdf5\n",
            "\n",
            "Epoch 7: val_loss improved from 0.08957 to 0.08515, saving model to ./MNIST_MLP.hdf5\n",
            "\n",
            "Epoch 8: val_loss improved from 0.08515 to 0.08423, saving model to ./MNIST_MLP.hdf5\n",
            "\n",
            "Epoch 9: val_loss improved from 0.08423 to 0.08223, saving model to ./MNIST_MLP.hdf5\n",
            "\n",
            "Epoch 10: val_loss improved from 0.08223 to 0.08107, saving model to ./MNIST_MLP.hdf5\n",
            "\n",
            "Epoch 11: val_loss did not improve from 0.08107\n",
            "\n",
            "Epoch 12: val_loss did not improve from 0.08107\n",
            "\n",
            "Epoch 13: val_loss did not improve from 0.08107\n",
            "\n",
            "Epoch 14: val_loss did not improve from 0.08107\n",
            "\n",
            "Epoch 15: val_loss did not improve from 0.08107\n",
            "\n",
            "Epoch 16: val_loss did not improve from 0.08107\n",
            "\n",
            "Epoch 17: val_loss did not improve from 0.08107\n",
            "\n",
            "Epoch 18: val_loss did not improve from 0.08107\n",
            "\n",
            "Epoch 19: val_loss did not improve from 0.08107\n",
            "\n",
            "Epoch 20: val_loss did not improve from 0.08107\n"
          ]
        }
      ]
    },
    {
      "cell_type": "markdown",
      "source": [
        "**테스트 정확도 출력**"
      ],
      "metadata": {
        "id": "GAhQeF1mQgVh"
      }
    },
    {
      "cell_type": "code",
      "source": [
        "print(\"\\n Test Accuracy: %.4f\" % (model.evaluate(X_test, y_test)[1]))"
      ],
      "metadata": {
        "colab": {
          "base_uri": "https://localhost:8080/"
        },
        "id": "6UUq_lhhQgeV",
        "outputId": "95ca67d2-29b9-48f6-cf6d-62e70793270e"
      },
      "execution_count": 16,
      "outputs": [
        {
          "output_type": "stream",
          "name": "stdout",
          "text": [
            "313/313 [==============================] - 1s 3ms/step - loss: 0.0727 - accuracy: 0.9810\n",
            "\n",
            " Test Accuracy: 0.9810\n"
          ]
        }
      ]
    },
    {
      "cell_type": "markdown",
      "source": [
        "**검증셋과 학습셋 오차 저장**"
      ],
      "metadata": {
        "id": "D3MTAzsIQgmL"
      }
    },
    {
      "cell_type": "code",
      "source": [
        "y_vloss = history.history['val_loss']\n",
        "y_loss= history.history['loss']"
      ],
      "metadata": {
        "id": "A3ScwEjgQgt_"
      },
      "execution_count": 17,
      "outputs": []
    },
    {
      "cell_type": "markdown",
      "source": [
        "**그래프로 표현**"
      ],
      "metadata": {
        "id": "tDo8DORSQg3q"
      }
    },
    {
      "cell_type": "code",
      "source": [
        "x_len = np.arange(len(y_loss))\n",
        "plt.plot(x_len, y_vloss, marker='.', c=\"red\", label='Testset_loss')\n",
        "plt.plot(x_len, y_loss, marker='.', c=\"blue\", label='Trainset_loss')\n",
        "\n",
        "plt.legend(loc='upper right')\n",
        "plt.grid() # 그래프에 그리드 설정\n",
        "plt.xlabel('epoch')\n",
        "plt.ylabel('loss')\n",
        "plt.show"
      ],
      "metadata": {
        "colab": {
          "base_uri": "https://localhost:8080/",
          "height": 467
        },
        "id": "nLRBCjonQg_a",
        "outputId": "e7e59436-d478-4034-d63c-6839e8d111d9"
      },
      "execution_count": 18,
      "outputs": [
        {
          "output_type": "execute_result",
          "data": {
            "text/plain": [
              "<function matplotlib.pyplot.show(close=None, block=None)>"
            ]
          },
          "metadata": {},
          "execution_count": 18
        },
        {
          "output_type": "display_data",
          "data": {
            "text/plain": [
              "<Figure size 640x480 with 1 Axes>"
            ],
            "image/png": "[encoded data removed]"
          },
          "metadata": {}
        }
      ]
    },
    {
      "cell_type": "markdown",
      "source": [
        "# **3. 컨볼루션 신경망 실행**\n"
      ],
      "metadata": {
        "id": "u0puAvImQhJf"
      }
    },
    {
      "cell_type": "code",
      "source": [
        "from tensorflow.keras.layers import Dense, Dropout, Flatten, Conv2D, MaxPooling2D"
      ],
      "metadata": {
        "id": "5SlYkuQDQhUB"
      },
      "execution_count": 19,
      "outputs": []
    },
    {
      "cell_type": "markdown",
      "source": [
        "**데이터 불러오기**\n",
        "\n",
        "- X_train과 X_test 데이터를 28x28 크기의 4차원 배열로 변환\n",
        "- 데이터 타입을 float32로 변환\n",
        "- 모든 픽셀 값을 0과 1 사이로 정규화(0은 검은색, 1은 흰색을 의미)"
      ],
      "metadata": {
        "id": "58T7imEaV012"
      }
    },
    {
      "cell_type": "code",
      "source": [
        "(X_train, y_train), (X_test, y_test) = mnist.load_data()\n",
        "X_train =  X_train.reshape(X_train.shape[0], 28, 28, 1).astype('float32') / 255\n",
        "X_test = X_test.reshape(X_test.shape[0], 28, 28, 1).astype('float32') / 255\n",
        "y_train = to_categorical(y_train)\n",
        "y_test = to_categorical(y_test)"
      ],
      "metadata": {
        "id": "DZlM2N-QV20p"
      },
      "execution_count": 20,
      "outputs": []
    },
    {
      "cell_type": "markdown",
      "source": [
        "**컨볼루션 신경망 설정**"
      ],
      "metadata": {
        "id": "dAgD-vJKQhiZ"
      }
    },
    {
      "cell_type": "markdown",
      "source": [
        "- **` model = Sequential()`**: Sequential 모델을 생성합니다. Sequential 모델은 각 레이어를 순차적으로 쌓아서 구성하는 가장 간단한 형태의 신경망 모델입니다.\n",
        "\n",
        "- **`model.add(Conv2D(32, kernel_size=(3,3), input_shape=(28, 28, 1), activation='relu'))`**: 첫 번째 컨볼루션 레이어를 추가합니다. 32개의 3x3 크기의 필터를 사용하며, 입력 이미지의 크기는 (28, 28, 1)로 가정합니다. 'relu' 활성화 함수를 사용하여 음수값을 0으로 변환하고 양수값은 그대로 반환합니다.\n",
        "\n",
        "- **`model.add(Conv2D(64, (3, 3), activation='relu'))`**: 두 번째 컨볼루션 레이어를 추가합니다. 64개의 3x3 크기의 필터를 사용하며, 이전 레이어의 출력을 입력으로 받습니다. 여전히 'relu' 활성화 함수를 사용합니다.\n",
        "\n",
        "- **`model.add(MaxPooling2D(pool_size=(2,2)))`**: 맥스 풀링(Max Pooling) 레이어를 추가합니다. 2x2 크기의 윈도우로 입력을 스캔하면서 각 윈도우 영역에서 최댓값을 추출하여 이미지의 크기를 절반으로 줄입니다. 이는 공간적인 크기를 줄이고 계산량을 감소시키는 역할을 합니다.\n",
        "\n",
        "- **`model.add(Dropout(0.25))`**: 드롭아웃(Dropout) 레이어를 추가합니다. 학습 중에 랜덤하게 25%의 뉴런을 무작위로 비활성화하여 과적합(overfitting)을 방지합니다.\n",
        "\n",
        "- **`model.add(Flatten())`**: 데이터를 1차원으로 펼치는(Flatten) 레이어를 추가합니다. 이전 레이어의 출력을 1차원 배열로 변환하여 다음 완전 연결 레이어에 입력으로 사용됩니다.\n",
        "\n",
        "- **`model.add(Dense(128, activation='relu'))`**: 완전 연결(Dense) 레이어를 추가합니다. 128개의 뉴런을 가지며, 'relu' 활성화 함수를 사용합니다.\n",
        "\n",
        "- **`model.add(Dropout(0.5))`**: 드롭아웃(Dropout) 레이어를 추가합니다. 학습 중에 랜덤하게 50%의 뉴런을 무작위로 비활성화하여 과적합을 방지합니다.\n",
        "\n",
        "- **`model.add(Dense(10, activation='softmax'))`**: 출력 레이어를 추가합니다. 10개의 뉴런을 가지며, 'softmax' 활성화 함수를 사용합니다. 'softmax' 함수는 다중 클래스 분류 문제에서 각 클래스에 속할 확률을 계산합니다."
      ],
      "metadata": {
        "id": "MA9FIubj-XcY"
      }
    },
    {
      "cell_type": "code",
      "source": [
        "model = Sequential()\n",
        "model.add(Conv2D(32, kernel_size=(3,3), input_shape=(28, 28, 1), activation='relu'))\n",
        "model.add(Conv2D(64, (3, 3), activation='relu'))\n",
        "model.add(MaxPooling2D(pool_size=(2,2)))\n",
        "model.add(Dropout(0.25))\n",
        "model.add(Flatten())\n",
        "model.add(Dense(128, activation='relu'))\n",
        "model.add(Dropout(0.5))\n",
        "model.add(Dense(10, activation='softmax'))\n"
      ],
      "metadata": {
        "id": "KHZ0BsC5Qhpl"
      },
      "execution_count": 21,
      "outputs": []
    },
    {
      "cell_type": "markdown",
      "source": [
        "**모델 실행옵션 설정 및 모델 최적화 설정**"
      ],
      "metadata": {
        "id": "fqy1zg_dUCek"
      }
    },
    {
      "cell_type": "markdown",
      "source": [
        "**(1) 모델 컴파일:**\n",
        "  - **`loss='categorical_crossentropy'`**: 모델의 손실 함수를 categorical crossentropy로 설정합니다. 이 손실 함수는 다중 클래스 분류 문제에 적합한 함수입니다. 레이블이 원-핫 인코딩 형태로 제공되어야 합니다.\n",
        "  - **`optimizer='adam'**: 최적화 알고리즘으로 Adam을 선택합니다. Adam은 경사 하강법의 일종으로서, 모델의 가중치를 업데이트하는 데 사용됩니다.\n",
        "  - **`metrics=['accuracy']`**: 모델의 성능을 평가할 지표로 'accuracy'(정확도)를 설정합니다. 이는 모델이 올바르게 분류한 샘플의 비율을 나타내는 지표입니다.\n",
        "\n",
        "**(2) 모델 저장:**\n",
        "  - **`modelpath=\"./MNIST_MLP.hdf5\"`**: 학습된 모델의 가중치와 구조를 저장할 파일 경로를 지정합니다.\n",
        "  - **`checkpointer`**: ModelCheckpoint 콜백은 모델 학습 중에 지정된 지표(monitor)를 기준으로 가장 좋은 성능을 보이는 모델을 저장합니다. 여기서는 검증 데이터의 손실(val_loss)을 기준으로 가장 낮은 손실 값을 갖는 모델을 저장합니다. verbose=1은 저장할 때 로그를 출력하라는 의미이며, save_best_only=True는 가장 좋은 성능을 보이는 모델만 저장하라는 의미입니다.\n",
        "\n",
        "**(3) 조기 종료 콜백:**\n",
        "   - **`early_stopping_callback`**: EarlyStopping 콜백은 모델 학습 중에 지정된 지표(monitor)를 기준으로 성능 개선이 멈출 때 조기 종료를 수행합니다. 여기서는 검증 데이터의 손실(val_loss)을 기준으로 10번 이상 성능 개선이 없으면 학습을 중지합니다."
      ],
      "metadata": {
        "id": "AwMdxu8Y9pMU"
      }
    },
    {
      "cell_type": "code",
      "source": [
        "model.compile(loss='categorical_crossentropy',optimizer='adam',metrics=['accuracy'])\n",
        "\n",
        "modelpath=\"./MNIST_MLP.hdf5\"\n",
        "checkpointer = ModelCheckpoint(filepath=modelpath, monitor='val_loss',\n",
        "                               verbose=1, save_best_only=True)\n",
        "\n",
        "early_stopping_callback = EarlyStopping(monitor='val_loss',patience=10)"
      ],
      "metadata": {
        "id": "ZO-EafeET-Eh"
      },
      "execution_count": 22,
      "outputs": []
    },
    {
      "cell_type": "markdown",
      "source": [
        "**모델실행**"
      ],
      "metadata": {
        "id": "UGsFYu-dQh0C"
      }
    },
    {
      "cell_type": "code",
      "source": [
        "history=model.fit(X_train, y_train, epochs=30, batch_size=200,\n",
        "                  validation_split=0.25,verbose=0,\n",
        "                  callbacks=[early_stopping_callback, checkpointer])"
      ],
      "metadata": {
        "colab": {
          "base_uri": "https://localhost:8080/"
        },
        "id": "mLqmwKuAQh_E",
        "outputId": "2882edea-1d13-479b-ef16-2976ee4d8e29"
      },
      "execution_count": 24,
      "outputs": [
        {
          "output_type": "stream",
          "name": "stdout",
          "text": [
            "\n",
            "Epoch 1: val_loss improved from inf to 0.06344, saving model to ./MNIST_MLP.hdf5\n",
            "\n",
            "Epoch 2: val_loss improved from 0.06344 to 0.05286, saving model to ./MNIST_MLP.hdf5\n",
            "\n",
            "Epoch 3: val_loss improved from 0.05286 to 0.04728, saving model to ./MNIST_MLP.hdf5\n",
            "\n",
            "Epoch 4: val_loss improved from 0.04728 to 0.04526, saving model to ./MNIST_MLP.hdf5\n",
            "\n",
            "Epoch 5: val_loss improved from 0.04526 to 0.04364, saving model to ./MNIST_MLP.hdf5\n",
            "\n",
            "Epoch 6: val_loss improved from 0.04364 to 0.04176, saving model to ./MNIST_MLP.hdf5\n",
            "\n",
            "Epoch 7: val_loss improved from 0.04176 to 0.04125, saving model to ./MNIST_MLP.hdf5\n",
            "\n",
            "Epoch 8: val_loss did not improve from 0.04125\n",
            "\n",
            "Epoch 9: val_loss did not improve from 0.04125\n",
            "\n",
            "Epoch 10: val_loss improved from 0.04125 to 0.04059, saving model to ./MNIST_MLP.hdf5\n",
            "\n",
            "Epoch 11: val_loss did not improve from 0.04059\n",
            "\n",
            "Epoch 12: val_loss did not improve from 0.04059\n",
            "\n",
            "Epoch 13: val_loss did not improve from 0.04059\n",
            "\n",
            "Epoch 14: val_loss did not improve from 0.04059\n",
            "\n",
            "Epoch 15: val_loss did not improve from 0.04059\n",
            "\n",
            "Epoch 16: val_loss did not improve from 0.04059\n",
            "\n",
            "Epoch 17: val_loss did not improve from 0.04059\n",
            "\n",
            "Epoch 18: val_loss did not improve from 0.04059\n",
            "\n",
            "Epoch 19: val_loss did not improve from 0.04059\n",
            "\n",
            "Epoch 20: val_loss did not improve from 0.04059\n"
          ]
        }
      ]
    },
    {
      "cell_type": "markdown",
      "source": [
        "**테스트 정확도 출력**"
      ],
      "metadata": {
        "id": "XIa7TZvhQp74"
      }
    },
    {
      "cell_type": "code",
      "source": [
        "print(\"\\n Test Accuracy: %.4f\" % (model.evaluate(X_test, y_test)[1]))"
      ],
      "metadata": {
        "colab": {
          "base_uri": "https://localhost:8080/"
        },
        "id": "D-qOcHLhQqEG",
        "outputId": "d3c03c32-a354-4efa-e8d4-b8918ec6911a"
      },
      "execution_count": 25,
      "outputs": [
        {
          "output_type": "stream",
          "name": "stdout",
          "text": [
            "313/313 [==============================] - 9s 28ms/step - loss: 0.0335 - accuracy: 0.9906\n",
            "\n",
            " Test Accuracy: 0.9906\n"
          ]
        }
      ]
    },
    {
      "cell_type": "markdown",
      "source": [
        "**검증셋과 학습셋의 오차 저장**"
      ],
      "metadata": {
        "id": "arI67ckPQqPc"
      }
    },
    {
      "cell_type": "code",
      "source": [
        "y_vloss=history.history['val_loss']\n",
        "y_loss=history.history['loss']"
      ],
      "metadata": {
        "id": "LWPSDoeEQqZG"
      },
      "execution_count": 27,
      "outputs": []
    },
    {
      "cell_type": "markdown",
      "source": [
        "**그래프로 표현**"
      ],
      "metadata": {
        "id": "raoI7skjQqil"
      }
    },
    {
      "cell_type": "code",
      "source": [
        "x_len = np.arange(len(y_loss))\n",
        "plt.plot(x_len, y_vloss, marker='.', c=\"red\", label='Testset_loss')\n",
        "plt.plot(x_len, y_loss, marker='.', c=\"blue\", label='Trainset_loss')\n",
        "\n",
        "plt.legend(loc='upper right')\n",
        "plt.grid() # 그래프에 그리드 설정\n",
        "plt.xlabel('epoch')\n",
        "plt.ylabel('loss')\n",
        "plt.show"
      ],
      "metadata": {
        "id": "0v9GGkeIQqtl",
        "colab": {
          "base_uri": "https://localhost:8080/",
          "height": 468
        },
        "outputId": "f742b9ca-8c4d-4d00-fd53-18bd0084837b"
      },
      "execution_count": 28,
      "outputs": [
        {
          "output_type": "execute_result",
          "data": {
            "text/plain": [
              "<function matplotlib.pyplot.show(close=None, block=None)>"
            ]
          },
          "metadata": {},
          "execution_count": 28
        },
        {
          "output_type": "display_data",
          "data": {
            "text/plain": [
              "<Figure size 640x480 with 1 Axes>"
            ],
            "image/png": "[encoded data removed]"
          },
          "metadata": {}
        }
      ]
    }
  ]
}