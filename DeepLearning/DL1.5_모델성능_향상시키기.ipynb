{
  "nbformat": 4,
  "nbformat_minor": 0,
  "metadata": {
    "colab": {
      "provenance": [],
      "authorship_tag": "ABX9TyMb/9CcVCp3VxpgJLK0Gb4z",
      "include_colab_link": true
    },
    "kernelspec": {
      "name": "python3",
      "display_name": "Python 3"
    },
    "language_info": {
      "name": "python"
    }
  },
  "cells": [
    {
      "cell_type": "markdown",
      "metadata": {
        "id": "view-in-github",
        "colab_type": "text"
      },
      "source": [
        "<a href=\"https://colab.research.google.com/github/uhyozzy/TIL/blob/main/DeepLearning/DL1.5_%EB%AA%A8%EB%8D%B8%EC%84%B1%EB%8A%A5_%ED%96%A5%EC%83%81%EC%8B%9C%ED%82%A4%EA%B8%B0.ipynb\" target=\"_parent\"><img src=\"https://colab.research.google.com/assets/colab-badge.svg\" alt=\"Open In Colab\"/></a>"
      ]
    },
    {
      "cell_type": "markdown",
      "source": [
        "# **1. 데이터의 확인과 검증셋**"
      ],
      "metadata": {
        "id": "B00hS_trvSXq"
      }
    },
    {
      "cell_type": "markdown",
      "source": [
        "- feature에 따라 레드와인, 화이트와인 구분하기"
      ],
      "metadata": {
        "id": "o7_YzDsrvbi9"
      }
    },
    {
      "cell_type": "code",
      "source": [
        "import os\n",
        "import pandas as pd\n",
        "import numpy as np\n",
        "import matplotlib.pyplot as plt"
      ],
      "metadata": {
        "id": "pyR0mi-X1e1n"
      },
      "execution_count": 8,
      "outputs": []
    },
    {
      "cell_type": "code",
      "execution_count": 1,
      "metadata": {
        "colab": {
          "base_uri": "https://localhost:8080/",
          "height": 467
        },
        "id": "-rKuU74kuL1E",
        "outputId": "4a1ddaab-fc1d-4899-eff0-16327f39e9dc"
      },
      "outputs": [
        {
          "output_type": "execute_result",
          "data": {
            "text/plain": [
              "        0     1     2    3      4     5   ...       7     8     9     10  11  12\n",
              "0      7.4  0.70  0.00  1.9  0.076  11.0  ...  0.99780  3.51  0.56   9.4   5   1\n",
              "1      7.8  0.88  0.00  2.6  0.098  25.0  ...  0.99680  3.20  0.68   9.8   5   1\n",
              "2      7.8  0.76  0.04  2.3  0.092  15.0  ...  0.99700  3.26  0.65   9.8   5   1\n",
              "3     11.2  0.28  0.56  1.9  0.075  17.0  ...  0.99800  3.16  0.58   9.8   6   1\n",
              "4      7.4  0.70  0.00  1.9  0.076  11.0  ...  0.99780  3.51  0.56   9.4   5   1\n",
              "...    ...   ...   ...  ...    ...   ...  ...      ...   ...   ...   ...  ..  ..\n",
              "6492   6.2  0.21  0.29  1.6  0.039  24.0  ...  0.99114  3.27  0.50  11.2   6   0\n",
              "6493   6.6  0.32  0.36  8.0  0.047  57.0  ...  0.99490  3.15  0.46   9.6   5   0\n",
              "6494   6.5  0.24  0.19  1.2  0.041  30.0  ...  0.99254  2.99  0.46   9.4   6   0\n",
              "6495   5.5  0.29  0.30  1.1  0.022  20.0  ...  0.98869  3.34  0.38  12.8   7   0\n",
              "6496   6.0  0.21  0.38  0.8  0.020  22.0  ...  0.98941  3.26  0.32  11.8   6   0\n",
              "\n",
              "[6497 rows x 13 columns]"
            ],
            "text/html": [
              "\n",
              "\n",
              "  <div id=\"df-cbbebd4e-0662-4200-b392-5159537eca62\">\n",
              "    <div class=\"colab-df-container\">\n",
              "      <div>\n",
              "<style scoped>\n",
              "    .dataframe tbody tr th:only-of-type {\n",
              "        vertical-align: middle;\n",
              "    }\n",
              "\n",
              "    .dataframe tbody tr th {\n",
              "        vertical-align: top;\n",
              "    }\n",
              "\n",
              "    .dataframe thead th {\n",
              "        text-align: right;\n",
              "    }\n",
              "</style>\n",
              "<table border=\"1\" class=\"dataframe\">\n",
              "  <thead>\n",
              "    <tr style=\"text-align: right;\">\n",
              "      <th></th>\n",
              "      <th>0</th>\n",
              "      <th>1</th>\n",
              "      <th>2</th>\n",
              "      <th>3</th>\n",
              "      <th>4</th>\n",
              "      <th>5</th>\n",
              "      <th>6</th>\n",
              "      <th>7</th>\n",
              "      <th>8</th>\n",
              "      <th>9</th>\n",
              "      <th>10</th>\n",
              "      <th>11</th>\n",
              "      <th>12</th>\n",
              "    </tr>\n",
              "  </thead>\n",
              "  <tbody>\n",
              "    <tr>\n",
              "      <th>0</th>\n",
              "      <td>7.4</td>\n",
              "      <td>0.70</td>\n",
              "      <td>0.00</td>\n",
              "      <td>1.9</td>\n",
              "      <td>0.076</td>\n",
              "      <td>11.0</td>\n",
              "      <td>34.0</td>\n",
              "      <td>0.99780</td>\n",
              "      <td>3.51</td>\n",
              "      <td>0.56</td>\n",
              "      <td>9.4</td>\n",
              "      <td>5</td>\n",
              "      <td>1</td>\n",
              "    </tr>\n",
              "    <tr>\n",
              "      <th>1</th>\n",
              "      <td>7.8</td>\n",
              "      <td>0.88</td>\n",
              "      <td>0.00</td>\n",
              "      <td>2.6</td>\n",
              "      <td>0.098</td>\n",
              "      <td>25.0</td>\n",
              "      <td>67.0</td>\n",
              "      <td>0.99680</td>\n",
              "      <td>3.20</td>\n",
              "      <td>0.68</td>\n",
              "      <td>9.8</td>\n",
              "      <td>5</td>\n",
              "      <td>1</td>\n",
              "    </tr>\n",
              "    <tr>\n",
              "      <th>2</th>\n",
              "      <td>7.8</td>\n",
              "      <td>0.76</td>\n",
              "      <td>0.04</td>\n",
              "      <td>2.3</td>\n",
              "      <td>0.092</td>\n",
              "      <td>15.0</td>\n",
              "      <td>54.0</td>\n",
              "      <td>0.99700</td>\n",
              "      <td>3.26</td>\n",
              "      <td>0.65</td>\n",
              "      <td>9.8</td>\n",
              "      <td>5</td>\n",
              "      <td>1</td>\n",
              "    </tr>\n",
              "    <tr>\n",
              "      <th>3</th>\n",
              "      <td>11.2</td>\n",
              "      <td>0.28</td>\n",
              "      <td>0.56</td>\n",
              "      <td>1.9</td>\n",
              "      <td>0.075</td>\n",
              "      <td>17.0</td>\n",
              "      <td>60.0</td>\n",
              "      <td>0.99800</td>\n",
              "      <td>3.16</td>\n",
              "      <td>0.58</td>\n",
              "      <td>9.8</td>\n",
              "      <td>6</td>\n",
              "      <td>1</td>\n",
              "    </tr>\n",
              "    <tr>\n",
              "      <th>4</th>\n",
              "      <td>7.4</td>\n",
              "      <td>0.70</td>\n",
              "      <td>0.00</td>\n",
              "      <td>1.9</td>\n",
              "      <td>0.076</td>\n",
              "      <td>11.0</td>\n",
              "      <td>34.0</td>\n",
              "      <td>0.99780</td>\n",
              "      <td>3.51</td>\n",
              "      <td>0.56</td>\n",
              "      <td>9.4</td>\n",
              "      <td>5</td>\n",
              "      <td>1</td>\n",
              "    </tr>\n",
              "    <tr>\n",
              "      <th>...</th>\n",
              "      <td>...</td>\n",
              "      <td>...</td>\n",
              "      <td>...</td>\n",
              "      <td>...</td>\n",
              "      <td>...</td>\n",
              "      <td>...</td>\n",
              "      <td>...</td>\n",
              "      <td>...</td>\n",
              "      <td>...</td>\n",
              "      <td>...</td>\n",
              "      <td>...</td>\n",
              "      <td>...</td>\n",
              "      <td>...</td>\n",
              "    </tr>\n",
              "    <tr>\n",
              "      <th>6492</th>\n",
              "      <td>6.2</td>\n",
              "      <td>0.21</td>\n",
              "      <td>0.29</td>\n",
              "      <td>1.6</td>\n",
              "      <td>0.039</td>\n",
              "      <td>24.0</td>\n",
              "      <td>92.0</td>\n",
              "      <td>0.99114</td>\n",
              "      <td>3.27</td>\n",
              "      <td>0.50</td>\n",
              "      <td>11.2</td>\n",
              "      <td>6</td>\n",
              "      <td>0</td>\n",
              "    </tr>\n",
              "    <tr>\n",
              "      <th>6493</th>\n",
              "      <td>6.6</td>\n",
              "      <td>0.32</td>\n",
              "      <td>0.36</td>\n",
              "      <td>8.0</td>\n",
              "      <td>0.047</td>\n",
              "      <td>57.0</td>\n",
              "      <td>168.0</td>\n",
              "      <td>0.99490</td>\n",
              "      <td>3.15</td>\n",
              "      <td>0.46</td>\n",
              "      <td>9.6</td>\n",
              "      <td>5</td>\n",
              "      <td>0</td>\n",
              "    </tr>\n",
              "    <tr>\n",
              "      <th>6494</th>\n",
              "      <td>6.5</td>\n",
              "      <td>0.24</td>\n",
              "      <td>0.19</td>\n",
              "      <td>1.2</td>\n",
              "      <td>0.041</td>\n",
              "      <td>30.0</td>\n",
              "      <td>111.0</td>\n",
              "      <td>0.99254</td>\n",
              "      <td>2.99</td>\n",
              "      <td>0.46</td>\n",
              "      <td>9.4</td>\n",
              "      <td>6</td>\n",
              "      <td>0</td>\n",
              "    </tr>\n",
              "    <tr>\n",
              "      <th>6495</th>\n",
              "      <td>5.5</td>\n",
              "      <td>0.29</td>\n",
              "      <td>0.30</td>\n",
              "      <td>1.1</td>\n",
              "      <td>0.022</td>\n",
              "      <td>20.0</td>\n",
              "      <td>110.0</td>\n",
              "      <td>0.98869</td>\n",
              "      <td>3.34</td>\n",
              "      <td>0.38</td>\n",
              "      <td>12.8</td>\n",
              "      <td>7</td>\n",
              "      <td>0</td>\n",
              "    </tr>\n",
              "    <tr>\n",
              "      <th>6496</th>\n",
              "      <td>6.0</td>\n",
              "      <td>0.21</td>\n",
              "      <td>0.38</td>\n",
              "      <td>0.8</td>\n",
              "      <td>0.020</td>\n",
              "      <td>22.0</td>\n",
              "      <td>98.0</td>\n",
              "      <td>0.98941</td>\n",
              "      <td>3.26</td>\n",
              "      <td>0.32</td>\n",
              "      <td>11.8</td>\n",
              "      <td>6</td>\n",
              "      <td>0</td>\n",
              "    </tr>\n",
              "  </tbody>\n",
              "</table>\n",
              "<p>6497 rows × 13 columns</p>\n",
              "</div>\n",
              "      <button class=\"colab-df-convert\" onclick=\"convertToInteractive('df-cbbebd4e-0662-4200-b392-5159537eca62')\"\n",
              "              title=\"Convert this dataframe to an interactive table.\"\n",
              "              style=\"display:none;\">\n",
              "\n",
              "  <svg xmlns=\"http://www.w3.org/2000/svg\" height=\"24px\"viewBox=\"0 0 24 24\"\n",
              "       width=\"24px\">\n",
              "    <path d=\"M0 0h24v24H0V0z\" fill=\"none\"/>\n",
              "    <path d=\"M18.56 5.44l.94 2.06.94-2.06 2.06-.94-2.06-.94-.94-2.06-.94 2.06-2.06.94zm-11 1L8.5 8.5l.94-2.06 2.06-.94-2.06-.94L8.5 2.5l-.94 2.06-2.06.94zm10 10l.94 2.06.94-2.06 2.06-.94-2.06-.94-.94-2.06-.94 2.06-2.06.94z\"/><path d=\"M17.41 7.96l-1.37-1.37c-.4-.4-.92-.59-1.43-.59-.52 0-1.04.2-1.43.59L10.3 9.45l-7.72 7.72c-.78.78-.78 2.05 0 2.83L4 21.41c.39.39.9.59 1.41.59.51 0 1.02-.2 1.41-.59l7.78-7.78 2.81-2.81c.8-.78.8-2.07 0-2.86zM5.41 20L4 18.59l7.72-7.72 1.47 1.35L5.41 20z\"/>\n",
              "  </svg>\n",
              "      </button>\n",
              "\n",
              "\n",
              "\n",
              "    <div id=\"df-bdd81131-82e8-4f6a-9880-84cfa50c31d5\">\n",
              "      <button class=\"colab-df-quickchart\" onclick=\"quickchart('df-bdd81131-82e8-4f6a-9880-84cfa50c31d5')\"\n",
              "              title=\"Suggest charts.\"\n",
              "              style=\"display:none;\">\n",
              "\n",
              "<svg xmlns=\"http://www.w3.org/2000/svg\" height=\"24px\"viewBox=\"0 0 24 24\"\n",
              "     width=\"24px\">\n",
              "    <g>\n",
              "        <path d=\"M19 3H5c-1.1 0-2 .9-2 2v14c0 1.1.9 2 2 2h14c1.1 0 2-.9 2-2V5c0-1.1-.9-2-2-2zM9 17H7v-7h2v7zm4 0h-2V7h2v10zm4 0h-2v-4h2v4z\"/>\n",
              "    </g>\n",
              "</svg>\n",
              "      </button>\n",
              "    </div>\n",
              "\n",
              "<style>\n",
              "  .colab-df-quickchart {\n",
              "    background-color: #E8F0FE;\n",
              "    border: none;\n",
              "    border-radius: 50%;\n",
              "    cursor: pointer;\n",
              "    display: none;\n",
              "    fill: #1967D2;\n",
              "    height: 32px;\n",
              "    padding: 0 0 0 0;\n",
              "    width: 32px;\n",
              "  }\n",
              "\n",
              "  .colab-df-quickchart:hover {\n",
              "    background-color: #E2EBFA;\n",
              "    box-shadow: 0px 1px 2px rgba(60, 64, 67, 0.3), 0px 1px 3px 1px rgba(60, 64, 67, 0.15);\n",
              "    fill: #174EA6;\n",
              "  }\n",
              "\n",
              "  [theme=dark] .colab-df-quickchart {\n",
              "    background-color: #3B4455;\n",
              "    fill: #D2E3FC;\n",
              "  }\n",
              "\n",
              "  [theme=dark] .colab-df-quickchart:hover {\n",
              "    background-color: #434B5C;\n",
              "    box-shadow: 0px 1px 3px 1px rgba(0, 0, 0, 0.15);\n",
              "    filter: drop-shadow(0px 1px 2px rgba(0, 0, 0, 0.3));\n",
              "    fill: #FFFFFF;\n",
              "  }\n",
              "</style>\n",
              "\n",
              "    <script>\n",
              "      async function quickchart(key) {\n",
              "        const containerElement = document.querySelector('#' + key);\n",
              "        const charts = await google.colab.kernel.invokeFunction(\n",
              "            'suggestCharts', [key], {});\n",
              "      }\n",
              "    </script>\n",
              "\n",
              "      <script>\n",
              "\n",
              "function displayQuickchartButton(domScope) {\n",
              "  let quickchartButtonEl =\n",
              "    domScope.querySelector('#df-bdd81131-82e8-4f6a-9880-84cfa50c31d5 button.colab-df-quickchart');\n",
              "  quickchartButtonEl.style.display =\n",
              "    google.colab.kernel.accessAllowed ? 'block' : 'none';\n",
              "}\n",
              "\n",
              "        displayQuickchartButton(document);\n",
              "      </script>\n",
              "      <style>\n",
              "    .colab-df-container {\n",
              "      display:flex;\n",
              "      flex-wrap:wrap;\n",
              "      gap: 12px;\n",
              "    }\n",
              "\n",
              "    .colab-df-convert {\n",
              "      background-color: #E8F0FE;\n",
              "      border: none;\n",
              "      border-radius: 50%;\n",
              "      cursor: pointer;\n",
              "      display: none;\n",
              "      fill: #1967D2;\n",
              "      height: 32px;\n",
              "      padding: 0 0 0 0;\n",
              "      width: 32px;\n",
              "    }\n",
              "\n",
              "    .colab-df-convert:hover {\n",
              "      background-color: #E2EBFA;\n",
              "      box-shadow: 0px 1px 2px rgba(60, 64, 67, 0.3), 0px 1px 3px 1px rgba(60, 64, 67, 0.15);\n",
              "      fill: #174EA6;\n",
              "    }\n",
              "\n",
              "    [theme=dark] .colab-df-convert {\n",
              "      background-color: #3B4455;\n",
              "      fill: #D2E3FC;\n",
              "    }\n",
              "\n",
              "    [theme=dark] .colab-df-convert:hover {\n",
              "      background-color: #434B5C;\n",
              "      box-shadow: 0px 1px 3px 1px rgba(0, 0, 0, 0.15);\n",
              "      filter: drop-shadow(0px 1px 2px rgba(0, 0, 0, 0.3));\n",
              "      fill: #FFFFFF;\n",
              "    }\n",
              "  </style>\n",
              "\n",
              "      <script>\n",
              "        const buttonEl =\n",
              "          document.querySelector('#df-cbbebd4e-0662-4200-b392-5159537eca62 button.colab-df-convert');\n",
              "        buttonEl.style.display =\n",
              "          google.colab.kernel.accessAllowed ? 'block' : 'none';\n",
              "\n",
              "        async function convertToInteractive(key) {\n",
              "          const element = document.querySelector('#df-cbbebd4e-0662-4200-b392-5159537eca62');\n",
              "          const dataTable =\n",
              "            await google.colab.kernel.invokeFunction('convertToInteractive',\n",
              "                                                     [key], {});\n",
              "          if (!dataTable) return;\n",
              "\n",
              "          const docLinkHtml = 'Like what you see? Visit the ' +\n",
              "            '<a target=\"_blank\" href=https://colab.research.google.com/notebooks/data_table.ipynb>data table notebook</a>'\n",
              "            + ' to learn more about interactive tables.';\n",
              "          element.innerHTML = '';\n",
              "          dataTable['output_type'] = 'display_data';\n",
              "          await google.colab.output.renderOutput(dataTable, element);\n",
              "          const docLink = document.createElement('div');\n",
              "          docLink.innerHTML = docLinkHtml;\n",
              "          element.appendChild(docLink);\n",
              "        }\n",
              "      </script>\n",
              "    </div>\n",
              "  </div>\n"
            ]
          },
          "metadata": {},
          "execution_count": 1
        }
      ],
      "source": [
        "from tensorflow.keras.models import Sequential\n",
        "from tensorflow.keras.layers import Dense\n",
        "from sklearn.model_selection import train_test_split\n",
        "import pandas as pd\n",
        "\n",
        "df=pd.read_csv('/content/wine.csv', header=None)\n",
        "df"
      ]
    },
    {
      "cell_type": "markdown",
      "source": [
        "**X=와인 속성,y=와인분류**"
      ],
      "metadata": {
        "id": "-j4CAeFZyp7A"
      }
    },
    {
      "cell_type": "code",
      "source": [
        "X=df.iloc[:,0:12]\n",
        "y=df.iloc[:,12]"
      ],
      "metadata": {
        "id": "mK0AGrABvR8U"
      },
      "execution_count": 3,
      "outputs": []
    },
    {
      "cell_type": "markdown",
      "source": [
        "**학습셋/테스트셋 분류**"
      ],
      "metadata": {
        "id": "w60X-wgZyvVM"
      }
    },
    {
      "cell_type": "code",
      "source": [
        "X_train, X_test, y_train,y_test = train_test_split(X, y , test_size=0.2, shuffle=True)"
      ],
      "metadata": {
        "id": "j4mbS-1YvR41"
      },
      "execution_count": 5,
      "outputs": []
    },
    {
      "cell_type": "markdown",
      "source": [
        "**모델구조 설정**"
      ],
      "metadata": {
        "id": "Ye7voXGgyyx2"
      }
    },
    {
      "cell_type": "code",
      "source": [
        "model=Sequential()\n",
        "\n",
        "model.add(Dense(30, input_dim=12, activation='relu'))\n",
        "model.add(Dense(12, activation='relu'))\n",
        "model.add(Dense(8, activation='relu'))\n",
        "model.add(Dense(1, activation='sigmoid'))\n",
        "model.summary()"
      ],
      "metadata": {
        "colab": {
          "base_uri": "https://localhost:8080/"
        },
        "id": "xcLWw46LvR1_",
        "outputId": "072b46d3-7f48-4213-dc13-b20f6c301494"
      },
      "execution_count": 6,
      "outputs": [
        {
          "output_type": "stream",
          "name": "stdout",
          "text": [
            "Model: \"sequential\"\n",
            "_________________________________________________________________\n",
            " Layer (type)                Output Shape              Param #   \n",
            "=================================================================\n",
            " dense (Dense)               (None, 30)                390       \n",
            "                                                                 \n",
            " dense_1 (Dense)             (None, 12)                372       \n",
            "                                                                 \n",
            " dense_2 (Dense)             (None, 8)                 104       \n",
            "                                                                 \n",
            " dense_3 (Dense)             (None, 1)                 9         \n",
            "                                                                 \n",
            "=================================================================\n",
            "Total params: 875\n",
            "Trainable params: 875\n",
            "Non-trainable params: 0\n",
            "_________________________________________________________________\n"
          ]
        }
      ]
    },
    {
      "cell_type": "markdown",
      "source": [
        "**모델 컴파일 및 실행**"
      ],
      "metadata": {
        "id": "j7EMw9ebzfJv"
      }
    },
    {
      "cell_type": "code",
      "source": [
        "model.compile(loss='binary_crossentropy', optimizer='adam', metrics=['accuracy'])\n",
        "\n",
        "history=model.fit(X, y, epochs=50, batch_size=500, validation_split=0.25) #0.8*0.25=0.2"
      ],
      "metadata": {
        "id": "C72F-16CvRy8"
      },
      "execution_count": null,
      "outputs": []
    },
    {
      "cell_type": "markdown",
      "source": [
        "**테스트 결과 출력**"
      ],
      "metadata": {
        "id": "RrS-sF6Hzudz"
      }
    },
    {
      "cell_type": "code",
      "source": [
        "score = model.evaluate(X_test, y_test)\n",
        "print('Test accuracy: ', score[1])"
      ],
      "metadata": {
        "colab": {
          "base_uri": "https://localhost:8080/"
        },
        "id": "nIznwdJ8vRtx",
        "outputId": "1087428a-96af-470e-dac8-a04149ca4923"
      },
      "execution_count": 10,
      "outputs": [
        {
          "output_type": "stream",
          "name": "stdout",
          "text": [
            "41/41 [==============================] - 0s 2ms/step - loss: 0.1162 - accuracy: 0.9569\n",
            "Test accuracy:  0.9569230675697327\n"
          ]
        }
      ]
    },
    {
      "cell_type": "markdown",
      "source": [
        "# **2.모델 업데이트하기**"
      ],
      "metadata": {
        "id": "nbTDdAAm0AX8"
      }
    },
    {
      "cell_type": "markdown",
      "source": [
        "**모델의 저장 및 실행**"
      ],
      "metadata": {
        "id": "74SJDiCQ0L7S"
      }
    },
    {
      "cell_type": "code",
      "source": [
        "# 저장조건 설정\n",
        "from tensorflow.keras.callbacks import ModelCheckpoint\n",
        "modelpath=\"./model/all/{epoch:02d}-{val_accuracy:.4f}.hdf5\"\n",
        "checkpointer = ModelCheckpoint(filepath=modelpath, verbose=1)\n",
        "\n",
        "# 모델 실행\n",
        "history=model.fit(X_train, y_train, epochs=50, batch_size=500, validation_split=0.25, verbose=0,\n",
        "                  callbacks=[checkpointer])"
      ],
      "metadata": {
        "id": "rjBwmY7wvRoV"
      },
      "execution_count": null,
      "outputs": []
    },
    {
      "cell_type": "markdown",
      "source": [
        "- **`modelpath=\"./model/all/{epoch:02d}-{val_accuracy:.4f}.hdf5\"`**:\n",
        "  - 모델이 저장될 경로를 지정합니다.\n",
        "    - {epoch:02d}는 현재 에포크 번호를 두 자리 숫자로 표현\n",
        "    - {val_accuracy:.4f}는 검증 데이터에 대한 정확도를 소수점 아래 4자리까지 표현하는 것을 의미합니다. 이렇게 설정함으로써 학습이 진행되면서 각 에포크마다 정확도가 높아지는 모델들이 저장될 것입니다.\n",
        "\n",
        "- **`checkpointer = ModelCheckpoint(filepath=modelpath, verbose=1)`**: ModelCheckpoint 객체를 생성합니다.\n",
        "  - 이때, filepath에는 모델의 저장 경로가 설정되고,\n",
        "  - verbose는 저장 시 로그 메시지를 얼마나 자세하게 출력할지를 결정합니다. verbose=1이면 모델이 저장될 때마다 로그 메시지가 출력됩니다.\n",
        "\n",
        "- **`history=model.fit(...)`**: 이 부분은 모델을 학습시키는 부분\n",
        "  - fit 메서드를 사용하여 주어진 데이터를 사용하여 모델을 학습합니다.\n",
        "  - X_train은 입력 데이터, y_train은 해당 입력 데이터에 대한 라벨(타깃) 데이터를 나타냅니다.\n",
        "\n",
        "    - **`epochs=50`**: 전체 데이터셋을 몇 번 반복해서 학습할지를 지정합니다. 에포크(epoch)는 학습 데이터를 한 번 전체로 훑는 것을 의미합니다. 여기서는 50 에포크 동안 학습을 진행할 것입니다.\n",
        "    - **`batch_size=500`**: 한 번의 에포크에서 사용할 미니배치 크기를 설정합니다. 미니배치는 전체 데이터를 작은 단위로 나누어 학습하는 방식으로, 메모리를 효율적으로 사용하면서도 학습 과정을 가속화하는 데 도움이 됩니다. 여기서는 500개의 데이터로 구성된 미니배치를 사용합니다.\n",
        "    - **`validation_split=0.25`**: 학습 데이터 중에서 검증 데이터로 사용할 비율을 지정합니다. 이 경우 전체 학습 데이터의 25%가 검증 데이터로 사용됩니다.\n",
        "    - **`verbose=0`**: 학습 과정에서의 출력 메시지를 지정합니다. verbose=0이면 출력이 없고, verbose=1이면 진행 상황을 보여주는 로그 메시지가 출력됩니다.\n",
        "    - **`callbacks=[checkpointer]`**: 이 부분은 앞서 설정한 ModelCheckpoint 콜백을 모델 학습에 적용하는 부분입니다. 즉, 매 에포크마다 모델의 정확도를 확인하고, 지정된 경로에 모델을 저장합니다."
      ],
      "metadata": {
        "id": "CY4Q5KHK2gGZ"
      }
    },
    {
      "cell_type": "markdown",
      "source": [
        "**테스트 결과 출력**"
      ],
      "metadata": {
        "id": "ua4mQGNW2GJR"
      }
    },
    {
      "cell_type": "code",
      "source": [
        "score = model.evaluate(X_test, y_test)\n",
        "print('Test accuracy: ', score[1])"
      ],
      "metadata": {
        "colab": {
          "base_uri": "https://localhost:8080/"
        },
        "id": "Er_UCEZbvRkk",
        "outputId": "3388f3a8-550d-492b-ec1d-f80b7ffc8676"
      },
      "execution_count": 17,
      "outputs": [
        {
          "output_type": "stream",
          "name": "stdout",
          "text": [
            "41/41 [==============================] - 0s 2ms/step - loss: 0.0752 - accuracy: 0.9762\n",
            "Test accuracy:  0.9761538505554199\n"
          ]
        }
      ]
    },
    {
      "cell_type": "markdown",
      "source": [
        "# **3. 그래프로 과적합 학습하기**"
      ],
      "metadata": {
        "id": "8V_EZ4_z2PF_"
      }
    },
    {
      "cell_type": "markdown",
      "source": [
        "**그래프 확인을 위한 긴 학습**"
      ],
      "metadata": {
        "id": "mjLnFjq43bwx"
      }
    },
    {
      "cell_type": "code",
      "source": [
        "history=model.fit(X_train, y_train, epochs=2000, batch_size=500, validation_split=0.25)"
      ],
      "metadata": {
        "id": "lfgKQu8kvRd2"
      },
      "execution_count": null,
      "outputs": []
    },
    {
      "cell_type": "markdown",
      "source": [
        "**history에 저장된 학습결과 확인**"
      ],
      "metadata": {
        "id": "DUlQMedp3efU"
      }
    },
    {
      "cell_type": "code",
      "source": [
        "hist_df=pd.DataFrame(history.history)\n",
        "hist_df"
      ],
      "metadata": {
        "colab": {
          "base_uri": "https://localhost:8080/",
          "height": 423
        },
        "id": "lP9LNHGYvRYk",
        "outputId": "7f5b9336-56c6-4fc3-8183-7f994ffccf0c"
      },
      "execution_count": 20,
      "outputs": [
        {
          "output_type": "execute_result",
          "data": {
            "text/plain": [
              "          loss  accuracy  val_loss  val_accuracy\n",
              "0     0.090046  0.971773  0.095938      0.970000\n",
              "1     0.089561  0.972800  0.095537      0.970000\n",
              "2     0.088798  0.971003  0.095096      0.970769\n",
              "3     0.088164  0.972286  0.094602      0.971538\n",
              "4     0.087951  0.972286  0.095667      0.972308\n",
              "...        ...       ...       ...           ...\n",
              "1995  0.029644  0.990762  0.047999      0.991538\n",
              "1996  0.028971  0.992045  0.047559      0.991538\n",
              "1997  0.028847  0.991789  0.047554      0.993077\n",
              "1998  0.029511  0.991019  0.047996      0.992308\n",
              "1999  0.029330  0.991532  0.048563      0.991538\n",
              "\n",
              "[2000 rows x 4 columns]"
            ],
            "text/html": [
              "\n",
              "\n",
              "  <div id=\"df-06aad602-c40b-4231-9742-3519f0dd682f\">\n",
              "    <div class=\"colab-df-container\">\n",
              "      <div>\n",
              "<style scoped>\n",
              "    .dataframe tbody tr th:only-of-type {\n",
              "        vertical-align: middle;\n",
              "    }\n",
              "\n",
              "    .dataframe tbody tr th {\n",
              "        vertical-align: top;\n",
              "    }\n",
              "\n",
              "    .dataframe thead th {\n",
              "        text-align: right;\n",
              "    }\n",
              "</style>\n",
              "<table border=\"1\" class=\"dataframe\">\n",
              "  <thead>\n",
              "    <tr style=\"text-align: right;\">\n",
              "      <th></th>\n",
              "      <th>loss</th>\n",
              "      <th>accuracy</th>\n",
              "      <th>val_loss</th>\n",
              "      <th>val_accuracy</th>\n",
              "    </tr>\n",
              "  </thead>\n",
              "  <tbody>\n",
              "    <tr>\n",
              "      <th>0</th>\n",
              "      <td>0.090046</td>\n",
              "      <td>0.971773</td>\n",
              "      <td>0.095938</td>\n",
              "      <td>0.970000</td>\n",
              "    </tr>\n",
              "    <tr>\n",
              "      <th>1</th>\n",
              "      <td>0.089561</td>\n",
              "      <td>0.972800</td>\n",
              "      <td>0.095537</td>\n",
              "      <td>0.970000</td>\n",
              "    </tr>\n",
              "    <tr>\n",
              "      <th>2</th>\n",
              "      <td>0.088798</td>\n",
              "      <td>0.971003</td>\n",
              "      <td>0.095096</td>\n",
              "      <td>0.970769</td>\n",
              "    </tr>\n",
              "    <tr>\n",
              "      <th>3</th>\n",
              "      <td>0.088164</td>\n",
              "      <td>0.972286</td>\n",
              "      <td>0.094602</td>\n",
              "      <td>0.971538</td>\n",
              "    </tr>\n",
              "    <tr>\n",
              "      <th>4</th>\n",
              "      <td>0.087951</td>\n",
              "      <td>0.972286</td>\n",
              "      <td>0.095667</td>\n",
              "      <td>0.972308</td>\n",
              "    </tr>\n",
              "    <tr>\n",
              "      <th>...</th>\n",
              "      <td>...</td>\n",
              "      <td>...</td>\n",
              "      <td>...</td>\n",
              "      <td>...</td>\n",
              "    </tr>\n",
              "    <tr>\n",
              "      <th>1995</th>\n",
              "      <td>0.029644</td>\n",
              "      <td>0.990762</td>\n",
              "      <td>0.047999</td>\n",
              "      <td>0.991538</td>\n",
              "    </tr>\n",
              "    <tr>\n",
              "      <th>1996</th>\n",
              "      <td>0.028971</td>\n",
              "      <td>0.992045</td>\n",
              "      <td>0.047559</td>\n",
              "      <td>0.991538</td>\n",
              "    </tr>\n",
              "    <tr>\n",
              "      <th>1997</th>\n",
              "      <td>0.028847</td>\n",
              "      <td>0.991789</td>\n",
              "      <td>0.047554</td>\n",
              "      <td>0.993077</td>\n",
              "    </tr>\n",
              "    <tr>\n",
              "      <th>1998</th>\n",
              "      <td>0.029511</td>\n",
              "      <td>0.991019</td>\n",
              "      <td>0.047996</td>\n",
              "      <td>0.992308</td>\n",
              "    </tr>\n",
              "    <tr>\n",
              "      <th>1999</th>\n",
              "      <td>0.029330</td>\n",
              "      <td>0.991532</td>\n",
              "      <td>0.048563</td>\n",
              "      <td>0.991538</td>\n",
              "    </tr>\n",
              "  </tbody>\n",
              "</table>\n",
              "<p>2000 rows × 4 columns</p>\n",
              "</div>\n",
              "      <button class=\"colab-df-convert\" onclick=\"convertToInteractive('df-06aad602-c40b-4231-9742-3519f0dd682f')\"\n",
              "              title=\"Convert this dataframe to an interactive table.\"\n",
              "              style=\"display:none;\">\n",
              "\n",
              "  <svg xmlns=\"http://www.w3.org/2000/svg\" height=\"24px\"viewBox=\"0 0 24 24\"\n",
              "       width=\"24px\">\n",
              "    <path d=\"M0 0h24v24H0V0z\" fill=\"none\"/>\n",
              "    <path d=\"M18.56 5.44l.94 2.06.94-2.06 2.06-.94-2.06-.94-.94-2.06-.94 2.06-2.06.94zm-11 1L8.5 8.5l.94-2.06 2.06-.94-2.06-.94L8.5 2.5l-.94 2.06-2.06.94zm10 10l.94 2.06.94-2.06 2.06-.94-2.06-.94-.94-2.06-.94 2.06-2.06.94z\"/><path d=\"M17.41 7.96l-1.37-1.37c-.4-.4-.92-.59-1.43-.59-.52 0-1.04.2-1.43.59L10.3 9.45l-7.72 7.72c-.78.78-.78 2.05 0 2.83L4 21.41c.39.39.9.59 1.41.59.51 0 1.02-.2 1.41-.59l7.78-7.78 2.81-2.81c.8-.78.8-2.07 0-2.86zM5.41 20L4 18.59l7.72-7.72 1.47 1.35L5.41 20z\"/>\n",
              "  </svg>\n",
              "      </button>\n",
              "\n",
              "\n",
              "\n",
              "    <div id=\"df-62a9811c-760e-4538-a58b-c114d4531d5a\">\n",
              "      <button class=\"colab-df-quickchart\" onclick=\"quickchart('df-62a9811c-760e-4538-a58b-c114d4531d5a')\"\n",
              "              title=\"Suggest charts.\"\n",
              "              style=\"display:none;\">\n",
              "\n",
              "<svg xmlns=\"http://www.w3.org/2000/svg\" height=\"24px\"viewBox=\"0 0 24 24\"\n",
              "     width=\"24px\">\n",
              "    <g>\n",
              "        <path d=\"M19 3H5c-1.1 0-2 .9-2 2v14c0 1.1.9 2 2 2h14c1.1 0 2-.9 2-2V5c0-1.1-.9-2-2-2zM9 17H7v-7h2v7zm4 0h-2V7h2v10zm4 0h-2v-4h2v4z\"/>\n",
              "    </g>\n",
              "</svg>\n",
              "      </button>\n",
              "    </div>\n",
              "\n",
              "<style>\n",
              "  .colab-df-quickchart {\n",
              "    background-color: #E8F0FE;\n",
              "    border: none;\n",
              "    border-radius: 50%;\n",
              "    cursor: pointer;\n",
              "    display: none;\n",
              "    fill: #1967D2;\n",
              "    height: 32px;\n",
              "    padding: 0 0 0 0;\n",
              "    width: 32px;\n",
              "  }\n",
              "\n",
              "  .colab-df-quickchart:hover {\n",
              "    background-color: #E2EBFA;\n",
              "    box-shadow: 0px 1px 2px rgba(60, 64, 67, 0.3), 0px 1px 3px 1px rgba(60, 64, 67, 0.15);\n",
              "    fill: #174EA6;\n",
              "  }\n",
              "\n",
              "  [theme=dark] .colab-df-quickchart {\n",
              "    background-color: #3B4455;\n",
              "    fill: #D2E3FC;\n",
              "  }\n",
              "\n",
              "  [theme=dark] .colab-df-quickchart:hover {\n",
              "    background-color: #434B5C;\n",
              "    box-shadow: 0px 1px 3px 1px rgba(0, 0, 0, 0.15);\n",
              "    filter: drop-shadow(0px 1px 2px rgba(0, 0, 0, 0.3));\n",
              "    fill: #FFFFFF;\n",
              "  }\n",
              "</style>\n",
              "\n",
              "    <script>\n",
              "      async function quickchart(key) {\n",
              "        const containerElement = document.querySelector('#' + key);\n",
              "        const charts = await google.colab.kernel.invokeFunction(\n",
              "            'suggestCharts', [key], {});\n",
              "      }\n",
              "    </script>\n",
              "\n",
              "      <script>\n",
              "\n",
              "function displayQuickchartButton(domScope) {\n",
              "  let quickchartButtonEl =\n",
              "    domScope.querySelector('#df-62a9811c-760e-4538-a58b-c114d4531d5a button.colab-df-quickchart');\n",
              "  quickchartButtonEl.style.display =\n",
              "    google.colab.kernel.accessAllowed ? 'block' : 'none';\n",
              "}\n",
              "\n",
              "        displayQuickchartButton(document);\n",
              "      </script>\n",
              "      <style>\n",
              "    .colab-df-container {\n",
              "      display:flex;\n",
              "      flex-wrap:wrap;\n",
              "      gap: 12px;\n",
              "    }\n",
              "\n",
              "    .colab-df-convert {\n",
              "      background-color: #E8F0FE;\n",
              "      border: none;\n",
              "      border-radius: 50%;\n",
              "      cursor: pointer;\n",
              "      display: none;\n",
              "      fill: #1967D2;\n",
              "      height: 32px;\n",
              "      padding: 0 0 0 0;\n",
              "      width: 32px;\n",
              "    }\n",
              "\n",
              "    .colab-df-convert:hover {\n",
              "      background-color: #E2EBFA;\n",
              "      box-shadow: 0px 1px 2px rgba(60, 64, 67, 0.3), 0px 1px 3px 1px rgba(60, 64, 67, 0.15);\n",
              "      fill: #174EA6;\n",
              "    }\n",
              "\n",
              "    [theme=dark] .colab-df-convert {\n",
              "      background-color: #3B4455;\n",
              "      fill: #D2E3FC;\n",
              "    }\n",
              "\n",
              "    [theme=dark] .colab-df-convert:hover {\n",
              "      background-color: #434B5C;\n",
              "      box-shadow: 0px 1px 3px 1px rgba(0, 0, 0, 0.15);\n",
              "      filter: drop-shadow(0px 1px 2px rgba(0, 0, 0, 0.3));\n",
              "      fill: #FFFFFF;\n",
              "    }\n",
              "  </style>\n",
              "\n",
              "      <script>\n",
              "        const buttonEl =\n",
              "          document.querySelector('#df-06aad602-c40b-4231-9742-3519f0dd682f button.colab-df-convert');\n",
              "        buttonEl.style.display =\n",
              "          google.colab.kernel.accessAllowed ? 'block' : 'none';\n",
              "\n",
              "        async function convertToInteractive(key) {\n",
              "          const element = document.querySelector('#df-06aad602-c40b-4231-9742-3519f0dd682f');\n",
              "          const dataTable =\n",
              "            await google.colab.kernel.invokeFunction('convertToInteractive',\n",
              "                                                     [key], {});\n",
              "          if (!dataTable) return;\n",
              "\n",
              "          const docLinkHtml = 'Like what you see? Visit the ' +\n",
              "            '<a target=\"_blank\" href=https://colab.research.google.com/notebooks/data_table.ipynb>data table notebook</a>'\n",
              "            + ' to learn more about interactive tables.';\n",
              "          element.innerHTML = '';\n",
              "          dataTable['output_type'] = 'display_data';\n",
              "          await google.colab.output.renderOutput(dataTable, element);\n",
              "          const docLink = document.createElement('div');\n",
              "          docLink.innerHTML = docLinkHtml;\n",
              "          element.appendChild(docLink);\n",
              "        }\n",
              "      </script>\n",
              "    </div>\n",
              "  </div>\n"
            ]
          },
          "metadata": {},
          "execution_count": 20
        }
      ]
    },
    {
      "cell_type": "markdown",
      "source": [
        "**y_vloss에 테스트셋(여기서는 검증셋)의 오차를 저장**"
      ],
      "metadata": {
        "id": "Zx2hus9C3wpI"
      }
    },
    {
      "cell_type": "code",
      "source": [
        "y_vloss=hist_df['val_loss']"
      ],
      "metadata": {
        "id": "yDIKZLH43d_z"
      },
      "execution_count": 21,
      "outputs": []
    },
    {
      "cell_type": "markdown",
      "source": [
        "**y_loss에 학습셋의 오차를 저장**"
      ],
      "metadata": {
        "id": "Jz40w_Es3zaa"
      }
    },
    {
      "cell_type": "code",
      "source": [
        "y_loss=hist_df['loss']"
      ],
      "metadata": {
        "id": "ryUULfzKvRW4"
      },
      "execution_count": 22,
      "outputs": []
    },
    {
      "cell_type": "markdown",
      "source": [
        "**x값을 지정**\n",
        "- 테스트셋(검증셋)의 오차를 빨간색으로 표시\n",
        "- 학습셋의 오차를 파란색으로 표시"
      ],
      "metadata": {
        "id": "X-Smd6eM30Rw"
      }
    },
    {
      "cell_type": "code",
      "source": [
        "x_len = np.arange(len(y_loss))\n",
        "plt.plot(x_len, y_vloss, \"o\", c=\"red\", markersize=2, label='Testset_loss')\n",
        "plt.plot(x_len, y_loss, \"o\", c=\"blue\", markersize=2, label='Trainset_loss')\n",
        "\n",
        "plt.legend(loc='upper right')\n",
        "plt.xlabel('epoch')\n",
        "plt.ylabel('loss')\n",
        "plt.show"
      ],
      "metadata": {
        "colab": {
          "base_uri": "https://localhost:8080/",
          "height": 467
        },
        "id": "BkuT2b1RvRDy",
        "outputId": "72bd6280-a9e8-4b6e-d540-65b4d288d60c"
      },
      "execution_count": 23,
      "outputs": [
        {
          "output_type": "execute_result",
          "data": {
            "text/plain": [
              "<function matplotlib.pyplot.show(close=None, block=None)>"
            ]
          },
          "metadata": {},
          "execution_count": 23
        },
        {
          "output_type": "display_data",
          "data": {
            "text/plain": [
              "<Figure size 640x480 with 1 Axes>"
            ],
            "image/png": "[encoded data removed]"
          },
          "metadata": {}
        }
      ]
    },
    {
      "cell_type": "markdown",
      "source": [
        "# **4. 학습의 자동중단**\n",
        "**학습이 언제 자동중단될지 설정**"
      ],
      "metadata": {
        "id": "FJUdXpf0304d"
      }
    },
    {
      "cell_type": "markdown",
      "source": [
        "- **`EarlyStopping`**:\n",
        "  - EarlyStopping은 모델 학습 중에 일정 조건을 모니터링하고, 조건이 충족되면 학습을 중지하는 콜백입니다.\n",
        "\n",
        "- **`monitor='val_loss'`**:\n",
        "  - monitor 매개변수는 어떤 지표(metric)를 모니터링할지를 지정합니다. 이 경우 'val_loss'를 지정하였으므로, 검증 데이터(validation data)에 대한 손실(loss)을 모니터링하게 됩니다. 손실값이 감소하는지를 확인하여 조기 종료를 결정하게 됩니다.\n",
        "\n",
        "- **`patience=20`**:\n",
        " - patience 매개변수는 조기 종료를 결정하기 위해 얼마나 기다릴지를 지정합니다. 여기서는 20으로 설정되어 있으므로, 검증 손실값이 20 에포크 동안 감소하지 않으면 학습을 종료합니다."
      ],
      "metadata": {
        "id": "uGBMep9hEkob"
      }
    },
    {
      "cell_type": "code",
      "source": [
        "from tensorflow.keras.callbacks import ModelCheckpoint, EarlyStopping\n",
        "\n",
        "early_stopping_callback = EarlyStopping(monitor='val_loss',patience=20)\n",
        "# val_loss이 줄어드는 상태를 계속 모니터링\n",
        "# 20번 반복한 뒤 중단"
      ],
      "metadata": {
        "id": "QZtuj1Ae31nB"
      },
      "execution_count": 25,
      "outputs": []
    },
    {
      "cell_type": "markdown",
      "source": [
        "**최적화 모델이 저장될 폴더와 모델이름 설정**"
      ],
      "metadata": {
        "id": "9BOPpX1J4V_j"
      }
    },
    {
      "cell_type": "code",
      "source": [
        "modelpath='./model/bestmodel.hdf5'\n",
        "# hdf5=Hierachical Data Format(메타데이터를 그룹화하여 저장)"
      ],
      "metadata": {
        "id": "oyTxutjW4ZiK"
      },
      "execution_count": 26,
      "outputs": []
    },
    {
      "cell_type": "markdown",
      "source": [
        "**최적화 모델을 업데이트하고 저장**"
      ],
      "metadata": {
        "id": "9w8g-dxz4atK"
      }
    },
    {
      "cell_type": "code",
      "source": [
        "checkpointer = ModelCheckpoint(filepath=modelpath, monitor='val_loss', verbose=0, save_best_only=True)"
      ],
      "metadata": {
        "id": "5geI14d_4dPK"
      },
      "execution_count": 28,
      "outputs": []
    },
    {
      "cell_type": "markdown",
      "source": [
        "**모델 실행**"
      ],
      "metadata": {
        "id": "CbSwgfA34dmG"
      }
    },
    {
      "cell_type": "code",
      "source": [
        "history=model.fit(X_train, y_train, epochs=2000, batch_size=500, validation_split=0.25, verbose=1,\n",
        "                  callbacks=[early_stopping_callback, checkpointer])"
      ],
      "metadata": {
        "id": "bE7NWlYz4fs2"
      },
      "execution_count": null,
      "outputs": []
    },
    {
      "cell_type": "markdown",
      "source": [
        "**테스트 결과 출력**"
      ],
      "metadata": {
        "id": "irDtdA0v4gtS"
      }
    },
    {
      "cell_type": "code",
      "source": [
        "score = model.evaluate(X_test, y_test)\n",
        "print('Test accuracy: ', score[1])"
      ],
      "metadata": {
        "colab": {
          "base_uri": "https://localhost:8080/"
        },
        "id": "_b7keS8F4i-B",
        "outputId": "8d44a627-2872-497d-b689-12f4d7373592"
      },
      "execution_count": 30,
      "outputs": [
        {
          "output_type": "stream",
          "name": "stdout",
          "text": [
            "41/41 [==============================] - 0s 2ms/step - loss: 0.0378 - accuracy: 0.9908\n",
            "Test accuracy:  0.9907692074775696\n"
          ]
        }
      ]
    }
  ]
}