{
 "cells": [
  {
   "cell_type": "markdown",
   "id": "fda416de",
   "metadata": {},
   "source": [
    "# 사이킷런을 이용해 붓꽃(Iris) 데이터 품종 예측하기"
   ]
  },
  {
   "cell_type": "code",
   "execution_count": 2,
   "id": "b32eff06",
   "metadata": {},
   "outputs": [
    {
     "name": "stdout",
     "output_type": "stream",
     "text": [
      "1.0.2\n"
     ]
    }
   ],
   "source": [
    "import sklearn\n",
    "print(sklearn.__version__) # 사이킷런 버전 확인"
   ]
  },
  {
   "cell_type": "markdown",
   "id": "dcd29a06",
   "metadata": {},
   "source": [
    "## 붓꽃 예측을 위한 사이킷런 필요 모듈 로딩"
   ]
  },
  {
   "cell_type": "code",
   "execution_count": 16,
   "id": "6764999a",
   "metadata": {},
   "outputs": [],
   "source": [
    "from sklearn.datasets import load_iris\n",
    "from sklearn.tree import DecisionTreeClassifier\n",
    "from sklearn.model_selection import train_test_split"
   ]
  },
  {
   "cell_type": "markdown",
   "id": "099c8052",
   "metadata": {},
   "source": [
    "+ sklearn.datasets : ML작업에 자주사용되는 일련의 데이터셋 제공\n",
    "+ sklearn.tree : 의사결정 트리 기반 알고리즘을 제공\n",
    "+ DecisionTreeClassifier : 의사결정 트리는 분류 작업에 사용되는 지도 학습 모델\n",
    "+ sklearn.model_selection : 데이터셋을 훈련 세트와 테스트 세트로 나누는 기능,교차 검증 기법 및 모델 선택 및 평가를 위한 기타 유틸리티를 제공"
   ]
  },
  {
   "cell_type": "markdown",
   "id": "cb5e884a",
   "metadata": {},
   "source": [
    "## 데이터 세트를 로딩"
   ]
  },
  {
   "cell_type": "code",
   "execution_count": 7,
   "id": "b6e66c81",
   "metadata": {},
   "outputs": [
    {
     "name": "stdout",
     "output_type": "stream",
     "text": [
      "iris target값: [0 0 0 0 0 0 0 0 0 0 0 0 0 0 0 0 0 0 0 0 0 0 0 0 0 0 0 0 0 0 0 0 0 0 0 0 0\n",
      " 0 0 0 0 0 0 0 0 0 0 0 0 0 1 1 1 1 1 1 1 1 1 1 1 1 1 1 1 1 1 1 1 1 1 1 1 1\n",
      " 1 1 1 1 1 1 1 1 1 1 1 1 1 1 1 1 1 1 1 1 1 1 1 1 1 1 2 2 2 2 2 2 2 2 2 2 2\n",
      " 2 2 2 2 2 2 2 2 2 2 2 2 2 2 2 2 2 2 2 2 2 2 2 2 2 2 2 2 2 2 2 2 2 2 2 2 2\n",
      " 2 2]\n",
      "iris target명: ['setosa' 'versicolor' 'virginica']\n"
     ]
    },
    {
     "data": {
      "text/html": [
       "<div>\n",
       "<style scoped>\n",
       "    .dataframe tbody tr th:only-of-type {\n",
       "        vertical-align: middle;\n",
       "    }\n",
       "\n",
       "    .dataframe tbody tr th {\n",
       "        vertical-align: top;\n",
       "    }\n",
       "\n",
       "    .dataframe thead th {\n",
       "        text-align: right;\n",
       "    }\n",
       "</style>\n",
       "<table border=\"1\" class=\"dataframe\">\n",
       "  <thead>\n",
       "    <tr style=\"text-align: right;\">\n",
       "      <th></th>\n",
       "      <th>sepal length (cm)</th>\n",
       "      <th>sepal width (cm)</th>\n",
       "      <th>petal length (cm)</th>\n",
       "      <th>petal width (cm)</th>\n",
       "      <th>label</th>\n",
       "    </tr>\n",
       "  </thead>\n",
       "  <tbody>\n",
       "    <tr>\n",
       "      <th>0</th>\n",
       "      <td>5.1</td>\n",
       "      <td>3.5</td>\n",
       "      <td>1.4</td>\n",
       "      <td>0.2</td>\n",
       "      <td>0</td>\n",
       "    </tr>\n",
       "    <tr>\n",
       "      <th>1</th>\n",
       "      <td>4.9</td>\n",
       "      <td>3.0</td>\n",
       "      <td>1.4</td>\n",
       "      <td>0.2</td>\n",
       "      <td>0</td>\n",
       "    </tr>\n",
       "    <tr>\n",
       "      <th>2</th>\n",
       "      <td>4.7</td>\n",
       "      <td>3.2</td>\n",
       "      <td>1.3</td>\n",
       "      <td>0.2</td>\n",
       "      <td>0</td>\n",
       "    </tr>\n",
       "  </tbody>\n",
       "</table>\n",
       "</div>"
      ],
      "text/plain": [
       "   sepal length (cm)  sepal width (cm)  petal length (cm)  petal width (cm)  \\\n",
       "0                5.1               3.5                1.4               0.2   \n",
       "1                4.9               3.0                1.4               0.2   \n",
       "2                4.7               3.2                1.3               0.2   \n",
       "\n",
       "   label  \n",
       "0      0  \n",
       "1      0  \n",
       "2      0  "
      ]
     },
     "execution_count": 7,
     "metadata": {},
     "output_type": "execute_result"
    }
   ],
   "source": [
    "import pandas as pd\n",
    "\n",
    "# ① 붓꽃 데이터 세트 로딩\n",
    "iris = load_iris()\n",
    "\n",
    "# ② iris.data는 Iris 데이터 세트에서 피쳐(feature)만으로 된 데이터를 numpy로 갖고 있음\n",
    "iris_data = iris.data\n",
    "\n",
    "# ③ iris.target은 붓꽃 데이터 세트에서 레이블(결정 값)데이터를 numpy로 갖고 있음\n",
    "iris_label = iris.target\n",
    "print('iris target값:',iris_label)\n",
    "print('iris target명:',iris.target_names)\n",
    "\n",
    "# ④ 붓꽃 데이터 세트를 자세히 보기 위해 DataFrame로 변환\n",
    "iris_df = pd.DataFrame(data=iris_data, columns=iris.feature_names)\n",
    "iris_df['label'] = iris.target\n",
    "iris_df.head(3)"
   ]
  },
  {
   "cell_type": "markdown",
   "id": "6ec9cd4a",
   "metadata": {},
   "source": [
    "## 학습데이터와 테스트데이터 세트로 분리"
   ]
  },
  {
   "cell_type": "code",
   "execution_count": 17,
   "id": "5bbf24e1",
   "metadata": {},
   "outputs": [],
   "source": [
    "X_train, X_test , y_train , y_test = train_test_split(iris_data , iris_label , test_size =0.2, random_state =11)"
   ]
  },
  {
   "cell_type": "markdown",
   "id": "33171997",
   "metadata": {},
   "source": [
    "+ X_train : feature\n",
    "+ Y_train : Label\n",
    "+ test_size : 전체 데이터에서 테스트 데이터 세트 크기를 얼마로 샘플링 할 것인가를 결정 (디폴트는 0.25, 25%)\n",
    "+ train_size : 전체 데이터에서 학습용 데이터 세트 크기를 얼마로 샘플링 할 것인가를 결정\n",
    "+ shuffle : 데이터를 분리하기 전에 데이터를 미리 섞을지 결정, 디폴트는 True, 데이터를 분산시켜서 더 효율적인 학습 및 테스트 데이터 세트를 만드는 데 사용\n",
    "+ random_state : 호출할 때마다 동일한 학습/테스트용 데이터 세트를 생성하기 위해 주어지는 난수 값"
   ]
  },
  {
   "cell_type": "markdown",
   "id": "e89e3dc2",
   "metadata": {},
   "source": [
    "## 학습 데이터 세트로 학습(Train)수행"
   ]
  },
  {
   "cell_type": "code",
   "execution_count": 10,
   "id": "7f3ae221",
   "metadata": {},
   "outputs": [
    {
     "data": {
      "text/plain": [
       "DecisionTreeClassifier(random_state=11)"
      ]
     },
     "execution_count": 10,
     "metadata": {},
     "output_type": "execute_result"
    }
   ],
   "source": [
    "# DecisionTreeClassifier 객체 생성\n",
    "dt_clf = DecisionTreeClassifier(random_state=11)\n",
    "\n",
    "# 학습 수행(DecisionTreeClassifier 모델을 훈련 데이터로 학습시키는 과정)\n",
    "dt_clf.fit(X_train, y_train)"
   ]
  },
  {
   "cell_type": "markdown",
   "id": "80432869",
   "metadata": {},
   "source": [
    "+ fit(): 모델을 훈련하는 메서드로 훈련 데이터를 입력으로 받아 모델을 학습시킴"
   ]
  },
  {
   "cell_type": "markdown",
   "id": "7df81bbe",
   "metadata": {},
   "source": [
    "## 테스트 데이터 세트로 예측(Predict) 수행"
   ]
  },
  {
   "cell_type": "code",
   "execution_count": 11,
   "id": "eaa1970e",
   "metadata": {},
   "outputs": [
    {
     "data": {
      "text/plain": [
       "array([2, 2, 1, 1, 2, 0, 1, 0, 0, 1, 1, 1, 1, 2, 2, 0, 2, 1, 2, 2, 1, 0,\n",
       "       0, 1, 0, 0, 2, 1, 0, 1])"
      ]
     },
     "execution_count": 11,
     "metadata": {},
     "output_type": "execute_result"
    }
   ],
   "source": [
    "pred = dt_clf.predict(X_test)\n",
    "pred"
   ]
  },
  {
   "cell_type": "markdown",
   "id": "bb8f07ae",
   "metadata": {},
   "source": [
    "+ **pred** : 예측 결과를 저장할 변수(모델이 테스트 데이터를 예측한 결과는 pred 변수에 저장)\n",
    "+ **dt_clf** : 학습된 DecisionTreeClassifier 모델입니다. 이 모델은 이전에 훈련 데이터로 학습되었고, 테스트 데이터를 기반으로 예측을 수행할 준비가 되어 있어야 함"
   ]
  },
  {
   "cell_type": "markdown",
   "id": "d7ae287e",
   "metadata": {},
   "source": [
    "## 예측 정확도 평가"
   ]
  },
  {
   "cell_type": "code",
   "execution_count": 15,
   "id": "53c6bedb",
   "metadata": {},
   "outputs": [
    {
     "name": "stdout",
     "output_type": "stream",
     "text": [
      "예측 정확도: 0.9333\n"
     ]
    }
   ],
   "source": [
    "from sklearn.metrics import accuracy_score\n",
    "print('예측 정확도: {0:.4f}'.format(accuracy_score(y_test,pred)))"
   ]
  },
  {
   "cell_type": "markdown",
   "id": "365cf0ae",
   "metadata": {},
   "source": [
    "#### accuracy_score \n",
    "+ 함수를 사용하여 예측 결과 pred와 실제 레이블 y_test 사이의 정확도를 계산\n",
    "+ 이 함수는 두 개의 인자를 받으며, 첫 번째 인자는 실제 레이블, 두 번째 인자는 예측 결과를 전달\n",
    "+ 함수는 예측 결과와 실제 레이블을 비교하여 정확히 일치하는 비율을 계산하여 반환합니다.\n",
    "\n",
    "#### {0:.4f}는 형식 지정자(format specifier)\n",
    "+ 첫 번째 인자로부터 받은 값을 소수점 네 자리까지 표시하는 것을 의미"
   ]
  }
 ],
 "metadata": {
  "kernelspec": {
   "display_name": "Python 3 (ipykernel)",
   "language": "python",
   "name": "python3"
  },
  "language_info": {
   "codemirror_mode": {
    "name": "ipython",
    "version": 3
   },
   "file_extension": ".py",
   "mimetype": "text/x-python",
   "name": "python",
   "nbconvert_exporter": "python",
   "pygments_lexer": "ipython3",
   "version": "3.9.13"
  }
 },
 "nbformat": 4,
 "nbformat_minor": 5
}
